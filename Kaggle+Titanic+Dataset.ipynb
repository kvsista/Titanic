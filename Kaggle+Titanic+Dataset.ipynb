{
 "cells": [
  {
   "cell_type": "code",
   "execution_count": 1,
   "metadata": {
    "collapsed": false
   },
   "outputs": [],
   "source": [
    "# Load new data\n",
    "test <- read.csv(\"C:/Users/Apurva Sista/Desktop/RLearn/test.csv\", header = TRUE)\n",
    "train <- read.csv(\"C:/Users/Apurva Sista/Desktop/RLearn/train.csv\", header = TRUE)"
   ]
  },
  {
   "cell_type": "code",
   "execution_count": 2,
   "metadata": {
    "collapsed": true
   },
   "outputs": [],
   "source": [
    "# Add a \"survived\" variable to the test set to allow for combining data sets\n",
    "test.survived <- data.frame(Survived = rep(\"none\", nrow(test)),test[,])"
   ]
  },
  {
   "cell_type": "code",
   "execution_count": 3,
   "metadata": {
    "collapsed": false
   },
   "outputs": [],
   "source": [
    "# Combine the data sets\n",
    "data.combined <- rbind(train, test.survived)"
   ]
  },
  {
   "cell_type": "code",
   "execution_count": 4,
   "metadata": {
    "collapsed": false
   },
   "outputs": [
    {
     "data": {
      "text/html": [
       "<table>\n",
       "<thead><tr><th scope=col>Survived</th><th scope=col>PassengerId</th><th scope=col>Pclass</th><th scope=col>Name</th><th scope=col>Sex</th><th scope=col>Age</th><th scope=col>SibSp</th><th scope=col>Parch</th><th scope=col>Ticket</th><th scope=col>Fare</th><th scope=col>Cabin</th><th scope=col>Embarked</th></tr></thead>\n",
       "<tbody>\n",
       "\t<tr><td>0                                                  </td><td>1                                                  </td><td>3                                                  </td><td>Braund, Mr. Owen Harris                            </td><td>male                                               </td><td>22                                                 </td><td>1                                                  </td><td>0                                                  </td><td>A/5 21171                                          </td><td> 7.2500                                            </td><td>                                                   </td><td>S                                                  </td></tr>\n",
       "\t<tr><td>1                                                  </td><td>2                                                  </td><td>1                                                  </td><td>Cumings, Mrs. John Bradley (Florence Briggs Thayer)</td><td>female                                             </td><td>38                                                 </td><td>1                                                  </td><td>0                                                  </td><td>PC 17599                                           </td><td>71.2833                                            </td><td>C85                                                </td><td>C                                                  </td></tr>\n",
       "\t<tr><td>1                                                  </td><td>3                                                  </td><td>3                                                  </td><td>Heikkinen, Miss. Laina                             </td><td>female                                             </td><td>26                                                 </td><td>0                                                  </td><td>0                                                  </td><td>STON/O2. 3101282                                   </td><td> 7.9250                                            </td><td>                                                   </td><td>S                                                  </td></tr>\n",
       "\t<tr><td>1                                                  </td><td>4                                                  </td><td>1                                                  </td><td>Futrelle, Mrs. Jacques Heath (Lily May Peel)       </td><td>female                                             </td><td>35                                                 </td><td>1                                                  </td><td>0                                                  </td><td>113803                                             </td><td>53.1000                                            </td><td>C123                                               </td><td>S                                                  </td></tr>\n",
       "\t<tr><td>0                                                  </td><td>5                                                  </td><td>3                                                  </td><td>Allen, Mr. William Henry                           </td><td>male                                               </td><td>35                                                 </td><td>0                                                  </td><td>0                                                  </td><td>373450                                             </td><td> 8.0500                                            </td><td>                                                   </td><td>S                                                  </td></tr>\n",
       "\t<tr><td>0                                                  </td><td>6                                                  </td><td>3                                                  </td><td>Moran, Mr. James                                   </td><td>male                                               </td><td>NA                                                 </td><td>0                                                  </td><td>0                                                  </td><td>330877                                             </td><td> 8.4583                                            </td><td>                                                   </td><td>Q                                                  </td></tr>\n",
       "</tbody>\n",
       "</table>\n"
      ],
      "text/latex": [
       "\\begin{tabular}{r|llllllllllll}\n",
       " Survived & PassengerId & Pclass & Name & Sex & Age & SibSp & Parch & Ticket & Fare & Cabin & Embarked\\\\\n",
       "\\hline\n",
       "\t 0                                                   & 1                                                   & 3                                                   & Braund, Mr. Owen Harris                             & male                                                & 22                                                  & 1                                                   & 0                                                   & A/5 21171                                           &  7.2500                                             &                                                     & S                                                  \\\\\n",
       "\t 1                                                   & 2                                                   & 1                                                   & Cumings, Mrs. John Bradley (Florence Briggs Thayer) & female                                              & 38                                                  & 1                                                   & 0                                                   & PC 17599                                            & 71.2833                                             & C85                                                 & C                                                  \\\\\n",
       "\t 1                                                   & 3                                                   & 3                                                   & Heikkinen, Miss. Laina                              & female                                              & 26                                                  & 0                                                   & 0                                                   & STON/O2. 3101282                                    &  7.9250                                             &                                                     & S                                                  \\\\\n",
       "\t 1                                                   & 4                                                   & 1                                                   & Futrelle, Mrs. Jacques Heath (Lily May Peel)        & female                                              & 35                                                  & 1                                                   & 0                                                   & 113803                                              & 53.1000                                             & C123                                                & S                                                  \\\\\n",
       "\t 0                                                   & 5                                                   & 3                                                   & Allen, Mr. William Henry                            & male                                                & 35                                                  & 0                                                   & 0                                                   & 373450                                              &  8.0500                                             &                                                     & S                                                  \\\\\n",
       "\t 0                                                   & 6                                                   & 3                                                   & Moran, Mr. James                                    & male                                                & NA                                                  & 0                                                   & 0                                                   & 330877                                              &  8.4583                                             &                                                     & Q                                                  \\\\\n",
       "\\end{tabular}\n"
      ],
      "text/markdown": [
       "\n",
       "Survived | PassengerId | Pclass | Name | Sex | Age | SibSp | Parch | Ticket | Fare | Cabin | Embarked | \n",
       "|---|---|---|---|---|---|\n",
       "| 0                                                   | 1                                                   | 3                                                   | Braund, Mr. Owen Harris                             | male                                                | 22                                                  | 1                                                   | 0                                                   | A/5 21171                                           |  7.2500                                             |                                                     | S                                                   | \n",
       "| 1                                                   | 2                                                   | 1                                                   | Cumings, Mrs. John Bradley (Florence Briggs Thayer) | female                                              | 38                                                  | 1                                                   | 0                                                   | PC 17599                                            | 71.2833                                             | C85                                                 | C                                                   | \n",
       "| 1                                                   | 3                                                   | 3                                                   | Heikkinen, Miss. Laina                              | female                                              | 26                                                  | 0                                                   | 0                                                   | STON/O2. 3101282                                    |  7.9250                                             |                                                     | S                                                   | \n",
       "| 1                                                   | 4                                                   | 1                                                   | Futrelle, Mrs. Jacques Heath (Lily May Peel)        | female                                              | 35                                                  | 1                                                   | 0                                                   | 113803                                              | 53.1000                                             | C123                                                | S                                                   | \n",
       "| 0                                                   | 5                                                   | 3                                                   | Allen, Mr. William Henry                            | male                                                | 35                                                  | 0                                                   | 0                                                   | 373450                                              |  8.0500                                             |                                                     | S                                                   | \n",
       "| 0                                                   | 6                                                   | 3                                                   | Moran, Mr. James                                    | male                                                | NA                                                  | 0                                                   | 0                                                   | 330877                                              |  8.4583                                             |                                                     | Q                                                   | \n",
       "\n",
       "\n"
      ],
      "text/plain": [
       "  Survived PassengerId Pclass\n",
       "1 0        1           3     \n",
       "2 1        2           1     \n",
       "3 1        3           3     \n",
       "4 1        4           1     \n",
       "5 0        5           3     \n",
       "6 0        6           3     \n",
       "  Name                                                Sex    Age SibSp Parch\n",
       "1 Braund, Mr. Owen Harris                             male   22  1     0    \n",
       "2 Cumings, Mrs. John Bradley (Florence Briggs Thayer) female 38  1     0    \n",
       "3 Heikkinen, Miss. Laina                              female 26  0     0    \n",
       "4 Futrelle, Mrs. Jacques Heath (Lily May Peel)        female 35  1     0    \n",
       "5 Allen, Mr. William Henry                            male   35  0     0    \n",
       "6 Moran, Mr. James                                    male   NA  0     0    \n",
       "  Ticket           Fare    Cabin Embarked\n",
       "1 A/5 21171         7.2500       S       \n",
       "2 PC 17599         71.2833 C85   C       \n",
       "3 STON/O2. 3101282  7.9250       S       \n",
       "4 113803           53.1000 C123  S       \n",
       "5 373450            8.0500       S       \n",
       "6 330877            8.4583       Q       "
      ]
     },
     "metadata": {},
     "output_type": "display_data"
    }
   ],
   "source": [
    "head(data.combined)"
   ]
  },
  {
   "cell_type": "code",
   "execution_count": 5,
   "metadata": {
    "collapsed": false
   },
   "outputs": [
    {
     "name": "stdout",
     "output_type": "stream",
     "text": [
      "'data.frame':\t1309 obs. of  12 variables:\n",
      " $ Survived   : chr  \"0\" \"1\" \"1\" \"1\" ...\n",
      " $ PassengerId: int  1 2 3 4 5 6 7 8 9 10 ...\n",
      " $ Pclass     : int  3 1 3 1 3 3 1 3 3 2 ...\n",
      " $ Name       : Factor w/ 1307 levels \"Abbing, Mr. Anthony\",..: 109 191 358 277 16 559 520 629 417 581 ...\n",
      " $ Sex        : Factor w/ 2 levels \"female\",\"male\": 2 1 1 1 2 2 2 2 1 1 ...\n",
      " $ Age        : num  22 38 26 35 35 NA 54 2 27 14 ...\n",
      " $ SibSp      : int  1 1 0 1 0 0 0 3 0 1 ...\n",
      " $ Parch      : int  0 0 0 0 0 0 0 1 2 0 ...\n",
      " $ Ticket     : Factor w/ 929 levels \"110152\",\"110413\",..: 524 597 670 50 473 276 86 396 345 133 ...\n",
      " $ Fare       : num  7.25 71.28 7.92 53.1 8.05 ...\n",
      " $ Cabin      : Factor w/ 187 levels \"\",\"A10\",\"A14\",..: 1 83 1 57 1 1 131 1 1 1 ...\n",
      " $ Embarked   : Factor w/ 4 levels \"\",\"C\",\"Q\",\"S\": 4 2 4 4 4 3 4 4 4 2 ...\n"
     ]
    }
   ],
   "source": [
    "# A bit about R data types (eg. factors,....etc.)\n",
    "str(data.combined)"
   ]
  },
  {
   "cell_type": "code",
   "execution_count": 6,
   "metadata": {
    "collapsed": true
   },
   "outputs": [],
   "source": [
    "data.combined$Survived <- as.factor(data.combined$Survived)\n",
    "data.combined$Pclass <- as.factor(data.combined$Pclass)\n",
    "data.combined$PassengerId <- as.factor(data.combined$PassengerId)"
   ]
  },
  {
   "cell_type": "code",
   "execution_count": 7,
   "metadata": {
    "collapsed": false
   },
   "outputs": [
    {
     "data": {
      "text/plain": [
       "\n",
       "   0    1 none \n",
       " 549  342  418 "
      ]
     },
     "metadata": {},
     "output_type": "display_data"
    }
   ],
   "source": [
    "# Take a look at the gross survival rates\n",
    "table(data.combined$Survived)"
   ]
  },
  {
   "cell_type": "code",
   "execution_count": 8,
   "metadata": {
    "collapsed": false
   },
   "outputs": [
    {
     "data": {
      "text/plain": [
       "   \n",
       "      0   1 none\n",
       "  1  80 136  107\n",
       "  2  97  87   93\n",
       "  3 372 119  218"
      ]
     },
     "metadata": {},
     "output_type": "display_data"
    }
   ],
   "source": [
    "# Let's look at the Pclass variable in terms of Survival\n",
    "table(data.combined$Pclass,data.combined$Survived)"
   ]
  },
  {
   "cell_type": "code",
   "execution_count": 9,
   "metadata": {
    "collapsed": false
   },
   "outputs": [
    {
     "name": "stdout",
     "output_type": "stream",
     "text": [
      "'data.frame':\t891 obs. of  12 variables:\n",
      " $ Survived   : Factor w/ 2 levels \"0\",\"1\": 1 2 2 2 1 1 1 1 2 2 ...\n",
      " $ PassengerId: int  1 2 3 4 5 6 7 8 9 10 ...\n",
      " $ Pclass     : Factor w/ 3 levels \"1\",\"2\",\"3\": 3 1 3 1 3 3 1 3 3 2 ...\n",
      " $ Name       : Factor w/ 891 levels \"Abbing, Mr. Anthony\",..: 109 191 358 277 16 559 520 629 417 581 ...\n",
      " $ Sex        : Factor w/ 2 levels \"female\",\"male\": 2 1 1 1 2 2 2 2 1 1 ...\n",
      " $ Age        : num  22 38 26 35 35 NA 54 2 27 14 ...\n",
      " $ SibSp      : int  1 1 0 1 0 0 0 3 0 1 ...\n",
      " $ Parch      : int  0 0 0 0 0 0 0 1 2 0 ...\n",
      " $ Ticket     : Factor w/ 681 levels \"110152\",\"110413\",..: 524 597 670 50 473 276 86 396 345 133 ...\n",
      " $ Fare       : num  7.25 71.28 7.92 53.1 8.05 ...\n",
      " $ Cabin      : Factor w/ 148 levels \"\",\"A10\",\"A14\",..: 1 83 1 57 1 1 131 1 1 1 ...\n",
      " $ Embarked   : Factor w/ 4 levels \"\",\"C\",\"Q\",\"S\": 4 2 4 4 4 3 4 4 4 2 ...\n"
     ]
    },
    {
     "data": {},
     "metadata": {},
     "output_type": "display_data"
    },
    {
     "data": {
      "image/png": "[encoded data removed]",
      "text/plain": [
       "plot without title"
      ]
     },
     "metadata": {},
     "output_type": "display_data"
    }
   ],
   "source": [
    "# Load ggplot2 package for visualization\n",
    "library(ggplot2)\n",
    "\n",
    "# Hypothesis is that the rich folks \"survived\"!\n",
    "train$Pclass <- as.factor(train$Pclass)\n",
    "train$Survived <- as.factor(train$Survived)\n",
    "str(train)\n",
    "ggplot(train, aes(x = Pclass, fill = Survived)) +\n",
    "  geom_bar() +\n",
    "  xlab(\"Pclass\") +\n",
    "  ylab(\"Total Count\")"
   ]
  },
  {
   "cell_type": "code",
   "execution_count": 10,
   "metadata": {
    "collapsed": false
   },
   "outputs": [
    {
     "data": {
      "text/html": [
       "<ol class=list-inline>\n",
       "\t<li>'Braund, Mr. Owen Harris'</li>\n",
       "\t<li>'Cumings, Mrs. John Bradley (Florence Briggs Thayer)'</li>\n",
       "\t<li>'Heikkinen, Miss. Laina'</li>\n",
       "\t<li>'Futrelle, Mrs. Jacques Heath (Lily May Peel)'</li>\n",
       "\t<li>'Allen, Mr. William Henry'</li>\n",
       "\t<li>'Moran, Mr. James'</li>\n",
       "</ol>\n"
      ],
      "text/latex": [
       "\\begin{enumerate*}\n",
       "\\item 'Braund, Mr. Owen Harris'\n",
       "\\item 'Cumings, Mrs. John Bradley (Florence Briggs Thayer)'\n",
       "\\item 'Heikkinen, Miss. Laina'\n",
       "\\item 'Futrelle, Mrs. Jacques Heath (Lily May Peel)'\n",
       "\\item 'Allen, Mr. William Henry'\n",
       "\\item 'Moran, Mr. James'\n",
       "\\end{enumerate*}\n"
      ],
      "text/markdown": [
       "1. 'Braund, Mr. Owen Harris'\n",
       "2. 'Cumings, Mrs. John Bradley (Florence Briggs Thayer)'\n",
       "3. 'Heikkinen, Miss. Laina'\n",
       "4. 'Futrelle, Mrs. Jacques Heath (Lily May Peel)'\n",
       "5. 'Allen, Mr. William Henry'\n",
       "6. 'Moran, Mr. James'\n",
       "\n",
       "\n"
      ],
      "text/plain": [
       "[1] \"Braund, Mr. Owen Harris\"                            \n",
       "[2] \"Cumings, Mrs. John Bradley (Florence Briggs Thayer)\"\n",
       "[3] \"Heikkinen, Miss. Laina\"                             \n",
       "[4] \"Futrelle, Mrs. Jacques Heath (Lily May Peel)\"       \n",
       "[5] \"Allen, Mr. William Henry\"                           \n",
       "[6] \"Moran, Mr. James\"                                   "
      ]
     },
     "metadata": {},
     "output_type": "display_data"
    }
   ],
   "source": [
    "# Examining the First names in the training dataset\n",
    "head(as.character(train$Name))"
   ]
  },
  {
   "cell_type": "code",
   "execution_count": 11,
   "metadata": {
    "collapsed": false
   },
   "outputs": [
    {
     "data": {
      "text/html": [
       "1307"
      ],
      "text/latex": [
       "1307"
      ],
      "text/markdown": [
       "1307"
      ],
      "text/plain": [
       "[1] 1307"
      ]
     },
     "metadata": {},
     "output_type": "display_data"
    }
   ],
   "source": [
    "# How many unique names are there in the Test and Train datasets\n",
    "length(unique(as.character(data.combined$Name)))"
   ]
  },
  {
   "cell_type": "code",
   "execution_count": 12,
   "metadata": {
    "collapsed": false
   },
   "outputs": [
    {
     "data": {
      "text/html": [
       "<table>\n",
       "<thead><tr><th></th><th scope=col>Survived</th><th scope=col>PassengerId</th><th scope=col>Pclass</th><th scope=col>Name</th><th scope=col>Sex</th><th scope=col>Age</th><th scope=col>SibSp</th><th scope=col>Parch</th><th scope=col>Ticket</th><th scope=col>Fare</th><th scope=col>Cabin</th><th scope=col>Embarked</th></tr></thead>\n",
       "<tbody>\n",
       "\t<tr><th scope=row>290</th><td>1                   </td><td>290                 </td><td>3                   </td><td>Connolly, Miss. Kate</td><td>female              </td><td>22.0                </td><td>0                   </td><td>0                   </td><td>370373              </td><td>7.7500              </td><td>                    </td><td>Q                   </td></tr>\n",
       "\t<tr><th scope=row>697</th><td>0                   </td><td>697                 </td><td>3                   </td><td>Kelly, Mr. James    </td><td>male                </td><td>44.0                </td><td>0                   </td><td>0                   </td><td>363592              </td><td>8.0500              </td><td>                    </td><td>S                   </td></tr>\n",
       "\t<tr><th scope=row>892</th><td>none                </td><td>892                 </td><td>3                   </td><td>Kelly, Mr. James    </td><td>male                </td><td>34.5                </td><td>0                   </td><td>0                   </td><td>330911              </td><td>7.8292              </td><td>                    </td><td>Q                   </td></tr>\n",
       "\t<tr><th scope=row>898</th><td>none                </td><td>898                 </td><td>3                   </td><td>Connolly, Miss. Kate</td><td>female              </td><td>30.0                </td><td>0                   </td><td>0                   </td><td>330972              </td><td>7.6292              </td><td>                    </td><td>Q                   </td></tr>\n",
       "</tbody>\n",
       "</table>\n"
      ],
      "text/latex": [
       "\\begin{tabular}{r|llllllllllll}\n",
       "  & Survived & PassengerId & Pclass & Name & Sex & Age & SibSp & Parch & Ticket & Fare & Cabin & Embarked\\\\\n",
       "\\hline\n",
       "\t290 & 1                    & 290                  & 3                    & Connolly, Miss. Kate & female               & 22.0                 & 0                    & 0                    & 370373               & 7.7500               &                      & Q                   \\\\\n",
       "\t697 & 0                    & 697                  & 3                    & Kelly, Mr. James     & male                 & 44.0                 & 0                    & 0                    & 363592               & 8.0500               &                      & S                   \\\\\n",
       "\t892 & none                 & 892                  & 3                    & Kelly, Mr. James     & male                 & 34.5                 & 0                    & 0                    & 330911               & 7.8292               &                      & Q                   \\\\\n",
       "\t898 & none                 & 898                  & 3                    & Connolly, Miss. Kate & female               & 30.0                 & 0                    & 0                    & 330972               & 7.6292               &                      & Q                   \\\\\n",
       "\\end{tabular}\n"
      ],
      "text/markdown": [
       "\n",
       "| <!--/--> | Survived | PassengerId | Pclass | Name | Sex | Age | SibSp | Parch | Ticket | Fare | Cabin | Embarked | \n",
       "|---|---|---|---|\n",
       "| 290 | 1                    | 290                  | 3                    | Connolly, Miss. Kate | female               | 22.0                 | 0                    | 0                    | 370373               | 7.7500               |                      | Q                    | \n",
       "| 697 | 0                    | 697                  | 3                    | Kelly, Mr. James     | male                 | 44.0                 | 0                    | 0                    | 363592               | 8.0500               |                      | S                    | \n",
       "| 892 | none                 | 892                  | 3                    | Kelly, Mr. James     | male                 | 34.5                 | 0                    | 0                    | 330911               | 7.8292               |                      | Q                    | \n",
       "| 898 | none                 | 898                  | 3                    | Connolly, Miss. Kate | female               | 30.0                 | 0                    | 0                    | 330972               | 7.6292               |                      | Q                    | \n",
       "\n",
       "\n"
      ],
      "text/plain": [
       "    Survived PassengerId Pclass Name                 Sex    Age  SibSp Parch\n",
       "290 1        290         3      Connolly, Miss. Kate female 22.0 0     0    \n",
       "697 0        697         3      Kelly, Mr. James     male   44.0 0     0    \n",
       "892 none     892         3      Kelly, Mr. James     male   34.5 0     0    \n",
       "898 none     898         3      Connolly, Miss. Kate female 30.0 0     0    \n",
       "    Ticket Fare   Cabin Embarked\n",
       "290 370373 7.7500       Q       \n",
       "697 363592 8.0500       S       \n",
       "892 330911 7.8292       Q       \n",
       "898 330972 7.6292       Q       "
      ]
     },
     "metadata": {},
     "output_type": "display_data"
    }
   ],
   "source": [
    "# There seem to be 2 duplicate names. Let's check\n",
    "# Let's get the duplicate names and store them as a vector\n",
    "dup.names <- as.character(data.combined[which(duplicated(as.character(data.combined$Name))),\"Name\"])\n",
    "\n",
    "# Let's now take a look at the duplicated names in the data.combined dataset\n",
    "data.combined[which(data.combined$Name %in% dup.names),]"
   ]
  },
  {
   "cell_type": "code",
   "execution_count": 13,
   "metadata": {
    "collapsed": false
   },
   "outputs": [
    {
     "data": {
      "text/html": [
       "<table>\n",
       "<thead><tr><th></th><th scope=col>Survived</th><th scope=col>PassengerId</th><th scope=col>Pclass</th><th scope=col>Name</th><th scope=col>Sex</th><th scope=col>Age</th><th scope=col>SibSp</th><th scope=col>Parch</th><th scope=col>Ticket</th><th scope=col>Fare</th><th scope=col>Cabin</th><th scope=col>Embarked</th></tr></thead>\n",
       "<tbody>\n",
       "\t<tr><th scope=row>3</th><td>1                                   </td><td>3                                   </td><td>3                                   </td><td>Heikkinen, Miss. Laina              </td><td>female                              </td><td>26                                  </td><td>0                                   </td><td>0                                   </td><td>STON/O2. 3101282                    </td><td> 7.9250                             </td><td>                                    </td><td>S                                   </td></tr>\n",
       "\t<tr><th scope=row>11</th><td>1                                   </td><td>11                                  </td><td>3                                   </td><td>Sandstrom, Miss. Marguerite Rut     </td><td>female                              </td><td> 4                                  </td><td>1                                   </td><td>1                                   </td><td>PP 9549                             </td><td>16.7000                             </td><td>G6                                  </td><td>S                                   </td></tr>\n",
       "\t<tr><th scope=row>12</th><td>1                                   </td><td>12                                  </td><td>1                                   </td><td>Bonnell, Miss. Elizabeth            </td><td>female                              </td><td>58                                  </td><td>0                                   </td><td>0                                   </td><td>113783                              </td><td>26.5500                             </td><td>C103                                </td><td>S                                   </td></tr>\n",
       "\t<tr><th scope=row>15</th><td>0                                   </td><td>15                                  </td><td>3                                   </td><td>Vestrom, Miss. Hulda Amanda Adolfina</td><td>female                              </td><td>14                                  </td><td>0                                   </td><td>0                                   </td><td>350406                              </td><td> 7.8542                             </td><td>                                    </td><td>S                                   </td></tr>\n",
       "\t<tr><th scope=row>23</th><td>1                                   </td><td>23                                  </td><td>3                                   </td><td>McGowan, Miss. Anna \"Annie\"         </td><td>female                              </td><td>15                                  </td><td>0                                   </td><td>0                                   </td><td>330923                              </td><td> 8.0292                             </td><td>                                    </td><td>Q                                   </td></tr>\n",
       "</tbody>\n",
       "</table>\n"
      ],
      "text/latex": [
       "\\begin{tabular}{r|llllllllllll}\n",
       "  & Survived & PassengerId & Pclass & Name & Sex & Age & SibSp & Parch & Ticket & Fare & Cabin & Embarked\\\\\n",
       "\\hline\n",
       "\t3 & 1                                    & 3                                    & 3                                    & Heikkinen, Miss. Laina               & female                               & 26                                   & 0                                    & 0                                    & STON/O2. 3101282                     &  7.9250                              &                                      & S                                   \\\\\n",
       "\t11 & 1                                    & 11                                   & 3                                    & Sandstrom, Miss. Marguerite Rut      & female                               &  4                                   & 1                                    & 1                                    & PP 9549                              & 16.7000                              & G6                                   & S                                   \\\\\n",
       "\t12 & 1                                    & 12                                   & 1                                    & Bonnell, Miss. Elizabeth             & female                               & 58                                   & 0                                    & 0                                    & 113783                               & 26.5500                              & C103                                 & S                                   \\\\\n",
       "\t15 & 0                                    & 15                                   & 3                                    & Vestrom, Miss. Hulda Amanda Adolfina & female                               & 14                                   & 0                                    & 0                                    & 350406                               &  7.8542                              &                                      & S                                   \\\\\n",
       "\t23 & 1                                    & 23                                   & 3                                    & McGowan, Miss. Anna \"Annie\"          & female                               & 15                                   & 0                                    & 0                                    & 330923                               &  8.0292                              &                                      & Q                                   \\\\\n",
       "\\end{tabular}\n"
      ],
      "text/markdown": [
       "\n",
       "| <!--/--> | Survived | PassengerId | Pclass | Name | Sex | Age | SibSp | Parch | Ticket | Fare | Cabin | Embarked | \n",
       "|---|---|---|---|---|\n",
       "| 3 | 1                                    | 3                                    | 3                                    | Heikkinen, Miss. Laina               | female                               | 26                                   | 0                                    | 0                                    | STON/O2. 3101282                     |  7.9250                              |                                      | S                                    | \n",
       "| 11 | 1                                    | 11                                   | 3                                    | Sandstrom, Miss. Marguerite Rut      | female                               |  4                                   | 1                                    | 1                                    | PP 9549                              | 16.7000                              | G6                                   | S                                    | \n",
       "| 12 | 1                                    | 12                                   | 1                                    | Bonnell, Miss. Elizabeth             | female                               | 58                                   | 0                                    | 0                                    | 113783                               | 26.5500                              | C103                                 | S                                    | \n",
       "| 15 | 0                                    | 15                                   | 3                                    | Vestrom, Miss. Hulda Amanda Adolfina | female                               | 14                                   | 0                                    | 0                                    | 350406                               |  7.8542                              |                                      | S                                    | \n",
       "| 23 | 1                                    | 23                                   | 3                                    | McGowan, Miss. Anna \"Annie\"          | female                               | 15                                   | 0                                    | 0                                    | 330923                               |  8.0292                              |                                      | Q                                    | \n",
       "\n",
       "\n"
      ],
      "text/plain": [
       "   Survived PassengerId Pclass Name                                 Sex    Age\n",
       "3  1        3           3      Heikkinen, Miss. Laina               female 26 \n",
       "11 1        11          3      Sandstrom, Miss. Marguerite Rut      female  4 \n",
       "12 1        12          1      Bonnell, Miss. Elizabeth             female 58 \n",
       "15 0        15          3      Vestrom, Miss. Hulda Amanda Adolfina female 14 \n",
       "23 1        23          3      McGowan, Miss. Anna \"Annie\"          female 15 \n",
       "   SibSp Parch Ticket           Fare    Cabin Embarked\n",
       "3  0     0     STON/O2. 3101282  7.9250       S       \n",
       "11 1     1     PP 9549          16.7000 G6    S       \n",
       "12 0     0     113783           26.5500 C103  S       \n",
       "15 0     0     350406            7.8542       S       \n",
       "23 0     0     330923            8.0292       Q       "
      ]
     },
     "metadata": {},
     "output_type": "display_data"
    },
    {
     "data": {
      "text/html": [
       "<table>\n",
       "<thead><tr><th></th><th scope=col>Survived</th><th scope=col>PassengerId</th><th scope=col>Pclass</th><th scope=col>Name</th><th scope=col>Sex</th><th scope=col>Age</th><th scope=col>SibSp</th><th scope=col>Parch</th><th scope=col>Ticket</th><th scope=col>Fare</th><th scope=col>Cabin</th><th scope=col>Embarked</th></tr></thead>\n",
       "<tbody>\n",
       "\t<tr><th scope=row>2</th><td>1                                                  </td><td>2                                                  </td><td>1                                                  </td><td>Cumings, Mrs. John Bradley (Florence Briggs Thayer)</td><td>female                                             </td><td>38                                                 </td><td>1                                                  </td><td>0                                                  </td><td>PC 17599                                           </td><td>71.2833                                            </td><td>C85                                                </td><td>C                                                  </td></tr>\n",
       "\t<tr><th scope=row>4</th><td>1                                                  </td><td>4                                                  </td><td>1                                                  </td><td>Futrelle, Mrs. Jacques Heath (Lily May Peel)       </td><td>female                                             </td><td>35                                                 </td><td>1                                                  </td><td>0                                                  </td><td>113803                                             </td><td>53.1000                                            </td><td>C123                                               </td><td>S                                                  </td></tr>\n",
       "\t<tr><th scope=row>9</th><td>1                                                  </td><td>9                                                  </td><td>3                                                  </td><td>Johnson, Mrs. Oscar W (Elisabeth Vilhelmina Berg)  </td><td>female                                             </td><td>27                                                 </td><td>0                                                  </td><td>2                                                  </td><td>347742                                             </td><td>11.1333                                            </td><td>                                                   </td><td>S                                                  </td></tr>\n",
       "\t<tr><th scope=row>10</th><td>1                                                  </td><td>10                                                 </td><td>2                                                  </td><td>Nasser, Mrs. Nicholas (Adele Achem)                </td><td>female                                             </td><td>14                                                 </td><td>1                                                  </td><td>0                                                  </td><td>237736                                             </td><td>30.0708                                            </td><td>                                                   </td><td>C                                                  </td></tr>\n",
       "\t<tr><th scope=row>16</th><td>1                                                  </td><td>16                                                 </td><td>2                                                  </td><td>Hewlett, Mrs. (Mary D Kingcome)                    </td><td>female                                             </td><td>55                                                 </td><td>0                                                  </td><td>0                                                  </td><td>248706                                             </td><td>16.0000                                            </td><td>                                                   </td><td>S                                                  </td></tr>\n",
       "</tbody>\n",
       "</table>\n"
      ],
      "text/latex": [
       "\\begin{tabular}{r|llllllllllll}\n",
       "  & Survived & PassengerId & Pclass & Name & Sex & Age & SibSp & Parch & Ticket & Fare & Cabin & Embarked\\\\\n",
       "\\hline\n",
       "\t2 & 1                                                   & 2                                                   & 1                                                   & Cumings, Mrs. John Bradley (Florence Briggs Thayer) & female                                              & 38                                                  & 1                                                   & 0                                                   & PC 17599                                            & 71.2833                                             & C85                                                 & C                                                  \\\\\n",
       "\t4 & 1                                                   & 4                                                   & 1                                                   & Futrelle, Mrs. Jacques Heath (Lily May Peel)        & female                                              & 35                                                  & 1                                                   & 0                                                   & 113803                                              & 53.1000                                             & C123                                                & S                                                  \\\\\n",
       "\t9 & 1                                                   & 9                                                   & 3                                                   & Johnson, Mrs. Oscar W (Elisabeth Vilhelmina Berg)   & female                                              & 27                                                  & 0                                                   & 2                                                   & 347742                                              & 11.1333                                             &                                                     & S                                                  \\\\\n",
       "\t10 & 1                                                   & 10                                                  & 2                                                   & Nasser, Mrs. Nicholas (Adele Achem)                 & female                                              & 14                                                  & 1                                                   & 0                                                   & 237736                                              & 30.0708                                             &                                                     & C                                                  \\\\\n",
       "\t16 & 1                                                   & 16                                                  & 2                                                   & Hewlett, Mrs. (Mary D Kingcome)                     & female                                              & 55                                                  & 0                                                   & 0                                                   & 248706                                              & 16.0000                                             &                                                     & S                                                  \\\\\n",
       "\\end{tabular}\n"
      ],
      "text/markdown": [
       "\n",
       "| <!--/--> | Survived | PassengerId | Pclass | Name | Sex | Age | SibSp | Parch | Ticket | Fare | Cabin | Embarked | \n",
       "|---|---|---|---|---|\n",
       "| 2 | 1                                                   | 2                                                   | 1                                                   | Cumings, Mrs. John Bradley (Florence Briggs Thayer) | female                                              | 38                                                  | 1                                                   | 0                                                   | PC 17599                                            | 71.2833                                             | C85                                                 | C                                                   | \n",
       "| 4 | 1                                                   | 4                                                   | 1                                                   | Futrelle, Mrs. Jacques Heath (Lily May Peel)        | female                                              | 35                                                  | 1                                                   | 0                                                   | 113803                                              | 53.1000                                             | C123                                                | S                                                   | \n",
       "| 9 | 1                                                   | 9                                                   | 3                                                   | Johnson, Mrs. Oscar W (Elisabeth Vilhelmina Berg)   | female                                              | 27                                                  | 0                                                   | 2                                                   | 347742                                              | 11.1333                                             |                                                     | S                                                   | \n",
       "| 10 | 1                                                   | 10                                                  | 2                                                   | Nasser, Mrs. Nicholas (Adele Achem)                 | female                                              | 14                                                  | 1                                                   | 0                                                   | 237736                                              | 30.0708                                             |                                                     | C                                                   | \n",
       "| 16 | 1                                                   | 16                                                  | 2                                                   | Hewlett, Mrs. (Mary D Kingcome)                     | female                                              | 55                                                  | 0                                                   | 0                                                   | 248706                                              | 16.0000                                             |                                                     | S                                                   | \n",
       "\n",
       "\n"
      ],
      "text/plain": [
       "   Survived PassengerId Pclass\n",
       "2  1        2           1     \n",
       "4  1        4           1     \n",
       "9  1        9           3     \n",
       "10 1        10          2     \n",
       "16 1        16          2     \n",
       "   Name                                                Sex    Age SibSp Parch\n",
       "2  Cumings, Mrs. John Bradley (Florence Briggs Thayer) female 38  1     0    \n",
       "4  Futrelle, Mrs. Jacques Heath (Lily May Peel)        female 35  1     0    \n",
       "9  Johnson, Mrs. Oscar W (Elisabeth Vilhelmina Berg)   female 27  0     2    \n",
       "10 Nasser, Mrs. Nicholas (Adele Achem)                 female 14  1     0    \n",
       "16 Hewlett, Mrs. (Mary D Kingcome)                     female 55  0     0    \n",
       "   Ticket   Fare    Cabin Embarked\n",
       "2  PC 17599 71.2833 C85   C       \n",
       "4  113803   53.1000 C123  S       \n",
       "9  347742   11.1333       S       \n",
       "10 237736   30.0708       C       \n",
       "16 248706   16.0000       S       "
      ]
     },
     "metadata": {},
     "output_type": "display_data"
    },
    {
     "data": {
      "text/html": [
       "<table>\n",
       "<thead><tr><th></th><th scope=col>Survived</th><th scope=col>PassengerId</th><th scope=col>Pclass</th><th scope=col>Name</th><th scope=col>Sex</th><th scope=col>Age</th><th scope=col>SibSp</th><th scope=col>Parch</th><th scope=col>Ticket</th><th scope=col>Fare</th><th scope=col>Cabin</th><th scope=col>Embarked</th></tr></thead>\n",
       "<tbody>\n",
       "\t<tr><th scope=row>1</th><td>0                             </td><td>1                             </td><td>3                             </td><td>Braund, Mr. Owen Harris       </td><td>male                          </td><td>22                            </td><td>1                             </td><td>0                             </td><td>A/5 21171                     </td><td> 7.2500                       </td><td>                              </td><td>S                             </td></tr>\n",
       "\t<tr><th scope=row>5</th><td>0                             </td><td>5                             </td><td>3                             </td><td>Allen, Mr. William Henry      </td><td>male                          </td><td>35                            </td><td>0                             </td><td>0                             </td><td>373450                        </td><td> 8.0500                       </td><td>                              </td><td>S                             </td></tr>\n",
       "\t<tr><th scope=row>6</th><td>0                             </td><td>6                             </td><td>3                             </td><td>Moran, Mr. James              </td><td>male                          </td><td>NA                            </td><td>0                             </td><td>0                             </td><td>330877                        </td><td> 8.4583                       </td><td>                              </td><td>Q                             </td></tr>\n",
       "\t<tr><th scope=row>7</th><td>0                             </td><td>7                             </td><td>1                             </td><td>McCarthy, Mr. Timothy J       </td><td>male                          </td><td>54                            </td><td>0                             </td><td>0                             </td><td>17463                         </td><td>51.8625                       </td><td>E46                           </td><td>S                             </td></tr>\n",
       "\t<tr><th scope=row>8</th><td>0                             </td><td>8                             </td><td>3                             </td><td>Palsson, Master. Gosta Leonard</td><td>male                          </td><td> 2                            </td><td>3                             </td><td>1                             </td><td>349909                        </td><td>21.0750                       </td><td>                              </td><td>S                             </td></tr>\n",
       "</tbody>\n",
       "</table>\n"
      ],
      "text/latex": [
       "\\begin{tabular}{r|llllllllllll}\n",
       "  & Survived & PassengerId & Pclass & Name & Sex & Age & SibSp & Parch & Ticket & Fare & Cabin & Embarked\\\\\n",
       "\\hline\n",
       "\t1 & 0                              & 1                              & 3                              & Braund, Mr. Owen Harris        & male                           & 22                             & 1                              & 0                              & A/5 21171                      &  7.2500                        &                                & S                             \\\\\n",
       "\t5 & 0                              & 5                              & 3                              & Allen, Mr. William Henry       & male                           & 35                             & 0                              & 0                              & 373450                         &  8.0500                        &                                & S                             \\\\\n",
       "\t6 & 0                              & 6                              & 3                              & Moran, Mr. James               & male                           & NA                             & 0                              & 0                              & 330877                         &  8.4583                        &                                & Q                             \\\\\n",
       "\t7 & 0                              & 7                              & 1                              & McCarthy, Mr. Timothy J        & male                           & 54                             & 0                              & 0                              & 17463                          & 51.8625                        & E46                            & S                             \\\\\n",
       "\t8 & 0                              & 8                              & 3                              & Palsson, Master. Gosta Leonard & male                           &  2                             & 3                              & 1                              & 349909                         & 21.0750                        &                                & S                             \\\\\n",
       "\\end{tabular}\n"
      ],
      "text/markdown": [
       "\n",
       "| <!--/--> | Survived | PassengerId | Pclass | Name | Sex | Age | SibSp | Parch | Ticket | Fare | Cabin | Embarked | \n",
       "|---|---|---|---|---|\n",
       "| 1 | 0                              | 1                              | 3                              | Braund, Mr. Owen Harris        | male                           | 22                             | 1                              | 0                              | A/5 21171                      |  7.2500                        |                                | S                              | \n",
       "| 5 | 0                              | 5                              | 3                              | Allen, Mr. William Henry       | male                           | 35                             | 0                              | 0                              | 373450                         |  8.0500                        |                                | S                              | \n",
       "| 6 | 0                              | 6                              | 3                              | Moran, Mr. James               | male                           | NA                             | 0                              | 0                              | 330877                         |  8.4583                        |                                | Q                              | \n",
       "| 7 | 0                              | 7                              | 1                              | McCarthy, Mr. Timothy J        | male                           | 54                             | 0                              | 0                              | 17463                          | 51.8625                        | E46                            | S                              | \n",
       "| 8 | 0                              | 8                              | 3                              | Palsson, Master. Gosta Leonard | male                           |  2                             | 3                              | 1                              | 349909                         | 21.0750                        |                                | S                              | \n",
       "\n",
       "\n"
      ],
      "text/plain": [
       "  Survived PassengerId Pclass Name                           Sex  Age SibSp\n",
       "1 0        1           3      Braund, Mr. Owen Harris        male 22  1    \n",
       "5 0        5           3      Allen, Mr. William Henry       male 35  0    \n",
       "6 0        6           3      Moran, Mr. James               male NA  0    \n",
       "7 0        7           1      McCarthy, Mr. Timothy J        male 54  0    \n",
       "8 0        8           3      Palsson, Master. Gosta Leonard male  2  3    \n",
       "  Parch Ticket    Fare    Cabin Embarked\n",
       "1 0     A/5 21171  7.2500       S       \n",
       "5 0     373450     8.0500       S       \n",
       "6 0     330877     8.4583       Q       \n",
       "7 0     17463     51.8625 E46   S       \n",
       "8 1     349909    21.0750       S       "
      ]
     },
     "metadata": {},
     "output_type": "display_data"
    },
    {
     "data": {
      "text/html": [
       "<table>\n",
       "<thead><tr><th></th><th scope=col>Survived</th><th scope=col>PassengerId</th><th scope=col>Pclass</th><th scope=col>Name</th><th scope=col>Sex</th><th scope=col>Age</th><th scope=col>SibSp</th><th scope=col>Parch</th><th scope=col>Ticket</th><th scope=col>Fare</th><th scope=col>Cabin</th><th scope=col>Embarked</th></tr></thead>\n",
       "<tbody>\n",
       "\t<tr><th scope=row>1</th><td>0                                                  </td><td>1                                                  </td><td>3                                                  </td><td>Braund, Mr. Owen Harris                            </td><td>male                                               </td><td>22                                                 </td><td>1                                                  </td><td>0                                                  </td><td>A/5 21171                                          </td><td> 7.2500                                            </td><td>                                                   </td><td>S                                                  </td></tr>\n",
       "\t<tr><th scope=row>2</th><td>1                                                  </td><td>2                                                  </td><td>1                                                  </td><td>Cumings, Mrs. John Bradley (Florence Briggs Thayer)</td><td>female                                             </td><td>38                                                 </td><td>1                                                  </td><td>0                                                  </td><td>PC 17599                                           </td><td>71.2833                                            </td><td>C85                                                </td><td>C                                                  </td></tr>\n",
       "\t<tr><th scope=row>4</th><td>1                                                  </td><td>4                                                  </td><td>1                                                  </td><td>Futrelle, Mrs. Jacques Heath (Lily May Peel)       </td><td>female                                             </td><td>35                                                 </td><td>1                                                  </td><td>0                                                  </td><td>113803                                             </td><td>53.1000                                            </td><td>C123                                               </td><td>S                                                  </td></tr>\n",
       "\t<tr><th scope=row>5</th><td>0                                                  </td><td>5                                                  </td><td>3                                                  </td><td>Allen, Mr. William Henry                           </td><td>male                                               </td><td>35                                                 </td><td>0                                                  </td><td>0                                                  </td><td>373450                                             </td><td> 8.0500                                            </td><td>                                                   </td><td>S                                                  </td></tr>\n",
       "\t<tr><th scope=row>6</th><td>0                                                  </td><td>6                                                  </td><td>3                                                  </td><td>Moran, Mr. James                                   </td><td>male                                               </td><td>NA                                                 </td><td>0                                                  </td><td>0                                                  </td><td>330877                                             </td><td> 8.4583                                            </td><td>                                                   </td><td>Q                                                  </td></tr>\n",
       "</tbody>\n",
       "</table>\n"
      ],
      "text/latex": [
       "\\begin{tabular}{r|llllllllllll}\n",
       "  & Survived & PassengerId & Pclass & Name & Sex & Age & SibSp & Parch & Ticket & Fare & Cabin & Embarked\\\\\n",
       "\\hline\n",
       "\t1 & 0                                                   & 1                                                   & 3                                                   & Braund, Mr. Owen Harris                             & male                                                & 22                                                  & 1                                                   & 0                                                   & A/5 21171                                           &  7.2500                                             &                                                     & S                                                  \\\\\n",
       "\t2 & 1                                                   & 2                                                   & 1                                                   & Cumings, Mrs. John Bradley (Florence Briggs Thayer) & female                                              & 38                                                  & 1                                                   & 0                                                   & PC 17599                                            & 71.2833                                             & C85                                                 & C                                                  \\\\\n",
       "\t4 & 1                                                   & 4                                                   & 1                                                   & Futrelle, Mrs. Jacques Heath (Lily May Peel)        & female                                              & 35                                                  & 1                                                   & 0                                                   & 113803                                              & 53.1000                                             & C123                                                & S                                                  \\\\\n",
       "\t5 & 0                                                   & 5                                                   & 3                                                   & Allen, Mr. William Henry                            & male                                                & 35                                                  & 0                                                   & 0                                                   & 373450                                              &  8.0500                                             &                                                     & S                                                  \\\\\n",
       "\t6 & 0                                                   & 6                                                   & 3                                                   & Moran, Mr. James                                    & male                                                & NA                                                  & 0                                                   & 0                                                   & 330877                                              &  8.4583                                             &                                                     & Q                                                  \\\\\n",
       "\\end{tabular}\n"
      ],
      "text/markdown": [
       "\n",
       "| <!--/--> | Survived | PassengerId | Pclass | Name | Sex | Age | SibSp | Parch | Ticket | Fare | Cabin | Embarked | \n",
       "|---|---|---|---|---|\n",
       "| 1 | 0                                                   | 1                                                   | 3                                                   | Braund, Mr. Owen Harris                             | male                                                | 22                                                  | 1                                                   | 0                                                   | A/5 21171                                           |  7.2500                                             |                                                     | S                                                   | \n",
       "| 2 | 1                                                   | 2                                                   | 1                                                   | Cumings, Mrs. John Bradley (Florence Briggs Thayer) | female                                              | 38                                                  | 1                                                   | 0                                                   | PC 17599                                            | 71.2833                                             | C85                                                 | C                                                   | \n",
       "| 4 | 1                                                   | 4                                                   | 1                                                   | Futrelle, Mrs. Jacques Heath (Lily May Peel)        | female                                              | 35                                                  | 1                                                   | 0                                                   | 113803                                              | 53.1000                                             | C123                                                | S                                                   | \n",
       "| 5 | 0                                                   | 5                                                   | 3                                                   | Allen, Mr. William Henry                            | male                                                | 35                                                  | 0                                                   | 0                                                   | 373450                                              |  8.0500                                             |                                                     | S                                                   | \n",
       "| 6 | 0                                                   | 6                                                   | 3                                                   | Moran, Mr. James                                    | male                                                | NA                                                  | 0                                                   | 0                                                   | 330877                                              |  8.4583                                             |                                                     | Q                                                   | \n",
       "\n",
       "\n"
      ],
      "text/plain": [
       "  Survived PassengerId Pclass\n",
       "1 0        1           3     \n",
       "2 1        2           1     \n",
       "4 1        4           1     \n",
       "5 0        5           3     \n",
       "6 0        6           3     \n",
       "  Name                                                Sex    Age SibSp Parch\n",
       "1 Braund, Mr. Owen Harris                             male   22  1     0    \n",
       "2 Cumings, Mrs. John Bradley (Florence Briggs Thayer) female 38  1     0    \n",
       "4 Futrelle, Mrs. Jacques Heath (Lily May Peel)        female 35  1     0    \n",
       "5 Allen, Mr. William Henry                            male   35  0     0    \n",
       "6 Moran, Mr. James                                    male   NA  0     0    \n",
       "  Ticket    Fare    Cabin Embarked\n",
       "1 A/5 21171  7.2500       S       \n",
       "2 PC 17599  71.2833 C85   C       \n",
       "4 113803    53.1000 C123  S       \n",
       "5 373450     8.0500       S       \n",
       "6 330877     8.4583       Q       "
      ]
     },
     "metadata": {},
     "output_type": "display_data"
    },
    {
     "data": {
      "text/html": [
       "<table>\n",
       "<thead><tr><th></th><th scope=col>Survived</th><th scope=col>PassengerId</th><th scope=col>Pclass</th><th scope=col>Name</th><th scope=col>Sex</th><th scope=col>Age</th><th scope=col>SibSp</th><th scope=col>Parch</th><th scope=col>Ticket</th><th scope=col>Fare</th><th scope=col>Cabin</th><th scope=col>Embarked</th></tr></thead>\n",
       "<tbody>\n",
       "\t<tr><th scope=row>8</th><td>0                                 </td><td>8                                 </td><td>3                                 </td><td>Palsson, Master. Gosta Leonard    </td><td>male                              </td><td> 2                                </td><td>3                                 </td><td>1                                 </td><td>349909                            </td><td>21.0750                           </td><td>                                  </td><td>S                                 </td></tr>\n",
       "\t<tr><th scope=row>17</th><td>0                                 </td><td>17                                </td><td>3                                 </td><td>Rice, Master. Eugene              </td><td>male                              </td><td> 2                                </td><td>4                                 </td><td>1                                 </td><td>382652                            </td><td>29.1250                           </td><td>                                  </td><td>Q                                 </td></tr>\n",
       "\t<tr><th scope=row>51</th><td>0                                 </td><td>51                                </td><td>3                                 </td><td>Panula, Master. Juha Niilo        </td><td>male                              </td><td> 7                                </td><td>4                                 </td><td>1                                 </td><td>3101295                           </td><td>39.6875                           </td><td>                                  </td><td>S                                 </td></tr>\n",
       "\t<tr><th scope=row>60</th><td>0                                 </td><td>60                                </td><td>3                                 </td><td>Goodwin, Master. William Frederick</td><td>male                              </td><td>11                                </td><td>5                                 </td><td>2                                 </td><td>CA 2144                           </td><td>46.9000                           </td><td>                                  </td><td>S                                 </td></tr>\n",
       "\t<tr><th scope=row>64</th><td>0                                 </td><td>64                                </td><td>3                                 </td><td>Skoog, Master. Harald             </td><td>male                              </td><td> 4                                </td><td>3                                 </td><td>2                                 </td><td>347088                            </td><td>27.9000                           </td><td>                                  </td><td>S                                 </td></tr>\n",
       "</tbody>\n",
       "</table>\n"
      ],
      "text/latex": [
       "\\begin{tabular}{r|llllllllllll}\n",
       "  & Survived & PassengerId & Pclass & Name & Sex & Age & SibSp & Parch & Ticket & Fare & Cabin & Embarked\\\\\n",
       "\\hline\n",
       "\t8 & 0                                  & 8                                  & 3                                  & Palsson, Master. Gosta Leonard     & male                               &  2                                 & 3                                  & 1                                  & 349909                             & 21.0750                            &                                    & S                                 \\\\\n",
       "\t17 & 0                                  & 17                                 & 3                                  & Rice, Master. Eugene               & male                               &  2                                 & 4                                  & 1                                  & 382652                             & 29.1250                            &                                    & Q                                 \\\\\n",
       "\t51 & 0                                  & 51                                 & 3                                  & Panula, Master. Juha Niilo         & male                               &  7                                 & 4                                  & 1                                  & 3101295                            & 39.6875                            &                                    & S                                 \\\\\n",
       "\t60 & 0                                  & 60                                 & 3                                  & Goodwin, Master. William Frederick & male                               & 11                                 & 5                                  & 2                                  & CA 2144                            & 46.9000                            &                                    & S                                 \\\\\n",
       "\t64 & 0                                  & 64                                 & 3                                  & Skoog, Master. Harald              & male                               &  4                                 & 3                                  & 2                                  & 347088                             & 27.9000                            &                                    & S                                 \\\\\n",
       "\\end{tabular}\n"
      ],
      "text/markdown": [
       "\n",
       "| <!--/--> | Survived | PassengerId | Pclass | Name | Sex | Age | SibSp | Parch | Ticket | Fare | Cabin | Embarked | \n",
       "|---|---|---|---|---|\n",
       "| 8 | 0                                  | 8                                  | 3                                  | Palsson, Master. Gosta Leonard     | male                               |  2                                 | 3                                  | 1                                  | 349909                             | 21.0750                            |                                    | S                                  | \n",
       "| 17 | 0                                  | 17                                 | 3                                  | Rice, Master. Eugene               | male                               |  2                                 | 4                                  | 1                                  | 382652                             | 29.1250                            |                                    | Q                                  | \n",
       "| 51 | 0                                  | 51                                 | 3                                  | Panula, Master. Juha Niilo         | male                               |  7                                 | 4                                  | 1                                  | 3101295                            | 39.6875                            |                                    | S                                  | \n",
       "| 60 | 0                                  | 60                                 | 3                                  | Goodwin, Master. William Frederick | male                               | 11                                 | 5                                  | 2                                  | CA 2144                            | 46.9000                            |                                    | S                                  | \n",
       "| 64 | 0                                  | 64                                 | 3                                  | Skoog, Master. Harald              | male                               |  4                                 | 3                                  | 2                                  | 347088                             | 27.9000                            |                                    | S                                  | \n",
       "\n",
       "\n"
      ],
      "text/plain": [
       "   Survived PassengerId Pclass Name                               Sex  Age\n",
       "8  0        8           3      Palsson, Master. Gosta Leonard     male  2 \n",
       "17 0        17          3      Rice, Master. Eugene               male  2 \n",
       "51 0        51          3      Panula, Master. Juha Niilo         male  7 \n",
       "60 0        60          3      Goodwin, Master. William Frederick male 11 \n",
       "64 0        64          3      Skoog, Master. Harald              male  4 \n",
       "   SibSp Parch Ticket  Fare    Cabin Embarked\n",
       "8  3     1     349909  21.0750       S       \n",
       "17 4     1     382652  29.1250       Q       \n",
       "51 4     1     3101295 39.6875       S       \n",
       "60 5     2     CA 2144 46.9000       S       \n",
       "64 3     2     347088  27.9000       S       "
      ]
     },
     "metadata": {},
     "output_type": "display_data"
    }
   ],
   "source": [
    "# Let's now check what is up with the 'Miss.', 'Mr.' and 'Mrs.' titles to check whether there's any co-relation there\n",
    "library(stringr)\n",
    "\n",
    "# Any correlation with other variables? Like SibSp...etc.???\n",
    "misses <- data.combined[which(str_detect(data.combined$Name,\"Miss.\")),]\n",
    "misses[1:5,]\n",
    "\n",
    "# Let's take a look at people with \"Mrs.\" in their names or the one's who were probably married\n",
    "mrses <- data.combined[which(str_detect(data.combined$Name,\"Mrs.\")),]\n",
    "mrses[1:5,] # All of those 5 married women survived! Which is good to know!\n",
    "\n",
    "# Now let's take a look at men on the boat in the combined data\n",
    "males <- data.combined[which(data.combined$Sex == \"male\"),]\n",
    "males[1:5,]\n",
    "\n",
    "# As we saw that males also have \"Master\" and \"Mr.\", let's separate them out\n",
    "misters <- data.combined[which(str_detect(data.combined$Name,\"Mr.\")),]\n",
    "misters[1:5,]\n",
    "\n",
    "# And the same for \"Masters\"\n",
    "masters <- data.combined[which(str_detect(data.combined$Name,\"Master.\")),]\n",
    "masters[1:5,]"
   ]
  },
  {
   "cell_type": "code",
   "execution_count": 14,
   "metadata": {
    "collapsed": true
   },
   "outputs": [],
   "source": [
    "# Now let's expand upon the relationship between 'Survived' and 'Pclass' by adding a new variable 'Title'\n",
    "# Create a utility function to help with this extraction\n",
    "\n",
    "extractTitle <- function(Name){\n",
    "  Name <- as.character(Name)\n",
    "  \n",
    "  if (length(grep(\"Miss.\",Name))>0){\n",
    "    return (\"Miss.\")\n",
    "  } else if (length(grep(\"Mrs.\",Name))>0){\n",
    "    return (\"Mrs.\")\n",
    "  } else if (length(grep(\"Mr.\",Name))>0){\n",
    "    return (\"Mr.\")\n",
    "  } else if (length(grep(\"Master.\",Name))>0){\n",
    "    return (\"Master.\")\n",
    "  } else {\n",
    "    return(\"Other\")\n",
    "  }\n",
    "}\n",
    "\n",
    "titles <- NULL\n",
    "for (i in 1:nrow(data.combined)){\n",
    "  titles <- c(titles, extractTitle(data.combined[i,\"Name\"]))\n",
    "}\n",
    "data.combined$Title <- as.factor(titles)"
   ]
  },
  {
   "cell_type": "code",
   "execution_count": 15,
   "metadata": {
    "collapsed": false
   },
   "outputs": [
    {
     "data": {},
     "metadata": {},
     "output_type": "display_data"
    },
    {
     "data": {
      "image/png": "[encoded data removed]",
      "text/plain": [
       "plot without title"
      ]
     },
     "metadata": {},
     "output_type": "display_data"
    }
   ],
   "source": [
    "# Let's plot this out now. Since we have Survived values only in the first 891 rows, just use those\n",
    "\n",
    "ggplot(data.combined[1:891,], aes(x = Title, fill = Survived)) +\n",
    "  geom_bar() +\n",
    "  facet_wrap(~Pclass) +\n",
    "  ggtitle(\"Pclass\") +\n",
    "  xlab(\"Title\") +\n",
    "  ylab(\"Total Count\") +\n",
    "  labs(fill = \"Survived\")"
   ]
  },
  {
   "cell_type": "code",
   "execution_count": 16,
   "metadata": {
    "collapsed": false
   },
   "outputs": [
    {
     "data": {
      "text/plain": [
       "        \n",
       "           0   1 none\n",
       "  female  81 233  152\n",
       "  male   468 109  266"
      ]
     },
     "metadata": {},
     "output_type": "display_data"
    }
   ],
   "source": [
    "table(data.combined$Sex,data.combined$Survived)"
   ]
  },
  {
   "cell_type": "code",
   "execution_count": 17,
   "metadata": {
    "collapsed": false
   },
   "outputs": [
    {
     "data": {},
     "metadata": {},
     "output_type": "display_data"
    },
    {
     "data": {
      "image/png": "[encoded data removed]",
      "text/plain": [
       "plot without title"
      ]
     },
     "metadata": {},
     "output_type": "display_data"
    }
   ],
   "source": [
    "ggplot(data.combined[1:891,], aes(x = Sex, fill = Survived)) +\n",
    "  geom_bar() +\n",
    "  facet_wrap(~Pclass) +\n",
    "  ggtitle(\"Pclass\") +\n",
    "  xlab(\"Title\") +\n",
    "  ylab(\"Total Count\") +\n",
    "  labs(fill = \"Survived\")"
   ]
  },
  {
   "cell_type": "code",
   "execution_count": 18,
   "metadata": {
    "collapsed": false
   },
   "outputs": [
    {
     "data": {
      "text/plain": [
       "   Min. 1st Qu.  Median    Mean 3rd Qu.    Max.    NA's \n",
       "   0.17   21.00   28.00   29.88   39.00   80.00     263 "
      ]
     },
     "metadata": {},
     "output_type": "display_data"
    },
    {
     "data": {
      "text/plain": [
       "   Min. 1st Qu.  Median    Mean 3rd Qu.    Max.    NA's \n",
       "   0.42   20.12   28.00   29.70   38.00   80.00     177 "
      ]
     },
     "metadata": {},
     "output_type": "display_data"
    }
   ],
   "source": [
    "summary(data.combined$Age)\n",
    "summary(data.combined[1:891,\"Age\"])"
   ]
  },
  {
   "cell_type": "code",
   "execution_count": 19,
   "metadata": {
    "collapsed": false
   },
   "outputs": [
    {
     "data": {},
     "metadata": {},
     "output_type": "display_data"
    },
    {
     "data": {},
     "metadata": {},
     "output_type": "display_data"
    },
    {
     "data": {
      "image/png": "[encoded data removed]",
      "text/plain": [
       "plot without title"
      ]
     },
     "metadata": {},
     "output_type": "display_data"
    },
    {
     "data": {
      "image/png": "[encoded data removed]",
      "text/plain": [
       "plot without title"
      ]
     },
     "metadata": {},
     "output_type": "display_data"
    }
   ],
   "source": [
    "ggplot(data.combined[1:891,], aes(x=Age, fill=Survived)) +\n",
    "  facet_wrap(~Sex+Pclass) +\n",
    "  geom_histogram(binwidth = 10) +\n",
    "  xlab(\"Age\") +\n",
    "  ylab(\"Total Count\")\n",
    "\n",
    "ggplot(misses[misses$Survived != \"none\",], aes(x=Age, fill=Survived)) +\n",
    "  facet_wrap(~Pclass) +\n",
    "  geom_histogram(binwidth = 5) +\n",
    "  ggtitle(\"Age for 'Miss.' by Pclass\") +\n",
    "  xlab(\"Age\") +\n",
    "  ylab(\"Total Count\")"
   ]
  },
  {
   "cell_type": "code",
   "execution_count": 20,
   "metadata": {
    "collapsed": false
   },
   "outputs": [
    {
     "data": {
      "text/plain": [
       "   Min. 1st Qu.  Median    Mean 3rd Qu.    Max.    NA's \n",
       "  0.330   2.000   4.000   5.483   9.000  14.500       8 "
      ]
     },
     "metadata": {},
     "output_type": "display_data"
    },
    {
     "data": {
      "text/plain": [
       "   Min. 1st Qu.  Median    Mean 3rd Qu.    Max.    NA's \n",
       "   0.17   15.00   22.00   21.77   30.00   63.00      50 "
      ]
     },
     "metadata": {},
     "output_type": "display_data"
    },
    {
     "data": {
      "text/plain": [
       "   Min. 1st Qu.  Median    Mean 3rd Qu.    Max.    NA's \n",
       "   5.00   21.00   26.00   27.23   32.50   58.00      33 "
      ]
     },
     "metadata": {},
     "output_type": "display_data"
    },
    {
     "data": {
      "text/html": [
       "53"
      ],
      "text/latex": [
       "53"
      ],
      "text/markdown": [
       "53"
      ],
      "text/plain": [
       "[1] 53"
      ]
     },
     "metadata": {},
     "output_type": "display_data"
    }
   ],
   "source": [
    "boys <- data.combined[which(data.combined$Title == \"Master.\"),]\n",
    "summary(boys$Age)\n",
    "\n",
    "summary(misses$Age)\n",
    "\n",
    "misses.alone <- misses[which(misses$SibSp == 0 & misses$Parch == 0),]\n",
    "summary(misses.alone$Age)\n",
    "length(which(misses.alone$Age >= 15 & misses.alone$Age <= 25))"
   ]
  },
  {
   "cell_type": "code",
   "execution_count": 21,
   "metadata": {
    "collapsed": false
   },
   "outputs": [
    {
     "data": {
      "text/plain": [
       " Survived   PassengerId  Pclass                            Name    \n",
       " 0   :25   3      :  1   1:36   Connolly, Miss. Kate         :  2  \n",
       " 1   :75   12     :  1   2:25   Allen, Miss. Elisabeth Walton:  1  \n",
       " none:50   15     :  1   3:89   Attalah, Miss. Malake        :  1  \n",
       "           23     :  1          Ayoub, Miss. Banoura         :  1  \n",
       "           29     :  1          Barber, Miss. Ellen \"Nellie\" :  1  \n",
       "           33     :  1          Bazzani, Miss. Albina        :  1  \n",
       "           (Other):144          (Other)                      :143  \n",
       "     Sex           Age            SibSp       Parch            Ticket   \n",
       " female:150   Min.   : 5.00   Min.   :0   Min.   :0   110152      :  2  \n",
       " male  :  0   1st Qu.:21.00   1st Qu.:0   1st Qu.:0   113781      :  2  \n",
       "              Median :26.00   Median :0   Median :0   16966       :  2  \n",
       "              Mean   :27.23   Mean   :0   Mean   :0   24160       :  2  \n",
       "              3rd Qu.:32.50   3rd Qu.:0   3rd Qu.:0   364516      :  2  \n",
       "              Max.   :58.00   Max.   :0   Max.   :0   F.C.C. 13528:  2  \n",
       "              NA's   :33                              (Other)     :138  \n",
       "      Fare             Cabin     Embarked\n",
       " Min.   :  6.750          :121    : 1    \n",
       " 1st Qu.:  7.750   E101   :  3   C:23    \n",
       " Median :  8.662   B28    :  1   Q:47    \n",
       " Mean   : 39.611   B42    :  1   S:79    \n",
       " 3rd Qu.: 26.550   B5     :  1           \n",
       " Max.   :512.329   B73    :  1           \n",
       "                   (Other): 22           "
      ]
     },
     "metadata": {},
     "output_type": "display_data"
    }
   ],
   "source": [
    "summary(misses.alone)"
   ]
  },
  {
   "cell_type": "code",
   "execution_count": 22,
   "metadata": {
    "collapsed": false
   },
   "outputs": [
    {
     "data": {
      "text/plain": [
       "   Min. 1st Qu.  Median    Mean 3rd Qu.    Max. \n",
       " 0.0000  0.0000  0.0000  0.4989  1.0000  8.0000 "
      ]
     },
     "metadata": {},
     "output_type": "display_data"
    }
   ],
   "source": [
    "# Move on to the variable SibSp\n",
    "summary(data.combined$SibSp)"
   ]
  },
  {
   "cell_type": "code",
   "execution_count": 23,
   "metadata": {
    "collapsed": false
   },
   "outputs": [
    {
     "data": {
      "text/html": [
       "7"
      ],
      "text/latex": [
       "7"
      ],
      "text/markdown": [
       "7"
      ],
      "text/plain": [
       "[1] 7"
      ]
     },
     "metadata": {},
     "output_type": "display_data"
    }
   ],
   "source": [
    "length(unique(data.combined$SibSp))"
   ]
  },
  {
   "cell_type": "code",
   "execution_count": 24,
   "metadata": {
    "collapsed": true
   },
   "outputs": [],
   "source": [
    "data.combined$SibSp <- as.factor(data.combined$SibSp)"
   ]
  },
  {
   "cell_type": "code",
   "execution_count": 25,
   "metadata": {
    "collapsed": false
   },
   "outputs": [
    {
     "name": "stdout",
     "output_type": "stream",
     "text": [
      " Factor w/ 7 levels \"0\",\"1\",\"2\",\"3\",..: 2 2 1 2 1 1 1 4 1 2 ...\n"
     ]
    }
   ],
   "source": [
    "str(data.combined$SibSp)"
   ]
  },
  {
   "cell_type": "code",
   "execution_count": 26,
   "metadata": {
    "collapsed": false
   },
   "outputs": [
    {
     "data": {},
     "metadata": {},
     "output_type": "display_data"
    },
    {
     "data": {},
     "metadata": {},
     "output_type": "display_data"
    },
    {
     "data": {
      "image/png": "[encoded data removed]",
      "text/plain": [
       "plot without title"
      ]
     },
     "metadata": {},
     "output_type": "display_data"
    },
    {
     "data": {
      "image/png": "[encoded data removed]",
      "text/plain": [
       "plot without title"
      ]
     },
     "metadata": {},
     "output_type": "display_data"
    }
   ],
   "source": [
    "# Let's ggplot the variable SibSp in conjuction with Pclass and Title to get some interesting insights!\n",
    "\n",
    "ggplot(data.combined[1:891,], aes(x=SibSp,fill = Survived)) +\n",
    "  geom_bar() +\n",
    "  facet_wrap(~Pclass + Title) +\n",
    "  ggtitle(\"Pclass, Title\") +\n",
    "  xlab(\"SibSp\")+\n",
    "  ylab(\"Total Count\") +\n",
    "  labs(fill = \"Survived\")\n",
    "\n",
    "data.combined$Parch <- as.factor(data.combined$Parch)\n",
    "\n",
    "ggplot(data.combined[1:891,], aes(x=Parch,fill = Survived)) +\n",
    "  geom_bar() +\n",
    "  facet_wrap(~Pclass + Title) +\n",
    "  ggtitle(\"Pclass, Title\") +\n",
    "  xlab(\"Parch\")+\n",
    "  ylab(\"Total Count\") +\n",
    "  labs(fill = \"Survived\")"
   ]
  },
  {
   "cell_type": "code",
   "execution_count": 27,
   "metadata": {
    "collapsed": true
   },
   "outputs": [],
   "source": [
    "temp.SibSp <- c(train$SibSp,test$SibSp)\n",
    "temp.Parch <- c(train$Parch,test$Parch)\n",
    "data.combined$FamilySize <- as.factor(temp.SibSp + temp.Parch + 1)"
   ]
  },
  {
   "cell_type": "code",
   "execution_count": 28,
   "metadata": {
    "collapsed": false
   },
   "outputs": [
    {
     "data": {},
     "metadata": {},
     "output_type": "display_data"
    },
    {
     "data": {
      "image/png": "[encoded data removed]",
      "text/plain": [
       "plot without title"
      ]
     },
     "metadata": {},
     "output_type": "display_data"
    }
   ],
   "source": [
    "ggplot(data.combined[1:891,], aes(x=FamilySize, fill = Survived)) +\n",
    "  geom_bar() +\n",
    "  facet_wrap(~Pclass + Title) +\n",
    "  ggtitle(\"Pclass, Title\") +\n",
    "  xlab(\"Family Size\") +\n",
    "  ylab(\"Total Count\") +\n",
    "  labs(fill = \"Survived\")"
   ]
  },
  {
   "cell_type": "code",
   "execution_count": 29,
   "metadata": {
    "collapsed": false
   },
   "outputs": [
    {
     "name": "stdout",
     "output_type": "stream",
     "text": [
      " Factor w/ 929 levels \"110152\",\"110413\",..: 524 597 670 50 473 276 86 396 345 133 ...\n"
     ]
    }
   ],
   "source": [
    "str(data.combined$Ticket)"
   ]
  },
  {
   "cell_type": "code",
   "execution_count": 30,
   "metadata": {
    "collapsed": false
   },
   "outputs": [
    {
     "data": {
      "text/html": [
       "<ol class=list-inline>\n",
       "\t<li>'A/5 21171'</li>\n",
       "\t<li>'PC 17599'</li>\n",
       "\t<li>'STON/O2. 3101282'</li>\n",
       "\t<li>'113803'</li>\n",
       "\t<li>'373450'</li>\n",
       "\t<li>'330877'</li>\n",
       "\t<li>'17463'</li>\n",
       "\t<li>'349909'</li>\n",
       "\t<li>'347742'</li>\n",
       "\t<li>'237736'</li>\n",
       "\t<li>'PP 9549'</li>\n",
       "\t<li>'113783'</li>\n",
       "\t<li>'A/5. 2151'</li>\n",
       "\t<li>'347082'</li>\n",
       "\t<li>'350406'</li>\n",
       "\t<li>'248706'</li>\n",
       "\t<li>'382652'</li>\n",
       "\t<li>'244373'</li>\n",
       "\t<li>'345763'</li>\n",
       "\t<li>'2649'</li>\n",
       "\t<li>'239865'</li>\n",
       "\t<li>'248698'</li>\n",
       "\t<li>'330923'</li>\n",
       "\t<li>'113788'</li>\n",
       "\t<li>'349909'</li>\n",
       "\t<li>'347077'</li>\n",
       "\t<li>'2631'</li>\n",
       "\t<li>'19950'</li>\n",
       "\t<li>'330959'</li>\n",
       "\t<li>'349216'</li>\n",
       "</ol>\n"
      ],
      "text/latex": [
       "\\begin{enumerate*}\n",
       "\\item 'A/5 21171'\n",
       "\\item 'PC 17599'\n",
       "\\item 'STON/O2. 3101282'\n",
       "\\item '113803'\n",
       "\\item '373450'\n",
       "\\item '330877'\n",
       "\\item '17463'\n",
       "\\item '349909'\n",
       "\\item '347742'\n",
       "\\item '237736'\n",
       "\\item 'PP 9549'\n",
       "\\item '113783'\n",
       "\\item 'A/5. 2151'\n",
       "\\item '347082'\n",
       "\\item '350406'\n",
       "\\item '248706'\n",
       "\\item '382652'\n",
       "\\item '244373'\n",
       "\\item '345763'\n",
       "\\item '2649'\n",
       "\\item '239865'\n",
       "\\item '248698'\n",
       "\\item '330923'\n",
       "\\item '113788'\n",
       "\\item '349909'\n",
       "\\item '347077'\n",
       "\\item '2631'\n",
       "\\item '19950'\n",
       "\\item '330959'\n",
       "\\item '349216'\n",
       "\\end{enumerate*}\n"
      ],
      "text/markdown": [
       "1. 'A/5 21171'\n",
       "2. 'PC 17599'\n",
       "3. 'STON/O2. 3101282'\n",
       "4. '113803'\n",
       "5. '373450'\n",
       "6. '330877'\n",
       "7. '17463'\n",
       "8. '349909'\n",
       "9. '347742'\n",
       "10. '237736'\n",
       "11. 'PP 9549'\n",
       "12. '113783'\n",
       "13. 'A/5. 2151'\n",
       "14. '347082'\n",
       "15. '350406'\n",
       "16. '248706'\n",
       "17. '382652'\n",
       "18. '244373'\n",
       "19. '345763'\n",
       "20. '2649'\n",
       "21. '239865'\n",
       "22. '248698'\n",
       "23. '330923'\n",
       "24. '113788'\n",
       "25. '349909'\n",
       "26. '347077'\n",
       "27. '2631'\n",
       "28. '19950'\n",
       "29. '330959'\n",
       "30. '349216'\n",
       "\n",
       "\n"
      ],
      "text/plain": [
       " [1] \"A/5 21171\"        \"PC 17599\"         \"STON/O2. 3101282\" \"113803\"          \n",
       " [5] \"373450\"           \"330877\"           \"17463\"            \"349909\"          \n",
       " [9] \"347742\"           \"237736\"           \"PP 9549\"          \"113783\"          \n",
       "[13] \"A/5. 2151\"        \"347082\"           \"350406\"           \"248706\"          \n",
       "[17] \"382652\"           \"244373\"           \"345763\"           \"2649\"            \n",
       "[21] \"239865\"           \"248698\"           \"330923\"           \"113788\"          \n",
       "[25] \"349909\"           \"347077\"           \"2631\"             \"19950\"           \n",
       "[29] \"330959\"           \"349216\"          "
      ]
     },
     "metadata": {},
     "output_type": "display_data"
    }
   ],
   "source": [
    "data.combined$Ticket <- as.character(data.combined$Ticket)\n",
    "data.combined$Ticket[1:30]"
   ]
  },
  {
   "cell_type": "code",
   "execution_count": 31,
   "metadata": {
    "collapsed": false
   },
   "outputs": [
    {
     "data": {
      "text/html": [
       "<ol class=list-inline>\n",
       "\t<li>'A'</li>\n",
       "\t<li>'P'</li>\n",
       "\t<li>'S'</li>\n",
       "\t<li>'1'</li>\n",
       "\t<li>'3'</li>\n",
       "\t<li>'2'</li>\n",
       "\t<li>'C'</li>\n",
       "\t<li>'7'</li>\n",
       "\t<li>'W'</li>\n",
       "\t<li>'4'</li>\n",
       "\t<li>'F'</li>\n",
       "\t<li>'L'</li>\n",
       "\t<li>'9'</li>\n",
       "\t<li>'6'</li>\n",
       "\t<li>'5'</li>\n",
       "\t<li>'8'</li>\n",
       "</ol>\n"
      ],
      "text/latex": [
       "\\begin{enumerate*}\n",
       "\\item 'A'\n",
       "\\item 'P'\n",
       "\\item 'S'\n",
       "\\item '1'\n",
       "\\item '3'\n",
       "\\item '2'\n",
       "\\item 'C'\n",
       "\\item '7'\n",
       "\\item 'W'\n",
       "\\item '4'\n",
       "\\item 'F'\n",
       "\\item 'L'\n",
       "\\item '9'\n",
       "\\item '6'\n",
       "\\item '5'\n",
       "\\item '8'\n",
       "\\end{enumerate*}\n"
      ],
      "text/markdown": [
       "1. 'A'\n",
       "2. 'P'\n",
       "3. 'S'\n",
       "4. '1'\n",
       "5. '3'\n",
       "6. '2'\n",
       "7. 'C'\n",
       "8. '7'\n",
       "9. 'W'\n",
       "10. '4'\n",
       "11. 'F'\n",
       "12. 'L'\n",
       "13. '9'\n",
       "14. '6'\n",
       "15. '5'\n",
       "16. '8'\n",
       "\n",
       "\n"
      ],
      "text/plain": [
       " [1] \"A\" \"P\" \"S\" \"1\" \"3\" \"2\" \"C\" \"7\" \"W\" \"4\" \"F\" \"L\" \"9\" \"6\" \"5\" \"8\""
      ]
     },
     "metadata": {},
     "output_type": "display_data"
    }
   ],
   "source": [
    "Ticket.first.char <- ifelse(data.combined$Ticket == \"\", \" \", substr(data.combined$Ticket,1,1))\n",
    "unique(Ticket.first.char)"
   ]
  },
  {
   "cell_type": "code",
   "execution_count": 32,
   "metadata": {
    "collapsed": false
   },
   "outputs": [
    {
     "data": {},
     "metadata": {},
     "output_type": "display_data"
    },
    {
     "data": {
      "image/png": "[encoded data removed]",
      "text/plain": [
       "plot without title"
      ]
     },
     "metadata": {},
     "output_type": "display_data"
    }
   ],
   "source": [
    "data.combined$Ticket.first.char <- as.factor(Ticket.first.char)\n",
    "\n",
    "ggplot(data.combined[1:891,],aes(x = Ticket.first.char, fill = Survived)) +\n",
    "  geom_bar() +\n",
    "  ggtitle(\"Survivability by Ticket.first.char\") +\n",
    "  xlab(\"Ticket.first.char\") +\n",
    "  ylab(\"Total Count\") +\n",
    "  labs(fill = \"Survived\")"
   ]
  },
  {
   "cell_type": "code",
   "execution_count": 33,
   "metadata": {
    "collapsed": false
   },
   "outputs": [
    {
     "data": {},
     "metadata": {},
     "output_type": "display_data"
    },
    {
     "data": {
      "image/png": "[encoded data removed]",
      "text/plain": [
       "plot without title"
      ]
     },
     "metadata": {},
     "output_type": "display_data"
    }
   ],
   "source": [
    "ggplot(data.combined[1:891,],aes(x = Ticket.first.char, fill = Survived)) +\n",
    "  geom_bar() +\n",
    "  facet_wrap(~Pclass) +\n",
    "  ggtitle(\"Pclass\") +\n",
    "  xlab(\"Ticket.first.char\") +\n",
    "  ylab(\"Total Count\") +\n",
    "  labs(fill = \"Survived\")"
   ]
  },
  {
   "cell_type": "code",
   "execution_count": 34,
   "metadata": {
    "collapsed": false
   },
   "outputs": [
    {
     "data": {},
     "metadata": {},
     "output_type": "display_data"
    },
    {
     "data": {
      "image/png": "[encoded data removed]",
      "text/plain": [
       "plot without title"
      ]
     },
     "metadata": {},
     "output_type": "display_data"
    }
   ],
   "source": [
    "ggplot(data.combined[1:891,],aes(x = Ticket.first.char, fill = Survived)) +\n",
    "  geom_bar() +\n",
    "  facet_wrap(~Pclass + Title) +\n",
    "  ggtitle(\"Pclass, Title\") +\n",
    "  xlab(\"Ticket.first.char\") +\n",
    "  ylab(\"Total Count\") +\n",
    "  labs(fill = \"Survived\")"
   ]
  },
  {
   "cell_type": "code",
   "execution_count": 35,
   "metadata": {
    "collapsed": false
   },
   "outputs": [
    {
     "data": {
      "text/plain": [
       "   Min. 1st Qu.  Median    Mean 3rd Qu.    Max.    NA's \n",
       "  0.000   7.896  14.450  33.300  31.280 512.300       1 "
      ]
     },
     "metadata": {},
     "output_type": "display_data"
    },
    {
     "data": {
      "text/html": [
       "282"
      ],
      "text/latex": [
       "282"
      ],
      "text/markdown": [
       "282"
      ],
      "text/plain": [
       "[1] 282"
      ]
     },
     "metadata": {},
     "output_type": "display_data"
    },
    {
     "data": {},
     "metadata": {},
     "output_type": "display_data"
    },
    {
     "data": {
      "image/png": "[encoded data removed]",
      "text/plain": [
       "plot without title"
      ]
     },
     "metadata": {},
     "output_type": "display_data"
    }
   ],
   "source": [
    "# Now Fares\n",
    "\n",
    "summary(data.combined$Fare)\n",
    "length(unique(data.combined$Fare))\n",
    "\n",
    "ggplot(data.combined[1:891,],aes(x=Fare,fill=Survived))+\n",
    "  geom_histogram(binwidth = 5)+\n",
    "  ggtitle(\"Combined Fare Distribution\")+\n",
    "  xlab(\"Fare\")+\n",
    "  ylab(\"Total Count\")"
   ]
  },
  {
   "cell_type": "code",
   "execution_count": 36,
   "metadata": {
    "collapsed": false
   },
   "outputs": [
    {
     "data": {},
     "metadata": {},
     "output_type": "display_data"
    },
    {
     "data": {
      "image/png": "[encoded data removed]",
      "text/plain": [
       "plot without title"
      ]
     },
     "metadata": {},
     "output_type": "display_data"
    }
   ],
   "source": [
    "ggplot(data.combined[1:891,],aes(x=Fare,fill=Survived))+\n",
    "  geom_histogram(binwidth = 5)+\n",
    "  facet_wrap(~Pclass + Title)+\n",
    "  ggtitle(\"Combined Fare Distribution\")+\n",
    "  xlab(\"Fare\")+\n",
    "  ylab(\"Total Count\")"
   ]
  },
  {
   "cell_type": "code",
   "execution_count": 37,
   "metadata": {
    "collapsed": false
   },
   "outputs": [
    {
     "data": {},
     "metadata": {},
     "output_type": "display_data"
    },
    {
     "data": {
      "image/png": "[encoded data removed]",
      "text/plain": [
       "plot without title"
      ]
     },
     "metadata": {},
     "output_type": "display_data"
    }
   ],
   "source": [
    "ggplot(data.combined[1:891,],aes(x=Fare,fill=Survived))+\n",
    "  geom_histogram(binwidth = 5)+\n",
    "  facet_wrap(~Pclass + Title)+\n",
    "  ggtitle(\"Combined Fare Distribution\")+\n",
    "  xlab(\"Fare\")+\n",
    "  ylab(\"Total Count\")+\n",
    "  ylim(0,30)"
   ]
  },
  {
   "cell_type": "code",
   "execution_count": 38,
   "metadata": {
    "collapsed": false
   },
   "outputs": [
    {
     "data": {},
     "metadata": {},
     "output_type": "display_data"
    },
    {
     "data": {
      "image/png": "[encoded data removed]",
      "text/plain": [
       "plot without title"
      ]
     },
     "metadata": {},
     "output_type": "display_data"
    }
   ],
   "source": [
    "ggplot(data.combined[1:891,],aes(x=Fare,fill=Survived))+\n",
    "  geom_histogram(binwidth = 5)+\n",
    "  facet_wrap(~Title)+\n",
    "  ggtitle(\"Combined Fare Distribution\")+\n",
    "  xlab(\"Fare\")+\n",
    "  ylab(\"Total Count\")"
   ]
  },
  {
   "cell_type": "code",
   "execution_count": 39,
   "metadata": {
    "collapsed": false
   },
   "outputs": [
    {
     "name": "stdout",
     "output_type": "stream",
     "text": [
      " Factor w/ 187 levels \"\",\"A10\",\"A14\",..: 1 83 1 57 1 1 131 1 1 1 ...\n"
     ]
    },
    {
     "data": {
      "text/html": [
       "<ol class=list-inline>\n",
       "\t<li>''</li>\n",
       "\t<li>'C85'</li>\n",
       "\t<li>''</li>\n",
       "\t<li>'C123'</li>\n",
       "\t<li>''</li>\n",
       "\t<li>''</li>\n",
       "\t<li>'E46'</li>\n",
       "\t<li>''</li>\n",
       "\t<li>''</li>\n",
       "\t<li>''</li>\n",
       "\t<li>'G6'</li>\n",
       "\t<li>'C103'</li>\n",
       "\t<li>''</li>\n",
       "\t<li>''</li>\n",
       "\t<li>''</li>\n",
       "\t<li>''</li>\n",
       "\t<li>''</li>\n",
       "\t<li>''</li>\n",
       "\t<li>''</li>\n",
       "\t<li>''</li>\n",
       "\t<li>''</li>\n",
       "\t<li>'D56'</li>\n",
       "\t<li>''</li>\n",
       "\t<li>'A6'</li>\n",
       "\t<li>''</li>\n",
       "\t<li>''</li>\n",
       "\t<li>''</li>\n",
       "\t<li>'C23 C25 C27'</li>\n",
       "\t<li>''</li>\n",
       "\t<li>''</li>\n",
       "\t<li>''</li>\n",
       "\t<li>'B78'</li>\n",
       "\t<li>''</li>\n",
       "\t<li>''</li>\n",
       "\t<li>''</li>\n",
       "\t<li>''</li>\n",
       "\t<li>''</li>\n",
       "\t<li>''</li>\n",
       "\t<li>''</li>\n",
       "\t<li>''</li>\n",
       "\t<li>''</li>\n",
       "\t<li>''</li>\n",
       "\t<li>''</li>\n",
       "\t<li>''</li>\n",
       "\t<li>''</li>\n",
       "\t<li>''</li>\n",
       "\t<li>''</li>\n",
       "\t<li>''</li>\n",
       "\t<li>''</li>\n",
       "\t<li>''</li>\n",
       "\t<li>''</li>\n",
       "\t<li>''</li>\n",
       "\t<li>'D33'</li>\n",
       "\t<li>''</li>\n",
       "\t<li>'B30'</li>\n",
       "\t<li>'C52'</li>\n",
       "\t<li>''</li>\n",
       "\t<li>''</li>\n",
       "\t<li>''</li>\n",
       "\t<li>''</li>\n",
       "\t<li>''</li>\n",
       "\t<li>'B28'</li>\n",
       "\t<li>'C83'</li>\n",
       "\t<li>''</li>\n",
       "\t<li>''</li>\n",
       "\t<li>''</li>\n",
       "\t<li>'F33'</li>\n",
       "\t<li>''</li>\n",
       "\t<li>''</li>\n",
       "\t<li>''</li>\n",
       "\t<li>''</li>\n",
       "\t<li>''</li>\n",
       "\t<li>''</li>\n",
       "\t<li>''</li>\n",
       "\t<li>''</li>\n",
       "\t<li>'F G73'</li>\n",
       "\t<li>''</li>\n",
       "\t<li>''</li>\n",
       "\t<li>''</li>\n",
       "\t<li>''</li>\n",
       "\t<li>''</li>\n",
       "\t<li>''</li>\n",
       "\t<li>''</li>\n",
       "\t<li>''</li>\n",
       "\t<li>''</li>\n",
       "\t<li>''</li>\n",
       "\t<li>''</li>\n",
       "\t<li>''</li>\n",
       "\t<li>'C23 C25 C27'</li>\n",
       "\t<li>''</li>\n",
       "\t<li>''</li>\n",
       "\t<li>''</li>\n",
       "\t<li>'E31'</li>\n",
       "\t<li>''</li>\n",
       "\t<li>''</li>\n",
       "\t<li>''</li>\n",
       "\t<li>'A5'</li>\n",
       "\t<li>'D10 D12'</li>\n",
       "\t<li>''</li>\n",
       "\t<li>''</li>\n",
       "</ol>\n"
      ],
      "text/latex": [
       "\\begin{enumerate*}\n",
       "\\item ''\n",
       "\\item 'C85'\n",
       "\\item ''\n",
       "\\item 'C123'\n",
       "\\item ''\n",
       "\\item ''\n",
       "\\item 'E46'\n",
       "\\item ''\n",
       "\\item ''\n",
       "\\item ''\n",
       "\\item 'G6'\n",
       "\\item 'C103'\n",
       "\\item ''\n",
       "\\item ''\n",
       "\\item ''\n",
       "\\item ''\n",
       "\\item ''\n",
       "\\item ''\n",
       "\\item ''\n",
       "\\item ''\n",
       "\\item ''\n",
       "\\item 'D56'\n",
       "\\item ''\n",
       "\\item 'A6'\n",
       "\\item ''\n",
       "\\item ''\n",
       "\\item ''\n",
       "\\item 'C23 C25 C27'\n",
       "\\item ''\n",
       "\\item ''\n",
       "\\item ''\n",
       "\\item 'B78'\n",
       "\\item ''\n",
       "\\item ''\n",
       "\\item ''\n",
       "\\item ''\n",
       "\\item ''\n",
       "\\item ''\n",
       "\\item ''\n",
       "\\item ''\n",
       "\\item ''\n",
       "\\item ''\n",
       "\\item ''\n",
       "\\item ''\n",
       "\\item ''\n",
       "\\item ''\n",
       "\\item ''\n",
       "\\item ''\n",
       "\\item ''\n",
       "\\item ''\n",
       "\\item ''\n",
       "\\item ''\n",
       "\\item 'D33'\n",
       "\\item ''\n",
       "\\item 'B30'\n",
       "\\item 'C52'\n",
       "\\item ''\n",
       "\\item ''\n",
       "\\item ''\n",
       "\\item ''\n",
       "\\item ''\n",
       "\\item 'B28'\n",
       "\\item 'C83'\n",
       "\\item ''\n",
       "\\item ''\n",
       "\\item ''\n",
       "\\item 'F33'\n",
       "\\item ''\n",
       "\\item ''\n",
       "\\item ''\n",
       "\\item ''\n",
       "\\item ''\n",
       "\\item ''\n",
       "\\item ''\n",
       "\\item ''\n",
       "\\item 'F G73'\n",
       "\\item ''\n",
       "\\item ''\n",
       "\\item ''\n",
       "\\item ''\n",
       "\\item ''\n",
       "\\item ''\n",
       "\\item ''\n",
       "\\item ''\n",
       "\\item ''\n",
       "\\item ''\n",
       "\\item ''\n",
       "\\item ''\n",
       "\\item 'C23 C25 C27'\n",
       "\\item ''\n",
       "\\item ''\n",
       "\\item ''\n",
       "\\item 'E31'\n",
       "\\item ''\n",
       "\\item ''\n",
       "\\item ''\n",
       "\\item 'A5'\n",
       "\\item 'D10 D12'\n",
       "\\item ''\n",
       "\\item ''\n",
       "\\end{enumerate*}\n"
      ],
      "text/markdown": [
       "1. ''\n",
       "2. 'C85'\n",
       "3. ''\n",
       "4. 'C123'\n",
       "5. ''\n",
       "6. ''\n",
       "7. 'E46'\n",
       "8. ''\n",
       "9. ''\n",
       "10. ''\n",
       "11. 'G6'\n",
       "12. 'C103'\n",
       "13. ''\n",
       "14. ''\n",
       "15. ''\n",
       "16. ''\n",
       "17. ''\n",
       "18. ''\n",
       "19. ''\n",
       "20. ''\n",
       "21. ''\n",
       "22. 'D56'\n",
       "23. ''\n",
       "24. 'A6'\n",
       "25. ''\n",
       "26. ''\n",
       "27. ''\n",
       "28. 'C23 C25 C27'\n",
       "29. ''\n",
       "30. ''\n",
       "31. ''\n",
       "32. 'B78'\n",
       "33. ''\n",
       "34. ''\n",
       "35. ''\n",
       "36. ''\n",
       "37. ''\n",
       "38. ''\n",
       "39. ''\n",
       "40. ''\n",
       "41. ''\n",
       "42. ''\n",
       "43. ''\n",
       "44. ''\n",
       "45. ''\n",
       "46. ''\n",
       "47. ''\n",
       "48. ''\n",
       "49. ''\n",
       "50. ''\n",
       "51. ''\n",
       "52. ''\n",
       "53. 'D33'\n",
       "54. ''\n",
       "55. 'B30'\n",
       "56. 'C52'\n",
       "57. ''\n",
       "58. ''\n",
       "59. ''\n",
       "60. ''\n",
       "61. ''\n",
       "62. 'B28'\n",
       "63. 'C83'\n",
       "64. ''\n",
       "65. ''\n",
       "66. ''\n",
       "67. 'F33'\n",
       "68. ''\n",
       "69. ''\n",
       "70. ''\n",
       "71. ''\n",
       "72. ''\n",
       "73. ''\n",
       "74. ''\n",
       "75. ''\n",
       "76. 'F G73'\n",
       "77. ''\n",
       "78. ''\n",
       "79. ''\n",
       "80. ''\n",
       "81. ''\n",
       "82. ''\n",
       "83. ''\n",
       "84. ''\n",
       "85. ''\n",
       "86. ''\n",
       "87. ''\n",
       "88. ''\n",
       "89. 'C23 C25 C27'\n",
       "90. ''\n",
       "91. ''\n",
       "92. ''\n",
       "93. 'E31'\n",
       "94. ''\n",
       "95. ''\n",
       "96. ''\n",
       "97. 'A5'\n",
       "98. 'D10 D12'\n",
       "99. ''\n",
       "100. ''\n",
       "\n",
       "\n"
      ],
      "text/plain": [
       "  [1] \"\"            \"C85\"         \"\"            \"C123\"        \"\"           \n",
       "  [6] \"\"            \"E46\"         \"\"            \"\"            \"\"           \n",
       " [11] \"G6\"          \"C103\"        \"\"            \"\"            \"\"           \n",
       " [16] \"\"            \"\"            \"\"            \"\"            \"\"           \n",
       " [21] \"\"            \"D56\"         \"\"            \"A6\"          \"\"           \n",
       " [26] \"\"            \"\"            \"C23 C25 C27\" \"\"            \"\"           \n",
       " [31] \"\"            \"B78\"         \"\"            \"\"            \"\"           \n",
       " [36] \"\"            \"\"            \"\"            \"\"            \"\"           \n",
       " [41] \"\"            \"\"            \"\"            \"\"            \"\"           \n",
       " [46] \"\"            \"\"            \"\"            \"\"            \"\"           \n",
       " [51] \"\"            \"\"            \"D33\"         \"\"            \"B30\"        \n",
       " [56] \"C52\"         \"\"            \"\"            \"\"            \"\"           \n",
       " [61] \"\"            \"B28\"         \"C83\"         \"\"            \"\"           \n",
       " [66] \"\"            \"F33\"         \"\"            \"\"            \"\"           \n",
       " [71] \"\"            \"\"            \"\"            \"\"            \"\"           \n",
       " [76] \"F G73\"       \"\"            \"\"            \"\"            \"\"           \n",
       " [81] \"\"            \"\"            \"\"            \"\"            \"\"           \n",
       " [86] \"\"            \"\"            \"\"            \"C23 C25 C27\" \"\"           \n",
       " [91] \"\"            \"\"            \"E31\"         \"\"            \"\"           \n",
       " [96] \"\"            \"A5\"          \"D10 D12\"     \"\"            \"\"           "
      ]
     },
     "metadata": {},
     "output_type": "display_data"
    },
    {
     "data": {
      "text/html": [
       "<ol class=list-inline>\n",
       "\t<li>'U'</li>\n",
       "\t<li>'C85'</li>\n",
       "\t<li>'U'</li>\n",
       "\t<li>'C123'</li>\n",
       "\t<li>'U'</li>\n",
       "\t<li>'U'</li>\n",
       "\t<li>'E46'</li>\n",
       "\t<li>'U'</li>\n",
       "\t<li>'U'</li>\n",
       "\t<li>'U'</li>\n",
       "\t<li>'G6'</li>\n",
       "\t<li>'C103'</li>\n",
       "\t<li>'U'</li>\n",
       "\t<li>'U'</li>\n",
       "\t<li>'U'</li>\n",
       "\t<li>'U'</li>\n",
       "\t<li>'U'</li>\n",
       "\t<li>'U'</li>\n",
       "\t<li>'U'</li>\n",
       "\t<li>'U'</li>\n",
       "\t<li>'U'</li>\n",
       "\t<li>'D56'</li>\n",
       "\t<li>'U'</li>\n",
       "\t<li>'A6'</li>\n",
       "\t<li>'U'</li>\n",
       "\t<li>'U'</li>\n",
       "\t<li>'U'</li>\n",
       "\t<li>'C23 C25 C27'</li>\n",
       "\t<li>'U'</li>\n",
       "\t<li>'U'</li>\n",
       "\t<li>'U'</li>\n",
       "\t<li>'B78'</li>\n",
       "\t<li>'U'</li>\n",
       "\t<li>'U'</li>\n",
       "\t<li>'U'</li>\n",
       "\t<li>'U'</li>\n",
       "\t<li>'U'</li>\n",
       "\t<li>'U'</li>\n",
       "\t<li>'U'</li>\n",
       "\t<li>'U'</li>\n",
       "\t<li>'U'</li>\n",
       "\t<li>'U'</li>\n",
       "\t<li>'U'</li>\n",
       "\t<li>'U'</li>\n",
       "\t<li>'U'</li>\n",
       "\t<li>'U'</li>\n",
       "\t<li>'U'</li>\n",
       "\t<li>'U'</li>\n",
       "\t<li>'U'</li>\n",
       "\t<li>'U'</li>\n",
       "\t<li>'U'</li>\n",
       "\t<li>'U'</li>\n",
       "\t<li>'D33'</li>\n",
       "\t<li>'U'</li>\n",
       "\t<li>'B30'</li>\n",
       "\t<li>'C52'</li>\n",
       "\t<li>'U'</li>\n",
       "\t<li>'U'</li>\n",
       "\t<li>'U'</li>\n",
       "\t<li>'U'</li>\n",
       "\t<li>'U'</li>\n",
       "\t<li>'B28'</li>\n",
       "\t<li>'C83'</li>\n",
       "\t<li>'U'</li>\n",
       "\t<li>'U'</li>\n",
       "\t<li>'U'</li>\n",
       "\t<li>'F33'</li>\n",
       "\t<li>'U'</li>\n",
       "\t<li>'U'</li>\n",
       "\t<li>'U'</li>\n",
       "\t<li>'U'</li>\n",
       "\t<li>'U'</li>\n",
       "\t<li>'U'</li>\n",
       "\t<li>'U'</li>\n",
       "\t<li>'U'</li>\n",
       "\t<li>'F G73'</li>\n",
       "\t<li>'U'</li>\n",
       "\t<li>'U'</li>\n",
       "\t<li>'U'</li>\n",
       "\t<li>'U'</li>\n",
       "\t<li>'U'</li>\n",
       "\t<li>'U'</li>\n",
       "\t<li>'U'</li>\n",
       "\t<li>'U'</li>\n",
       "\t<li>'U'</li>\n",
       "\t<li>'U'</li>\n",
       "\t<li>'U'</li>\n",
       "\t<li>'U'</li>\n",
       "\t<li>'C23 C25 C27'</li>\n",
       "\t<li>'U'</li>\n",
       "\t<li>'U'</li>\n",
       "\t<li>'U'</li>\n",
       "\t<li>'E31'</li>\n",
       "\t<li>'U'</li>\n",
       "\t<li>'U'</li>\n",
       "\t<li>'U'</li>\n",
       "\t<li>'A5'</li>\n",
       "\t<li>'D10 D12'</li>\n",
       "\t<li>'U'</li>\n",
       "\t<li>'U'</li>\n",
       "</ol>\n"
      ],
      "text/latex": [
       "\\begin{enumerate*}\n",
       "\\item 'U'\n",
       "\\item 'C85'\n",
       "\\item 'U'\n",
       "\\item 'C123'\n",
       "\\item 'U'\n",
       "\\item 'U'\n",
       "\\item 'E46'\n",
       "\\item 'U'\n",
       "\\item 'U'\n",
       "\\item 'U'\n",
       "\\item 'G6'\n",
       "\\item 'C103'\n",
       "\\item 'U'\n",
       "\\item 'U'\n",
       "\\item 'U'\n",
       "\\item 'U'\n",
       "\\item 'U'\n",
       "\\item 'U'\n",
       "\\item 'U'\n",
       "\\item 'U'\n",
       "\\item 'U'\n",
       "\\item 'D56'\n",
       "\\item 'U'\n",
       "\\item 'A6'\n",
       "\\item 'U'\n",
       "\\item 'U'\n",
       "\\item 'U'\n",
       "\\item 'C23 C25 C27'\n",
       "\\item 'U'\n",
       "\\item 'U'\n",
       "\\item 'U'\n",
       "\\item 'B78'\n",
       "\\item 'U'\n",
       "\\item 'U'\n",
       "\\item 'U'\n",
       "\\item 'U'\n",
       "\\item 'U'\n",
       "\\item 'U'\n",
       "\\item 'U'\n",
       "\\item 'U'\n",
       "\\item 'U'\n",
       "\\item 'U'\n",
       "\\item 'U'\n",
       "\\item 'U'\n",
       "\\item 'U'\n",
       "\\item 'U'\n",
       "\\item 'U'\n",
       "\\item 'U'\n",
       "\\item 'U'\n",
       "\\item 'U'\n",
       "\\item 'U'\n",
       "\\item 'U'\n",
       "\\item 'D33'\n",
       "\\item 'U'\n",
       "\\item 'B30'\n",
       "\\item 'C52'\n",
       "\\item 'U'\n",
       "\\item 'U'\n",
       "\\item 'U'\n",
       "\\item 'U'\n",
       "\\item 'U'\n",
       "\\item 'B28'\n",
       "\\item 'C83'\n",
       "\\item 'U'\n",
       "\\item 'U'\n",
       "\\item 'U'\n",
       "\\item 'F33'\n",
       "\\item 'U'\n",
       "\\item 'U'\n",
       "\\item 'U'\n",
       "\\item 'U'\n",
       "\\item 'U'\n",
       "\\item 'U'\n",
       "\\item 'U'\n",
       "\\item 'U'\n",
       "\\item 'F G73'\n",
       "\\item 'U'\n",
       "\\item 'U'\n",
       "\\item 'U'\n",
       "\\item 'U'\n",
       "\\item 'U'\n",
       "\\item 'U'\n",
       "\\item 'U'\n",
       "\\item 'U'\n",
       "\\item 'U'\n",
       "\\item 'U'\n",
       "\\item 'U'\n",
       "\\item 'U'\n",
       "\\item 'C23 C25 C27'\n",
       "\\item 'U'\n",
       "\\item 'U'\n",
       "\\item 'U'\n",
       "\\item 'E31'\n",
       "\\item 'U'\n",
       "\\item 'U'\n",
       "\\item 'U'\n",
       "\\item 'A5'\n",
       "\\item 'D10 D12'\n",
       "\\item 'U'\n",
       "\\item 'U'\n",
       "\\end{enumerate*}\n"
      ],
      "text/markdown": [
       "1. 'U'\n",
       "2. 'C85'\n",
       "3. 'U'\n",
       "4. 'C123'\n",
       "5. 'U'\n",
       "6. 'U'\n",
       "7. 'E46'\n",
       "8. 'U'\n",
       "9. 'U'\n",
       "10. 'U'\n",
       "11. 'G6'\n",
       "12. 'C103'\n",
       "13. 'U'\n",
       "14. 'U'\n",
       "15. 'U'\n",
       "16. 'U'\n",
       "17. 'U'\n",
       "18. 'U'\n",
       "19. 'U'\n",
       "20. 'U'\n",
       "21. 'U'\n",
       "22. 'D56'\n",
       "23. 'U'\n",
       "24. 'A6'\n",
       "25. 'U'\n",
       "26. 'U'\n",
       "27. 'U'\n",
       "28. 'C23 C25 C27'\n",
       "29. 'U'\n",
       "30. 'U'\n",
       "31. 'U'\n",
       "32. 'B78'\n",
       "33. 'U'\n",
       "34. 'U'\n",
       "35. 'U'\n",
       "36. 'U'\n",
       "37. 'U'\n",
       "38. 'U'\n",
       "39. 'U'\n",
       "40. 'U'\n",
       "41. 'U'\n",
       "42. 'U'\n",
       "43. 'U'\n",
       "44. 'U'\n",
       "45. 'U'\n",
       "46. 'U'\n",
       "47. 'U'\n",
       "48. 'U'\n",
       "49. 'U'\n",
       "50. 'U'\n",
       "51. 'U'\n",
       "52. 'U'\n",
       "53. 'D33'\n",
       "54. 'U'\n",
       "55. 'B30'\n",
       "56. 'C52'\n",
       "57. 'U'\n",
       "58. 'U'\n",
       "59. 'U'\n",
       "60. 'U'\n",
       "61. 'U'\n",
       "62. 'B28'\n",
       "63. 'C83'\n",
       "64. 'U'\n",
       "65. 'U'\n",
       "66. 'U'\n",
       "67. 'F33'\n",
       "68. 'U'\n",
       "69. 'U'\n",
       "70. 'U'\n",
       "71. 'U'\n",
       "72. 'U'\n",
       "73. 'U'\n",
       "74. 'U'\n",
       "75. 'U'\n",
       "76. 'F G73'\n",
       "77. 'U'\n",
       "78. 'U'\n",
       "79. 'U'\n",
       "80. 'U'\n",
       "81. 'U'\n",
       "82. 'U'\n",
       "83. 'U'\n",
       "84. 'U'\n",
       "85. 'U'\n",
       "86. 'U'\n",
       "87. 'U'\n",
       "88. 'U'\n",
       "89. 'C23 C25 C27'\n",
       "90. 'U'\n",
       "91. 'U'\n",
       "92. 'U'\n",
       "93. 'E31'\n",
       "94. 'U'\n",
       "95. 'U'\n",
       "96. 'U'\n",
       "97. 'A5'\n",
       "98. 'D10 D12'\n",
       "99. 'U'\n",
       "100. 'U'\n",
       "\n",
       "\n"
      ],
      "text/plain": [
       "  [1] \"U\"           \"C85\"         \"U\"           \"C123\"        \"U\"          \n",
       "  [6] \"U\"           \"E46\"         \"U\"           \"U\"           \"U\"          \n",
       " [11] \"G6\"          \"C103\"        \"U\"           \"U\"           \"U\"          \n",
       " [16] \"U\"           \"U\"           \"U\"           \"U\"           \"U\"          \n",
       " [21] \"U\"           \"D56\"         \"U\"           \"A6\"          \"U\"          \n",
       " [26] \"U\"           \"U\"           \"C23 C25 C27\" \"U\"           \"U\"          \n",
       " [31] \"U\"           \"B78\"         \"U\"           \"U\"           \"U\"          \n",
       " [36] \"U\"           \"U\"           \"U\"           \"U\"           \"U\"          \n",
       " [41] \"U\"           \"U\"           \"U\"           \"U\"           \"U\"          \n",
       " [46] \"U\"           \"U\"           \"U\"           \"U\"           \"U\"          \n",
       " [51] \"U\"           \"U\"           \"D33\"         \"U\"           \"B30\"        \n",
       " [56] \"C52\"         \"U\"           \"U\"           \"U\"           \"U\"          \n",
       " [61] \"U\"           \"B28\"         \"C83\"         \"U\"           \"U\"          \n",
       " [66] \"U\"           \"F33\"         \"U\"           \"U\"           \"U\"          \n",
       " [71] \"U\"           \"U\"           \"U\"           \"U\"           \"U\"          \n",
       " [76] \"F G73\"       \"U\"           \"U\"           \"U\"           \"U\"          \n",
       " [81] \"U\"           \"U\"           \"U\"           \"U\"           \"U\"          \n",
       " [86] \"U\"           \"U\"           \"U\"           \"C23 C25 C27\" \"U\"          \n",
       " [91] \"U\"           \"U\"           \"E31\"         \"U\"           \"U\"          \n",
       " [96] \"U\"           \"A5\"          \"D10 D12\"     \"U\"           \"U\"          "
      ]
     },
     "metadata": {},
     "output_type": "display_data"
    },
    {
     "data": {
      "text/html": [
       "<ol class=list-inline>\n",
       "\t<li>U</li>\n",
       "\t<li>C</li>\n",
       "\t<li>E</li>\n",
       "\t<li>G</li>\n",
       "\t<li>D</li>\n",
       "\t<li>A</li>\n",
       "\t<li>B</li>\n",
       "\t<li>F</li>\n",
       "\t<li>T</li>\n",
       "</ol>\n"
      ],
      "text/latex": [
       "\\begin{enumerate*}\n",
       "\\item U\n",
       "\\item C\n",
       "\\item E\n",
       "\\item G\n",
       "\\item D\n",
       "\\item A\n",
       "\\item B\n",
       "\\item F\n",
       "\\item T\n",
       "\\end{enumerate*}\n"
      ],
      "text/markdown": [
       "1. U\n",
       "2. C\n",
       "3. E\n",
       "4. G\n",
       "5. D\n",
       "6. A\n",
       "7. B\n",
       "8. F\n",
       "9. T\n",
       "\n",
       "\n"
      ],
      "text/plain": [
       "[1] U C E G D A B F T\n",
       "Levels: A B C D E F G T U"
      ]
     },
     "metadata": {},
     "output_type": "display_data"
    },
    {
     "data": {
      "text/html": [
       "<ol class=list-inline>\n",
       "\t<li>'A'</li>\n",
       "\t<li>'B'</li>\n",
       "\t<li>'C'</li>\n",
       "\t<li>'D'</li>\n",
       "\t<li>'E'</li>\n",
       "\t<li>'F'</li>\n",
       "\t<li>'G'</li>\n",
       "\t<li>'T'</li>\n",
       "\t<li>'U'</li>\n",
       "</ol>\n"
      ],
      "text/latex": [
       "\\begin{enumerate*}\n",
       "\\item 'A'\n",
       "\\item 'B'\n",
       "\\item 'C'\n",
       "\\item 'D'\n",
       "\\item 'E'\n",
       "\\item 'F'\n",
       "\\item 'G'\n",
       "\\item 'T'\n",
       "\\item 'U'\n",
       "\\end{enumerate*}\n"
      ],
      "text/markdown": [
       "1. 'A'\n",
       "2. 'B'\n",
       "3. 'C'\n",
       "4. 'D'\n",
       "5. 'E'\n",
       "6. 'F'\n",
       "7. 'G'\n",
       "8. 'T'\n",
       "9. 'U'\n",
       "\n",
       "\n"
      ],
      "text/plain": [
       "[1] \"A\" \"B\" \"C\" \"D\" \"E\" \"F\" \"G\" \"T\" \"U\""
      ]
     },
     "metadata": {},
     "output_type": "display_data"
    }
   ],
   "source": [
    "# Now Cabin\n",
    "\n",
    "str(data.combined$Cabin)\n",
    "\n",
    "data.combined$Cabin <- as.character(data.combined$Cabin)\n",
    "data.combined$Cabin[1:100]\n",
    "\n",
    "data.combined[which(data.combined$Cabin == \"\"),\"Cabin\"] <- \"U\"\n",
    "data.combined$Cabin[1:100]\n",
    "\n",
    "Cabin.first.char <- as.factor(substr(data.combined$Cabin,1,1))\n",
    "unique(Cabin.first.char)\n",
    "levels(Cabin.first.char)\n",
    "\n",
    "data.combined$Cabin.first.char <- Cabin.first.char"
   ]
  },
  {
   "cell_type": "code",
   "execution_count": 40,
   "metadata": {
    "collapsed": false
   },
   "outputs": [
    {
     "data": {},
     "metadata": {},
     "output_type": "display_data"
    },
    {
     "data": {
      "image/png": "[encoded data removed]",
      "text/plain": [
       "plot without title"
      ]
     },
     "metadata": {},
     "output_type": "display_data"
    }
   ],
   "source": [
    "ggplot(data.combined[1:891,], aes(x = Cabin.first.char, fill = Survived))+\n",
    "  geom_bar()+\n",
    "  ggtitle(\"Cabin Survivability Distribution\")+\n",
    "  xlab(\"Cabin\")+\n",
    "  ylab(\"Total Count\")"
   ]
  },
  {
   "cell_type": "code",
   "execution_count": 41,
   "metadata": {
    "collapsed": false
   },
   "outputs": [
    {
     "data": {},
     "metadata": {},
     "output_type": "display_data"
    },
    {
     "data": {
      "image/png": "[encoded data removed]",
      "text/plain": [
       "plot without title"
      ]
     },
     "metadata": {},
     "output_type": "display_data"
    }
   ],
   "source": [
    "ggplot(data.combined[1:891,], aes(x = Cabin.first.char, fill = Survived))+\n",
    "  geom_bar()+\n",
    "  facet_wrap(~Pclass)+\n",
    "  ggtitle(\"Cabin Survivability Distribution by PClass\")+\n",
    "  xlab(\"Cabin\")+\n",
    "  ylab(\"Total Count\")"
   ]
  },
  {
   "cell_type": "code",
   "execution_count": 42,
   "metadata": {
    "collapsed": false
   },
   "outputs": [
    {
     "data": {},
     "metadata": {},
     "output_type": "display_data"
    },
    {
     "data": {
      "image/png": "[encoded data removed]",
      "text/plain": [
       "plot without title"
      ]
     },
     "metadata": {},
     "output_type": "display_data"
    }
   ],
   "source": [
    "ggplot(data.combined[1:891,], aes(x = Cabin.first.char, fill = Survived))+\n",
    "  geom_bar()+\n",
    "  facet_wrap(~Pclass + Title)+\n",
    "  ggtitle(\"Cabin Survivability Distribution by PClass and Title\")+\n",
    "  xlab(\"Cabin\")+\n",
    "  ylab(\"Total Count\")"
   ]
  },
  {
   "cell_type": "code",
   "execution_count": 43,
   "metadata": {
    "collapsed": false
   },
   "outputs": [
    {
     "data": {},
     "metadata": {},
     "output_type": "display_data"
    },
    {
     "data": {
      "image/png": "[encoded data removed]",
      "text/plain": [
       "plot without title"
      ]
     },
     "metadata": {},
     "output_type": "display_data"
    }
   ],
   "source": [
    "# Let's look at passengers with multiple cabinss\n",
    "\n",
    "data.combined$Cabin.multiple <- as.factor(ifelse(str_detect(data.combined$Cabin, \" \"), \"Y\", \"N\"))\n",
    "\n",
    "ggplot(data.combined[1:891,], aes(x = Cabin.multiple, fill = Survived))+\n",
    "  geom_bar()+\n",
    "  facet_wrap(~Pclass + Title)+\n",
    "  ggtitle(\"Pclass, Title\")+\n",
    "  xlab(\"Multiple Cabins\")+\n",
    "  ylab(\"Total Count\")+\n",
    "  labs(fill = \"Survived\")"
   ]
  },
  {
   "cell_type": "code",
   "execution_count": 44,
   "metadata": {
    "collapsed": false
   },
   "outputs": [
    {
     "name": "stdout",
     "output_type": "stream",
     "text": [
      " Factor w/ 4 levels \"\",\"C\",\"Q\",\"S\": 4 2 4 4 4 3 4 4 4 2 ...\n"
     ]
    },
    {
     "data": {
      "text/html": [
       "<ol class=list-inline>\n",
       "\t<li>''</li>\n",
       "\t<li>'C'</li>\n",
       "\t<li>'Q'</li>\n",
       "\t<li>'S'</li>\n",
       "</ol>\n"
      ],
      "text/latex": [
       "\\begin{enumerate*}\n",
       "\\item ''\n",
       "\\item 'C'\n",
       "\\item 'Q'\n",
       "\\item 'S'\n",
       "\\end{enumerate*}\n"
      ],
      "text/markdown": [
       "1. ''\n",
       "2. 'C'\n",
       "3. 'Q'\n",
       "4. 'S'\n",
       "\n",
       "\n"
      ],
      "text/plain": [
       "[1] \"\"  \"C\" \"Q\" \"S\""
      ]
     },
     "metadata": {},
     "output_type": "display_data"
    },
    {
     "data": {},
     "metadata": {},
     "output_type": "display_data"
    },
    {
     "data": {
      "image/png": "[encoded data removed]",
      "text/plain": [
       "plot without title"
      ]
     },
     "metadata": {},
     "output_type": "display_data"
    }
   ],
   "source": [
    "# Ok. Lastly let's have a look at survivability based on embarkment\n",
    "\n",
    "str(data.combined$Embarked)\n",
    "levels(data.combined$Embarked)\n",
    "\n",
    "ggplot(data.combined[1:891,], aes(x = Embarked, fill = Survived))+\n",
    "  geom_bar()+\n",
    "  facet_wrap(~Pclass + Title)+\n",
    "  ggtitle(\"Survivability based on where the person got Onboard\")+\n",
    "  xlab(\"Port of Embarkment\")+\n",
    "  ylab(\"Total Count\")+\n",
    "  labs(fill = \"Survived\")"
   ]
  },
  {
   "cell_type": "code",
   "execution_count": 45,
   "metadata": {
    "collapsed": true
   },
   "outputs": [],
   "source": [
    "# Ok. We have completed working on all the variables!"
   ]
  },
  {
   "cell_type": "code",
   "execution_count": 46,
   "metadata": {
    "collapsed": false
   },
   "outputs": [
    {
     "name": "stderr",
     "output_type": "stream",
     "text": [
      "randomForest 4.6-12\n",
      "Type rfNews() to see new features/changes/bug fixes.\n"
     ]
    },
    {
     "data": {
      "text/plain": [
       "\n",
       "Call:\n",
       " randomForest(x = rf.train.1, y = rf.label, ntree = 1000, importance = TRUE) \n",
       "               Type of random forest: classification\n",
       "                     Number of trees: 1000\n",
       "No. of variables tried at each split: 1\n",
       "\n",
       "        OOB estimate of  error rate: 20.76%\n",
       "Confusion matrix:\n",
       "    0   1 class.error\n",
       "0 538  11  0.02003643\n",
       "1 174 168  0.50877193"
      ]
     },
     "metadata": {},
     "output_type": "display_data"
    },
    {
     "data": {
      "image/png": "[encoded data removed]",
      "text/plain": [
       "plot without title"
      ]
     },
     "metadata": {},
     "output_type": "display_data"
    }
   ],
   "source": [
    "#----------------------------------------------------------------------------------\n",
    "#\n",
    "#                        EXPLORATORY MODELING\n",
    "#\n",
    "#----------------------------------------------------------------------------------\n",
    "\n",
    "# Let's use randomForest for this\n",
    "\n",
    "library(randomForest)\n",
    "\n",
    "#MODEL 1\n",
    "# Train a Random Forest with default variables using Pclass and Title\n",
    "rf.train.1 <- data.combined[1:891, c(\"Pclass\", \"Title\")]\n",
    "rf.label <- as.factor(train$Survived)\n",
    "\n",
    "set.seed(1234)\n",
    "rf.1 <- randomForest(x = rf.train.1, y = rf.label, importance = TRUE, ntree = 1000)\n",
    "rf.1\n",
    "varImpPlot(rf.1)"
   ]
  },
  {
   "cell_type": "code",
   "execution_count": 47,
   "metadata": {
    "collapsed": false
   },
   "outputs": [
    {
     "data": {
      "text/plain": [
       "\n",
       "Call:\n",
       " randomForest(x = rf.train.2, y = rf.label, ntree = 1000, importance = TRUE) \n",
       "               Type of random forest: classification\n",
       "                     Number of trees: 1000\n",
       "No. of variables tried at each split: 1\n",
       "\n",
       "        OOB estimate of  error rate: 19.75%\n",
       "Confusion matrix:\n",
       "    0   1 class.error\n",
       "0 487  62   0.1129326\n",
       "1 114 228   0.3333333"
      ]
     },
     "metadata": {},
     "output_type": "display_data"
    },
    {
     "data": {
      "image/png": "[encoded data removed]",
      "text/plain": [
       "plot without title"
      ]
     },
     "metadata": {},
     "output_type": "display_data"
    }
   ],
   "source": [
    "#MODEL 2\n",
    "# Train a Random Forest with using Pclass, Title, and SibSp\n",
    "rf.train.2 <- data.combined[1:891, c(\"Pclass\", \"Title\", \"SibSp\")]\n",
    "\n",
    "set.seed(1234)\n",
    "rf.2 <- randomForest(x = rf.train.2, y = rf.label, importance = TRUE, ntree = 1000)\n",
    "rf.2\n",
    "varImpPlot(rf.2)"
   ]
  },
  {
   "cell_type": "code",
   "execution_count": 48,
   "metadata": {
    "collapsed": false
   },
   "outputs": [
    {
     "data": {
      "text/plain": [
       "\n",
       "Call:\n",
       " randomForest(x = rf.train.3, y = rf.label, ntree = 1000, importance = TRUE) \n",
       "               Type of random forest: classification\n",
       "                     Number of trees: 1000\n",
       "No. of variables tried at each split: 1\n",
       "\n",
       "        OOB estimate of  error rate: 19.98%\n",
       "Confusion matrix:\n",
       "    0   1 class.error\n",
       "0 495  54  0.09836066\n",
       "1 124 218  0.36257310"
      ]
     },
     "metadata": {},
     "output_type": "display_data"
    },
    {
     "data": {
      "image/png": "[encoded data removed]",
      "text/plain": [
       "plot without title"
      ]
     },
     "metadata": {},
     "output_type": "display_data"
    }
   ],
   "source": [
    "#MODEL 3\n",
    "# Train a Random Forest with using Pclass, Title, and Parch\n",
    "rf.train.3 <- data.combined[1:891, c(\"Pclass\", \"Title\", \"Parch\")]\n",
    "\n",
    "set.seed(1234)\n",
    "rf.3 <- randomForest(x = rf.train.3, y = rf.label, importance = TRUE, ntree = 1000)\n",
    "rf.3\n",
    "varImpPlot(rf.3)"
   ]
  },
  {
   "cell_type": "code",
   "execution_count": 49,
   "metadata": {
    "collapsed": false
   },
   "outputs": [
    {
     "data": {
      "text/plain": [
       "\n",
       "Call:\n",
       " randomForest(x = rf.train.4, y = rf.label, ntree = 1000, importance = TRUE) \n",
       "               Type of random forest: classification\n",
       "                     Number of trees: 1000\n",
       "No. of variables tried at each split: 2\n",
       "\n",
       "        OOB estimate of  error rate: 18.52%\n",
       "Confusion matrix:\n",
       "    0   1 class.error\n",
       "0 489  60   0.1092896\n",
       "1 105 237   0.3070175"
      ]
     },
     "metadata": {},
     "output_type": "display_data"
    },
    {
     "data": {
      "image/png": "[encoded data removed]",
      "text/plain": [
       "plot without title"
      ]
     },
     "metadata": {},
     "output_type": "display_data"
    }
   ],
   "source": [
    "#MODEL 4\n",
    "# Train a Random Forest with using Pclass, Title, SibSp and Parch\n",
    "rf.train.4 <- data.combined[1:891, c(\"Pclass\", \"Title\", \"SibSp\", \"Parch\")]\n",
    "\n",
    "set.seed(1234)\n",
    "rf.4 <- randomForest(x = rf.train.4, y = rf.label, importance = TRUE, ntree = 1000)\n",
    "rf.4\n",
    "varImpPlot(rf.4)"
   ]
  },
  {
   "cell_type": "code",
   "execution_count": 50,
   "metadata": {
    "collapsed": false
   },
   "outputs": [
    {
     "data": {
      "text/plain": [
       "\n",
       "Call:\n",
       " randomForest(x = rf.train.5, y = rf.label, ntree = 1000, importance = TRUE) \n",
       "               Type of random forest: classification\n",
       "                     Number of trees: 1000\n",
       "No. of variables tried at each split: 1\n",
       "\n",
       "        OOB estimate of  error rate: 18.41%\n",
       "Confusion matrix:\n",
       "    0   1 class.error\n",
       "0 485  64   0.1165756\n",
       "1 100 242   0.2923977"
      ]
     },
     "metadata": {},
     "output_type": "display_data"
    },
    {
     "data": {
      "image/png": "[encoded data removed]",
      "text/plain": [
       "plot without title"
      ]
     },
     "metadata": {},
     "output_type": "display_data"
    }
   ],
   "source": [
    "#MODEL 5\n",
    "# Train a Random Forest with using Pclass, Title, and FamilySize\n",
    "rf.train.5 <- data.combined[1:891, c(\"Pclass\", \"Title\", \"FamilySize\")]\n",
    "\n",
    "set.seed(1234)\n",
    "rf.5 <- randomForest(x = rf.train.5, y = rf.label, importance = TRUE, ntree = 1000)\n",
    "rf.5\n",
    "varImpPlot(rf.5)"
   ]
  },
  {
   "cell_type": "code",
   "execution_count": 51,
   "metadata": {
    "collapsed": false
   },
   "outputs": [
    {
     "data": {
      "text/plain": [
       "\n",
       "Call:\n",
       " randomForest(x = rf.train.6, y = rf.label, ntree = 1000, importance = TRUE) \n",
       "               Type of random forest: classification\n",
       "                     Number of trees: 1000\n",
       "No. of variables tried at each split: 2\n",
       "\n",
       "        OOB estimate of  error rate: 18.74%\n",
       "Confusion matrix:\n",
       "    0   1 class.error\n",
       "0 486  63   0.1147541\n",
       "1 104 238   0.3040936"
      ]
     },
     "metadata": {},
     "output_type": "display_data"
    },
    {
     "data": {
      "image/png": "[encoded data removed]",
      "text/plain": [
       "plot without title"
      ]
     },
     "metadata": {},
     "output_type": "display_data"
    }
   ],
   "source": [
    "#MODEL 6\n",
    "# Train a Random Forest with using Pclass, Title, SibSp and FamilySize\n",
    "rf.train.6 <- data.combined[1:891, c(\"Pclass\", \"Title\", \"SibSp\", \"FamilySize\")]\n",
    "\n",
    "set.seed(1234)\n",
    "rf.6 <- randomForest(x = rf.train.6, y = rf.label, importance = TRUE, ntree = 1000)\n",
    "rf.6\n",
    "varImpPlot(rf.6)"
   ]
  },
  {
   "cell_type": "code",
   "execution_count": 52,
   "metadata": {
    "collapsed": false
   },
   "outputs": [
    {
     "data": {
      "text/plain": [
       "\n",
       "Call:\n",
       " randomForest(x = rf.train.7, y = rf.label, ntree = 1000, importance = TRUE) \n",
       "               Type of random forest: classification\n",
       "                     Number of trees: 1000\n",
       "No. of variables tried at each split: 2\n",
       "\n",
       "        OOB estimate of  error rate: 18.97%\n",
       "Confusion matrix:\n",
       "    0   1 class.error\n",
       "0 486  63   0.1147541\n",
       "1 106 236   0.3099415"
      ]
     },
     "metadata": {},
     "output_type": "display_data"
    },
    {
     "data": {
      "image/png": "[encoded data removed]",
      "text/plain": [
       "plot without title"
      ]
     },
     "metadata": {},
     "output_type": "display_data"
    }
   ],
   "source": [
    "#MODEL 7\n",
    "# Train a Random Forest with using Pclass, Title, Parch and FamilySize\n",
    "rf.train.7 <- data.combined[1:891, c(\"Pclass\", \"Title\", \"Parch\", \"FamilySize\")]\n",
    "\n",
    "set.seed(1234)\n",
    "rf.7 <- randomForest(x = rf.train.7, y = rf.label, importance = TRUE, ntree = 1000)\n",
    "rf.7\n",
    "varImpPlot(rf.7)"
   ]
  },
  {
   "cell_type": "code",
   "execution_count": 53,
   "metadata": {
    "collapsed": false
   },
   "outputs": [
    {
     "data": {
      "text/plain": [
       "\n",
       "Call:\n",
       " randomForest(x = rf.train.8, y = rf.label, ntree = 1000, importance = TRUE) \n",
       "               Type of random forest: classification\n",
       "                     Number of trees: 1000\n",
       "No. of variables tried at each split: 2\n",
       "\n",
       "        OOB estimate of  error rate: 19.42%\n",
       "Confusion matrix:\n",
       "    0   1 class.error\n",
       "0 483  66   0.1202186\n",
       "1 107 235   0.3128655"
      ]
     },
     "metadata": {},
     "output_type": "display_data"
    },
    {
     "data": {
      "image/png": "[encoded data removed]",
      "text/plain": [
       "plot without title"
      ]
     },
     "metadata": {},
     "output_type": "display_data"
    }
   ],
   "source": [
    "#MODEL 8\n",
    "# Train a Random Forest with using Pclass, Title, Parch, SibSp and FamilySize\n",
    "rf.train.8 <- data.combined[1:891, c(\"Pclass\", \"Title\", \"Parch\", \"SibSp\", \"FamilySize\")]\n",
    "\n",
    "set.seed(1234)\n",
    "rf.8 <- randomForest(x = rf.train.8, y = rf.label, importance = TRUE, ntree = 1000)\n",
    "rf.8\n",
    "varImpPlot(rf.8)"
   ]
  },
  {
   "cell_type": "code",
   "execution_count": 54,
   "metadata": {
    "collapsed": false
   },
   "outputs": [
    {
     "data": {
      "text/plain": [
       "rf.5.preds\n",
       "  0   1 \n",
       "258 160 "
      ]
     },
     "metadata": {},
     "output_type": "display_data"
    }
   ],
   "source": [
    "####################################################################################\n",
    "#                                                                                  #\n",
    "#                                   DATA VALIDATION                                #\n",
    "#                                                                                  #\n",
    "####################################################################################\n",
    "\n",
    "# Let's extract the prediction data\n",
    "test.submit.df <- data.combined[892:1309, c(\"Pclass\",\"Title\",\"FamilySize\")]\n",
    "\n",
    "# Make Predictions\n",
    "rf.5.preds <- predict(rf.5, test.submit.df)\n",
    "table(rf.5.preds)"
   ]
  },
  {
   "cell_type": "code",
   "execution_count": 55,
   "metadata": {
    "collapsed": false
   },
   "outputs": [
    {
     "name": "stderr",
     "output_type": "stream",
     "text": [
      "Loading required package: lattice\n",
      "Loading required package: foreach\n",
      "Loading required package: iterators\n",
      "Loading required package: snow\n"
     ]
    }
   ],
   "source": [
    "library(caret)\n",
    "library(doSNOW)\n",
    "\n",
    "set.seed(2348)\n",
    "cv.10.folds <- createMultiFolds(rf.label, k = 10, times = 10)"
   ]
  },
  {
   "cell_type": "code",
   "execution_count": 56,
   "metadata": {
    "collapsed": false
   },
   "outputs": [
    {
     "data": {
      "text/plain": [
       "rf.label\n",
       "  0   1 \n",
       "549 342 "
      ]
     },
     "metadata": {},
     "output_type": "display_data"
    },
    {
     "data": {
      "text/html": [
       "0.622950819672131"
      ],
      "text/latex": [
       "0.622950819672131"
      ],
      "text/markdown": [
       "0.622950819672131"
      ],
      "text/plain": [
       "[1] 0.6229508"
      ]
     },
     "metadata": {},
     "output_type": "display_data"
    },
    {
     "data": {
      "text/plain": [
       "\n",
       "  0   1 \n",
       "494 308 "
      ]
     },
     "metadata": {},
     "output_type": "display_data"
    },
    {
     "data": {
      "text/html": [
       "0.623481781376518"
      ],
      "text/latex": [
       "0.623481781376518"
      ],
      "text/markdown": [
       "0.623481781376518"
      ],
      "text/plain": [
       "[1] 0.6234818"
      ]
     },
     "metadata": {},
     "output_type": "display_data"
    }
   ],
   "source": [
    "table(rf.label)\n",
    "342/549\n",
    "\n",
    "table(rf.label[cv.10.folds[[33]]])\n",
    "308/494"
   ]
  },
  {
   "cell_type": "code",
   "execution_count": 57,
   "metadata": {
    "collapsed": false
   },
   "outputs": [
    {
     "name": "stdout",
     "output_type": "stream",
     "text": [
      "note: only 2 unique complexity parameters in default grid. Truncating the grid to 2 .\n",
      "\n"
     ]
    }
   ],
   "source": [
    "ctrl.1 <- trainControl(method = \"repeatedcv\", number = 10, repeats = 10, index = cv.10.folds)\n",
    "\n",
    "cl <- makeCluster(6, type = \"SOCK\")\n",
    "registerDoSNOW(cl)\n",
    "\n",
    "set.seed(34324)\n",
    "rf.5.cv.1 <- train(x = rf.train.5, y = rf.label, method = \"rf\", tuneLength = 3, ntree = 1000, trControl = ctrl.1)"
   ]
  },
  {
   "cell_type": "code",
   "execution_count": 58,
   "metadata": {
    "collapsed": true
   },
   "outputs": [],
   "source": [
    "# Now let's stop the cluster\n",
    "stopCluster(cl)"
   ]
  },
  {
   "cell_type": "code",
   "execution_count": 59,
   "metadata": {
    "collapsed": false
   },
   "outputs": [
    {
     "data": {
      "text/plain": [
       "Random Forest \n",
       "\n",
       "891 samples\n",
       "  3 predictor\n",
       "  2 classes: '0', '1' \n",
       "\n",
       "No pre-processing\n",
       "Resampling: Cross-Validated (10 fold, repeated 10 times) \n",
       "Summary of sample sizes: 801, 802, 802, 803, 802, 801, ... \n",
       "Resampling results across tuning parameters:\n",
       "\n",
       "  mtry  Accuracy   Kappa    \n",
       "  2     0.8121316  0.5929087\n",
       "  3     0.8089966  0.5852138\n",
       "\n",
       "Accuracy was used to select the optimal model using  the largest value.\n",
       "The final value used for the model was mtry = 2. "
      ]
     },
     "metadata": {},
     "output_type": "display_data"
    }
   ],
   "source": [
    "# Let's have a look at the results\n",
    "rf.5.cv.1"
   ]
  },
  {
   "cell_type": "code",
   "execution_count": 60,
   "metadata": {
    "collapsed": false
   },
   "outputs": [
    {
     "name": "stdout",
     "output_type": "stream",
     "text": [
      "note: only 2 unique complexity parameters in default grid. Truncating the grid to 2 .\n",
      "\n"
     ]
    },
    {
     "data": {
      "text/plain": [
       "Random Forest \n",
       "\n",
       "891 samples\n",
       "  3 predictor\n",
       "  2 classes: '0', '1' \n",
       "\n",
       "No pre-processing\n",
       "Resampling: Cross-Validated (5 fold, repeated 10 times) \n",
       "Summary of sample sizes: 713, 713, 713, 713, 712, 713, ... \n",
       "Resampling results across tuning parameters:\n",
       "\n",
       "  mtry  Accuracy   Kappa    \n",
       "  2     0.8128009  0.5958137\n",
       "  3     0.8092105  0.5875778\n",
       "\n",
       "Accuracy was used to select the optimal model using  the largest value.\n",
       "The final value used for the model was mtry = 2. "
      ]
     },
     "metadata": {},
     "output_type": "display_data"
    }
   ],
   "source": [
    "# Try to do the same with smaller amount of data\n",
    "set.seed(5983)\n",
    "cv.5.folds <- createMultiFolds(rf.label, k = 5, times = 10)\n",
    "\n",
    "ctrl.2 <- trainControl(method = \"repeatedcv\", number = 5, repeats = 10, index = cv.5.folds)\n",
    "\n",
    "cl <- makeCluster(6, type = \"SOCK\")\n",
    "registerDoSNOW(cl)\n",
    "\n",
    "set.seed(89472)\n",
    "rf.5.cv.2 <- train(x = rf.train.5, y = rf.label, method = \"rf\", tuneLength = 3, ntree = 1000, trControl = ctrl.2)\n",
    "stopCluster(cl)\n",
    "rf.5.cv.2"
   ]
  },
  {
   "cell_type": "code",
   "execution_count": 61,
   "metadata": {
    "collapsed": false
   },
   "outputs": [
    {
     "name": "stdout",
     "output_type": "stream",
     "text": [
      "note: only 2 unique complexity parameters in default grid. Truncating the grid to 2 .\n",
      "\n"
     ]
    },
    {
     "data": {
      "text/plain": [
       "Random Forest \n",
       "\n",
       "891 samples\n",
       "  3 predictor\n",
       "  2 classes: '0', '1' \n",
       "\n",
       "No pre-processing\n",
       "Resampling: Cross-Validated (3 fold, repeated 10 times) \n",
       "Summary of sample sizes: 594, 594, 594, 594, 594, 594, ... \n",
       "Resampling results across tuning parameters:\n",
       "\n",
       "  mtry  Accuracy   Kappa    \n",
       "  2     0.8098765  0.5859242\n",
       "  3     0.8062851  0.5772994\n",
       "\n",
       "Accuracy was used to select the optimal model using  the largest value.\n",
       "The final value used for the model was mtry = 2. "
      ]
     },
     "metadata": {},
     "output_type": "display_data"
    }
   ],
   "source": [
    "# Try to do the same with 3-fold\n",
    "set.seed(37596)\n",
    "cv.3.folds <- createMultiFolds(rf.label, k = 3, times = 10)\n",
    "\n",
    "ctrl.3 <- trainControl(method = \"repeatedcv\", number = 3, repeats = 10, index = cv.3.folds)\n",
    "\n",
    "cl <- makeCluster(6, type = \"SOCK\")\n",
    "registerDoSNOW(cl)\n",
    "\n",
    "set.seed(94622)\n",
    "rf.5.cv.3 <- train(x = rf.train.5, y = rf.label, method = \"rf\", tuneLength = 3, ntree = 64, trControl = ctrl.3)\n",
    "stopCluster(cl)\n",
    "rf.5.cv.3"
   ]
  },
  {
   "cell_type": "code",
   "execution_count": 62,
   "metadata": {
    "collapsed": true
   },
   "outputs": [],
   "source": [
    "###################################################################################\n",
    "#                                                                                 #\n",
    "#                           EXPLORATORY MODELING # 2                              #\n",
    "#                                                                                 #\n",
    "###################################################################################\n",
    "library(rpart)\n",
    "library(rpart.plot)"
   ]
  },
  {
   "cell_type": "code",
   "execution_count": 63,
   "metadata": {
    "collapsed": true
   },
   "outputs": [],
   "source": [
    "rpart.cv <- function(seed, training, labels, ctrl) {\n",
    "  cl <- makeCluster(6, type = \"SOCK\")\n",
    "  registerDoSNOW(cl)\n",
    "  \n",
    "  set.seed(seed)\n",
    "  rpart.cv <- train(x = training, y = rf.label, method = \"rpart\", tuneLength = 30, trControl = ctrl)\n",
    "  \n",
    "  stopCluster(cl)\n",
    "  \n",
    "  return(rpart.cv)\n",
    "}"
   ]
  },
  {
   "cell_type": "code",
   "execution_count": 64,
   "metadata": {
    "collapsed": false
   },
   "outputs": [
    {
     "data": {
      "text/plain": [
       "CART \n",
       "\n",
       "891 samples\n",
       "  3 predictor\n",
       "  2 classes: '0', '1' \n",
       "\n",
       "No pre-processing\n",
       "Resampling: Cross-Validated (3 fold, repeated 10 times) \n",
       "Summary of sample sizes: 594, 594, 594, 594, 594, 594, ... \n",
       "Resampling results across tuning parameters:\n",
       "\n",
       "  cp          Accuracy   Kappa    \n",
       "  0.00000000  0.8093154  0.5872691\n",
       "  0.01542650  0.8151515  0.6021814\n",
       "  0.03085299  0.8170595  0.6073245\n",
       "  0.04627949  0.8035915  0.5819021\n",
       "  0.06170599  0.7866442  0.5481020\n",
       "  0.07713249  0.7877666  0.5520131\n",
       "  0.09255898  0.7869809  0.5506934\n",
       "  0.10798548  0.7832772  0.5443564\n",
       "  0.12341198  0.7821549  0.5426317\n",
       "  0.13883848  0.7820426  0.5427793\n",
       "  0.15426497  0.7820426  0.5427793\n",
       "  0.16969147  0.7820426  0.5427793\n",
       "  0.18511797  0.7820426  0.5427793\n",
       "  0.20054446  0.7820426  0.5427793\n",
       "  0.21597096  0.7820426  0.5427793\n",
       "  0.23139746  0.7820426  0.5427793\n",
       "  0.24682396  0.7820426  0.5427793\n",
       "  0.26225045  0.7820426  0.5427793\n",
       "  0.27767695  0.7820426  0.5427793\n",
       "  0.29310345  0.7820426  0.5427793\n",
       "  0.30852995  0.7820426  0.5427793\n",
       "  0.32395644  0.7820426  0.5427793\n",
       "  0.33938294  0.7820426  0.5427793\n",
       "  0.35480944  0.7820426  0.5427793\n",
       "  0.37023593  0.7820426  0.5427793\n",
       "  0.38566243  0.7820426  0.5427793\n",
       "  0.40108893  0.7757576  0.5230281\n",
       "  0.41651543  0.7631874  0.4835751\n",
       "  0.43194192  0.7270483  0.3685616\n",
       "  0.44736842  0.6927048  0.2567765\n",
       "\n",
       "Accuracy was used to select the optimal model using  the largest value.\n",
       "The final value used for the model was cp = 0.03085299. "
      ]
     },
     "metadata": {},
     "output_type": "display_data"
    }
   ],
   "source": [
    "features <- c(\"Pclass\",\"Title\",\"FamilySize\")\n",
    "rpart.train.1 <- data.combined[1:891, features]\n",
    "\n",
    "rpart.1.cv.1 <- rpart.cv(94622, rpart.train.1, rf.label, ctrl.3)\n",
    "rpart.1.cv.1"
   ]
  },
  {
   "cell_type": "code",
   "execution_count": 65,
   "metadata": {
    "collapsed": false
   },
   "outputs": [
    {
     "data": {
      "text/plain": [
       "n= 891 \n",
       "\n",
       "node), split, n, loss, yval, (yprob)\n",
       "      * denotes terminal node\n",
       "\n",
       " 1) root 891 342 0 (0.61616162 0.38383838)  \n",
       "   2) Title=Mr.,Other 542  91 0 (0.83210332 0.16789668) *\n",
       "   3) Title=Master.,Miss.,Mrs. 349  98 1 (0.28080229 0.71919771)  \n",
       "     6) Pclass=3 172  83 0 (0.51744186 0.48255814)  \n",
       "      12) FamilySize=5,6,8,11 34   0 0 (1.00000000 0.00000000) *\n",
       "      13) FamilySize=1,2,3,4,7 138  55 1 (0.39855072 0.60144928) *\n",
       "     7) Pclass=1,2 177   9 1 (0.05084746 0.94915254) *"
      ]
     },
     "metadata": {},
     "output_type": "display_data"
    },
    {
     "data": {
      "image/png": "[encoded data removed]",
      "text/plain": [
       "plot without title"
      ]
     },
     "metadata": {},
     "output_type": "display_data"
    }
   ],
   "source": [
    "prp(rpart.1.cv.1$finalModel, type = 0, extra = 1, under = TRUE)\n",
    "\n",
    "rpart.1.cv.1$finalModel"
   ]
  },
  {
   "cell_type": "code",
   "execution_count": 66,
   "metadata": {
    "collapsed": false
   },
   "outputs": [
    {
     "data": {
      "text/plain": [
       "\n",
       "Master.   Miss.     Mr.    Mrs.   Other \n",
       "     61     260     758     199      31 "
      ]
     },
     "metadata": {},
     "output_type": "display_data"
    },
    {
     "data": {
      "text/html": [
       "<ol class=list-inline>\n",
       "\t<li>Braund, Mr. Owen Harris</li>\n",
       "\t<li>Cumings, Mrs. John Bradley (Florence Briggs Thayer)</li>\n",
       "\t<li>Heikkinen, Miss. Laina</li>\n",
       "\t<li>Futrelle, Mrs. Jacques Heath (Lily May Peel)</li>\n",
       "\t<li>Allen, Mr. William Henry</li>\n",
       "\t<li>Moran, Mr. James</li>\n",
       "\t<li>McCarthy, Mr. Timothy J</li>\n",
       "\t<li>Palsson, Master. Gosta Leonard</li>\n",
       "\t<li>Johnson, Mrs. Oscar W (Elisabeth Vilhelmina Berg)</li>\n",
       "\t<li>Nasser, Mrs. Nicholas (Adele Achem)</li>\n",
       "\t<li>Sandstrom, Miss. Marguerite Rut</li>\n",
       "\t<li>Bonnell, Miss. Elizabeth</li>\n",
       "\t<li>Saundercock, Mr. William Henry</li>\n",
       "\t<li>Andersson, Mr. Anders Johan</li>\n",
       "\t<li>Vestrom, Miss. Hulda Amanda Adolfina</li>\n",
       "\t<li>Hewlett, Mrs. (Mary D Kingcome) </li>\n",
       "\t<li>Rice, Master. Eugene</li>\n",
       "\t<li>Williams, Mr. Charles Eugene</li>\n",
       "\t<li>Vander Planke, Mrs. Julius (Emelia Maria Vandemoortele)</li>\n",
       "\t<li>Masselmani, Mrs. Fatima</li>\n",
       "\t<li>Fynney, Mr. Joseph J</li>\n",
       "\t<li>Beesley, Mr. Lawrence</li>\n",
       "\t<li>McGowan, Miss. Anna \"Annie\"</li>\n",
       "\t<li>Sloper, Mr. William Thompson</li>\n",
       "\t<li>Palsson, Miss. Torborg Danira</li>\n",
       "</ol>\n"
      ],
      "text/latex": [
       "\\begin{enumerate*}\n",
       "\\item Braund, Mr. Owen Harris\n",
       "\\item Cumings, Mrs. John Bradley (Florence Briggs Thayer)\n",
       "\\item Heikkinen, Miss. Laina\n",
       "\\item Futrelle, Mrs. Jacques Heath (Lily May Peel)\n",
       "\\item Allen, Mr. William Henry\n",
       "\\item Moran, Mr. James\n",
       "\\item McCarthy, Mr. Timothy J\n",
       "\\item Palsson, Master. Gosta Leonard\n",
       "\\item Johnson, Mrs. Oscar W (Elisabeth Vilhelmina Berg)\n",
       "\\item Nasser, Mrs. Nicholas (Adele Achem)\n",
       "\\item Sandstrom, Miss. Marguerite Rut\n",
       "\\item Bonnell, Miss. Elizabeth\n",
       "\\item Saundercock, Mr. William Henry\n",
       "\\item Andersson, Mr. Anders Johan\n",
       "\\item Vestrom, Miss. Hulda Amanda Adolfina\n",
       "\\item Hewlett, Mrs. (Mary D Kingcome) \n",
       "\\item Rice, Master. Eugene\n",
       "\\item Williams, Mr. Charles Eugene\n",
       "\\item Vander Planke, Mrs. Julius (Emelia Maria Vandemoortele)\n",
       "\\item Masselmani, Mrs. Fatima\n",
       "\\item Fynney, Mr. Joseph J\n",
       "\\item Beesley, Mr. Lawrence\n",
       "\\item McGowan, Miss. Anna \"Annie\"\n",
       "\\item Sloper, Mr. William Thompson\n",
       "\\item Palsson, Miss. Torborg Danira\n",
       "\\end{enumerate*}\n"
      ],
      "text/markdown": [
       "1. Braund, Mr. Owen Harris\n",
       "2. Cumings, Mrs. John Bradley (Florence Briggs Thayer)\n",
       "3. Heikkinen, Miss. Laina\n",
       "4. Futrelle, Mrs. Jacques Heath (Lily May Peel)\n",
       "5. Allen, Mr. William Henry\n",
       "6. Moran, Mr. James\n",
       "7. McCarthy, Mr. Timothy J\n",
       "8. Palsson, Master. Gosta Leonard\n",
       "9. Johnson, Mrs. Oscar W (Elisabeth Vilhelmina Berg)\n",
       "10. Nasser, Mrs. Nicholas (Adele Achem)\n",
       "11. Sandstrom, Miss. Marguerite Rut\n",
       "12. Bonnell, Miss. Elizabeth\n",
       "13. Saundercock, Mr. William Henry\n",
       "14. Andersson, Mr. Anders Johan\n",
       "15. Vestrom, Miss. Hulda Amanda Adolfina\n",
       "16. Hewlett, Mrs. (Mary D Kingcome) \n",
       "17. Rice, Master. Eugene\n",
       "18. Williams, Mr. Charles Eugene\n",
       "19. Vander Planke, Mrs. Julius (Emelia Maria Vandemoortele)\n",
       "20. Masselmani, Mrs. Fatima\n",
       "21. Fynney, Mr. Joseph J\n",
       "22. Beesley, Mr. Lawrence\n",
       "23. McGowan, Miss. Anna \"Annie\"\n",
       "24. Sloper, Mr. William Thompson\n",
       "25. Palsson, Miss. Torborg Danira\n",
       "\n",
       "\n"
      ],
      "text/plain": [
       " [1] Braund, Mr. Owen Harris                                \n",
       " [2] Cumings, Mrs. John Bradley (Florence Briggs Thayer)    \n",
       " [3] Heikkinen, Miss. Laina                                 \n",
       " [4] Futrelle, Mrs. Jacques Heath (Lily May Peel)           \n",
       " [5] Allen, Mr. William Henry                               \n",
       " [6] Moran, Mr. James                                       \n",
       " [7] McCarthy, Mr. Timothy J                                \n",
       " [8] Palsson, Master. Gosta Leonard                         \n",
       " [9] Johnson, Mrs. Oscar W (Elisabeth Vilhelmina Berg)      \n",
       "[10] Nasser, Mrs. Nicholas (Adele Achem)                    \n",
       "[11] Sandstrom, Miss. Marguerite Rut                        \n",
       "[12] Bonnell, Miss. Elizabeth                               \n",
       "[13] Saundercock, Mr. William Henry                         \n",
       "[14] Andersson, Mr. Anders Johan                            \n",
       "[15] Vestrom, Miss. Hulda Amanda Adolfina                   \n",
       "[16] Hewlett, Mrs. (Mary D Kingcome)                        \n",
       "[17] Rice, Master. Eugene                                   \n",
       "[18] Williams, Mr. Charles Eugene                           \n",
       "[19] Vander Planke, Mrs. Julius (Emelia Maria Vandemoortele)\n",
       "[20] Masselmani, Mrs. Fatima                                \n",
       "[21] Fynney, Mr. Joseph J                                   \n",
       "[22] Beesley, Mr. Lawrence                                  \n",
       "[23] McGowan, Miss. Anna \"Annie\"                            \n",
       "[24] Sloper, Mr. William Thompson                           \n",
       "[25] Palsson, Miss. Torborg Danira                          \n",
       "1307 Levels: Abbing, Mr. Anthony ... Zakarian, Mr. Ortin"
      ]
     },
     "metadata": {},
     "output_type": "display_data"
    }
   ],
   "source": [
    "table(data.combined$Title)\n",
    "\n",
    "data.combined[1:25, \"Name\"]"
   ]
  },
  {
   "cell_type": "code",
   "execution_count": 67,
   "metadata": {
    "collapsed": false
   },
   "outputs": [
    {
     "data": {
      "text/html": [
       "<ol>\n",
       "\t<li><ol class=list-inline>\n",
       "\t<li>'Braund'</li>\n",
       "\t<li>' Mr. Owen Harris'</li>\n",
       "</ol>\n",
       "</li>\n",
       "</ol>\n"
      ],
      "text/latex": [
       "\\begin{enumerate}\n",
       "\\item \\begin{enumerate*}\n",
       "\\item 'Braund'\n",
       "\\item ' Mr. Owen Harris'\n",
       "\\end{enumerate*}\n",
       "\n",
       "\\end{enumerate}\n"
      ],
      "text/markdown": [
       "1. 1. 'Braund'\n",
       "2. ' Mr. Owen Harris'\n",
       "\n",
       "\n",
       "\n",
       "\n",
       "\n"
      ],
      "text/plain": [
       "[[1]]\n",
       "[1] \"Braund\"           \" Mr. Owen Harris\"\n"
      ]
     },
     "metadata": {},
     "output_type": "display_data"
    }
   ],
   "source": [
    "name.splits <- str_split(data.combined$Name, \",\")\n",
    "name.splits[1]"
   ]
  },
  {
   "cell_type": "code",
   "execution_count": 68,
   "metadata": {
    "collapsed": false
   },
   "outputs": [
    {
     "data": {
      "text/html": [
       "<ol class=list-inline>\n",
       "\t<li>'Braund'</li>\n",
       "\t<li>'Cumings'</li>\n",
       "\t<li>'Heikkinen'</li>\n",
       "\t<li>'Futrelle'</li>\n",
       "\t<li>'Allen'</li>\n",
       "\t<li>'Moran'</li>\n",
       "\t<li>'McCarthy'</li>\n",
       "\t<li>'Palsson'</li>\n",
       "\t<li>'Johnson'</li>\n",
       "\t<li>'Nasser'</li>\n",
       "</ol>\n"
      ],
      "text/latex": [
       "\\begin{enumerate*}\n",
       "\\item 'Braund'\n",
       "\\item 'Cumings'\n",
       "\\item 'Heikkinen'\n",
       "\\item 'Futrelle'\n",
       "\\item 'Allen'\n",
       "\\item 'Moran'\n",
       "\\item 'McCarthy'\n",
       "\\item 'Palsson'\n",
       "\\item 'Johnson'\n",
       "\\item 'Nasser'\n",
       "\\end{enumerate*}\n"
      ],
      "text/markdown": [
       "1. 'Braund'\n",
       "2. 'Cumings'\n",
       "3. 'Heikkinen'\n",
       "4. 'Futrelle'\n",
       "5. 'Allen'\n",
       "6. 'Moran'\n",
       "7. 'McCarthy'\n",
       "8. 'Palsson'\n",
       "9. 'Johnson'\n",
       "10. 'Nasser'\n",
       "\n",
       "\n"
      ],
      "text/plain": [
       " [1] \"Braund\"    \"Cumings\"   \"Heikkinen\" \"Futrelle\"  \"Allen\"     \"Moran\"    \n",
       " [7] \"McCarthy\"  \"Palsson\"   \"Johnson\"   \"Nasser\"   "
      ]
     },
     "metadata": {},
     "output_type": "display_data"
    }
   ],
   "source": [
    "last.names <- sapply(name.splits,\"[\",1)\n",
    "last.names[1:10]"
   ]
  },
  {
   "cell_type": "code",
   "execution_count": 69,
   "metadata": {
    "collapsed": true
   },
   "outputs": [],
   "source": [
    "data.combined$last.name <- last.names"
   ]
  },
  {
   "cell_type": "code",
   "execution_count": 70,
   "metadata": {
    "collapsed": false
   },
   "outputs": [],
   "source": [
    "# Now for titles\n",
    "name.splits <- str_split(sapply(name.splits,\"[\",2), \" \")\n",
    "titles <- sapply(name.splits,\"[\",2)"
   ]
  },
  {
   "cell_type": "code",
   "execution_count": 71,
   "metadata": {
    "collapsed": false
   },
   "outputs": [
    {
     "data": {
      "text/html": [
       "<ol class=list-inline>\n",
       "\t<li>'Mr.'</li>\n",
       "\t<li>'Mrs.'</li>\n",
       "\t<li>'Miss.'</li>\n",
       "\t<li>'Master.'</li>\n",
       "\t<li>'Don.'</li>\n",
       "\t<li>'Rev.'</li>\n",
       "\t<li>'Dr.'</li>\n",
       "\t<li>'Mme.'</li>\n",
       "\t<li>'Ms.'</li>\n",
       "\t<li>'Major.'</li>\n",
       "\t<li>'Lady.'</li>\n",
       "\t<li>'Sir.'</li>\n",
       "\t<li>'Mlle.'</li>\n",
       "\t<li>'Col.'</li>\n",
       "\t<li>'Capt.'</li>\n",
       "\t<li>'the'</li>\n",
       "\t<li>'Jonkheer.'</li>\n",
       "\t<li>'Dona.'</li>\n",
       "</ol>\n"
      ],
      "text/latex": [
       "\\begin{enumerate*}\n",
       "\\item 'Mr.'\n",
       "\\item 'Mrs.'\n",
       "\\item 'Miss.'\n",
       "\\item 'Master.'\n",
       "\\item 'Don.'\n",
       "\\item 'Rev.'\n",
       "\\item 'Dr.'\n",
       "\\item 'Mme.'\n",
       "\\item 'Ms.'\n",
       "\\item 'Major.'\n",
       "\\item 'Lady.'\n",
       "\\item 'Sir.'\n",
       "\\item 'Mlle.'\n",
       "\\item 'Col.'\n",
       "\\item 'Capt.'\n",
       "\\item 'the'\n",
       "\\item 'Jonkheer.'\n",
       "\\item 'Dona.'\n",
       "\\end{enumerate*}\n"
      ],
      "text/markdown": [
       "1. 'Mr.'\n",
       "2. 'Mrs.'\n",
       "3. 'Miss.'\n",
       "4. 'Master.'\n",
       "5. 'Don.'\n",
       "6. 'Rev.'\n",
       "7. 'Dr.'\n",
       "8. 'Mme.'\n",
       "9. 'Ms.'\n",
       "10. 'Major.'\n",
       "11. 'Lady.'\n",
       "12. 'Sir.'\n",
       "13. 'Mlle.'\n",
       "14. 'Col.'\n",
       "15. 'Capt.'\n",
       "16. 'the'\n",
       "17. 'Jonkheer.'\n",
       "18. 'Dona.'\n",
       "\n",
       "\n"
      ],
      "text/plain": [
       " [1] \"Mr.\"       \"Mrs.\"      \"Miss.\"     \"Master.\"   \"Don.\"      \"Rev.\"     \n",
       " [7] \"Dr.\"       \"Mme.\"      \"Ms.\"       \"Major.\"    \"Lady.\"     \"Sir.\"     \n",
       "[13] \"Mlle.\"     \"Col.\"      \"Capt.\"     \"the\"       \"Jonkheer.\" \"Dona.\"    "
      ]
     },
     "metadata": {},
     "output_type": "display_data"
    }
   ],
   "source": [
    "unique(titles)"
   ]
  },
  {
   "cell_type": "code",
   "execution_count": 72,
   "metadata": {
    "collapsed": false
   },
   "outputs": [
    {
     "data": {
      "text/html": [
       "<table>\n",
       "<thead><tr><th></th><th scope=col>Survived</th><th scope=col>PassengerId</th><th scope=col>Pclass</th><th scope=col>Name</th><th scope=col>Sex</th><th scope=col>Age</th><th scope=col>SibSp</th><th scope=col>Parch</th><th scope=col>Ticket</th><th scope=col>Fare</th><th scope=col>Cabin</th><th scope=col>Embarked</th><th scope=col>Title</th><th scope=col>FamilySize</th><th scope=col>Ticket.first.char</th><th scope=col>Cabin.first.char</th><th scope=col>Cabin.multiple</th><th scope=col>last.name</th></tr></thead>\n",
       "<tbody>\n",
       "\t<tr><th scope=row>760</th><td>1                                                       </td><td>760                                                     </td><td>1                                                       </td><td>Rothes, the Countess. of (Lucy Noel Martha Dyer-Edwards)</td><td>female                                                  </td><td>33                                                      </td><td>0                                                       </td><td>0                                                       </td><td>110152                                                  </td><td>86.5                                                    </td><td>B77                                                     </td><td>S                                                       </td><td>Other                                                   </td><td>1                                                       </td><td>1                                                       </td><td>B                                                       </td><td>N                                                       </td><td>Rothes                                                  </td></tr>\n",
       "</tbody>\n",
       "</table>\n"
      ],
      "text/latex": [
       "\\begin{tabular}{r|llllllllllllllllll}\n",
       "  & Survived & PassengerId & Pclass & Name & Sex & Age & SibSp & Parch & Ticket & Fare & Cabin & Embarked & Title & FamilySize & Ticket.first.char & Cabin.first.char & Cabin.multiple & last.name\\\\\n",
       "\\hline\n",
       "\t760 & 1                                                        & 760                                                      & 1                                                        & Rothes, the Countess. of (Lucy Noel Martha Dyer-Edwards) & female                                                   & 33                                                       & 0                                                        & 0                                                        & 110152                                                   & 86.5                                                     & B77                                                      & S                                                        & Other                                                    & 1                                                        & 1                                                        & B                                                        & N                                                        & Rothes                                                  \\\\\n",
       "\\end{tabular}\n"
      ],
      "text/markdown": [
       "\n",
       "| <!--/--> | Survived | PassengerId | Pclass | Name | Sex | Age | SibSp | Parch | Ticket | Fare | Cabin | Embarked | Title | FamilySize | Ticket.first.char | Cabin.first.char | Cabin.multiple | last.name | \n",
       "|---|\n",
       "| 760 | 1                                                        | 760                                                      | 1                                                        | Rothes, the Countess. of (Lucy Noel Martha Dyer-Edwards) | female                                                   | 33                                                       | 0                                                        | 0                                                        | 110152                                                   | 86.5                                                     | B77                                                      | S                                                        | Other                                                    | 1                                                        | 1                                                        | B                                                        | N                                                        | Rothes                                                   | \n",
       "\n",
       "\n"
      ],
      "text/plain": [
       "    Survived PassengerId Pclass\n",
       "760 1        760         1     \n",
       "    Name                                                     Sex    Age SibSp\n",
       "760 Rothes, the Countess. of (Lucy Noel Martha Dyer-Edwards) female 33  0    \n",
       "    Parch Ticket Fare Cabin Embarked Title FamilySize Ticket.first.char\n",
       "760 0     110152 86.5 B77   S        Other 1          1                \n",
       "    Cabin.first.char Cabin.multiple last.name\n",
       "760 B                N              Rothes   "
      ]
     },
     "metadata": {},
     "output_type": "display_data"
    },
    {
     "data": {
      "text/plain": [
       "titles\n",
       "    Dr.   Lady. Master.   Miss.     Mr.    Mrs. Officer    Rev.    Sir. \n",
       "      8       3      61     264     757     198       7       8       3 "
      ]
     },
     "metadata": {},
     "output_type": "display_data"
    }
   ],
   "source": [
    "data.combined[which(titles == \"the\"),]\n",
    "\n",
    "# Re-map titles to be more exact\n",
    "titles[titles %in% c(\"Dona.\",\"the\")] <- \"Lady.\"\n",
    "titles[titles %in% c(\"Ms.\",\"Mlle.\")] <- \"Miss.\"\n",
    "titles[titles %in% c(\"Mme.\")] <- \"Mrs.\"\n",
    "titles[titles %in% c(\"Jonkheer.\",\"Don.\")] <- \"Sir.\"\n",
    "titles[titles %in% c(\"Col.\",\"Major.\",\"Capt.\")] <- \"Officer\"\n",
    "table(titles)\n",
    "\n",
    "data.combined$new.title <- as.factor(titles)"
   ]
  },
  {
   "cell_type": "code",
   "execution_count": 73,
   "metadata": {
    "collapsed": false
   },
   "outputs": [
    {
     "data": {},
     "metadata": {},
     "output_type": "display_data"
    },
    {
     "data": {
      "image/png": "[encoded data removed]",
      "text/plain": [
       "plot without title"
      ]
     },
     "metadata": {},
     "output_type": "display_data"
    }
   ],
   "source": [
    "ggplot(data.combined[1:891,], aes(x = new.title, fill = Survived))+\n",
    "  geom_bar()+\n",
    "  facet_wrap(~Pclass)+\n",
    "  ggtitle(\"Survival based on New Title\")"
   ]
  },
  {
   "cell_type": "code",
   "execution_count": 74,
   "metadata": {
    "collapsed": false
   },
   "outputs": [],
   "source": [
    "# Lets cram the titles data a little more into existing data buckets so we don't overfit\n",
    "indexes <- which(data.combined$new.title == \"Lady.\")\n",
    "data.combined$new.title[indexes] <- \"Mrs.\"\n",
    "\n",
    "indexes <- which(data.combined$new.title == \"Dr.\" |\n",
    "                 data.combined$new.title == \"Rev.\" |\n",
    "                 data.combined$new.title == \"Sir.\" |\n",
    "                 data.combined$new.title == \"Officer\")\n",
    "data.combined$new.title[indexes] <- \"Mr.\""
   ]
  },
  {
   "cell_type": "code",
   "execution_count": 75,
   "metadata": {
    "collapsed": false
   },
   "outputs": [
    {
     "data": {},
     "metadata": {},
     "output_type": "display_data"
    },
    {
     "data": {
      "image/png": "[encoded data removed]",
      "text/plain": [
       "plot without title"
      ]
     },
     "metadata": {},
     "output_type": "display_data"
    }
   ],
   "source": [
    "ggplot(data.combined[1:891,], aes(x = new.title, fill = Survived))+\n",
    "  geom_bar()+\n",
    "  facet_wrap(~Pclass)+\n",
    "  ggtitle(\"Survival based on New Title\")"
   ]
  },
  {
   "cell_type": "code",
   "execution_count": 76,
   "metadata": {
    "collapsed": false
   },
   "outputs": [
    {
     "data": {
      "text/plain": [
       "CART \n",
       "\n",
       "891 samples\n",
       "  3 predictor\n",
       "  2 classes: '0', '1' \n",
       "\n",
       "No pre-processing\n",
       "Resampling: Cross-Validated (3 fold, repeated 10 times) \n",
       "Summary of sample sizes: 594, 594, 594, 594, 594, 594, ... \n",
       "Resampling results across tuning parameters:\n",
       "\n",
       "  cp          Accuracy   Kappa    \n",
       "  0.00000000  0.8178451  0.6047735\n",
       "  0.01582980  0.8261504  0.6252869\n",
       "  0.03165961  0.8280584  0.6303902\n",
       "  0.04748941  0.8145903  0.6049449\n",
       "  0.06331922  0.7936027  0.5633852\n",
       "  0.07914902  0.7947250  0.5672045\n",
       "  0.09497883  0.7939394  0.5658414\n",
       "  0.11080863  0.7929293  0.5641059\n",
       "  0.12663844  0.7924804  0.5634784\n",
       "  0.14246824  0.7923681  0.5635873\n",
       "  0.15829804  0.7923681  0.5635873\n",
       "  0.17412785  0.7923681  0.5635873\n",
       "  0.18995765  0.7923681  0.5635873\n",
       "  0.20578746  0.7923681  0.5635873\n",
       "  0.22161726  0.7923681  0.5635873\n",
       "  0.23744707  0.7923681  0.5635873\n",
       "  0.25327687  0.7923681  0.5635873\n",
       "  0.26910667  0.7923681  0.5635873\n",
       "  0.28493648  0.7923681  0.5635873\n",
       "  0.30076628  0.7923681  0.5635873\n",
       "  0.31659609  0.7923681  0.5635873\n",
       "  0.33242589  0.7923681  0.5635873\n",
       "  0.34825570  0.7923681  0.5635873\n",
       "  0.36408550  0.7923681  0.5635873\n",
       "  0.37991531  0.7923681  0.5635873\n",
       "  0.39574511  0.7923681  0.5635873\n",
       "  0.41157491  0.7923681  0.5635873\n",
       "  0.42740472  0.7719416  0.5013069\n",
       "  0.44323452  0.7271605  0.3617107\n",
       "  0.45906433  0.7025814  0.2840360\n",
       "\n",
       "Accuracy was used to select the optimal model using  the largest value.\n",
       "The final value used for the model was cp = 0.03165961. "
      ]
     },
     "metadata": {},
     "output_type": "display_data"
    },
    {
     "data": {
      "image/png": "[encoded data removed]",
      "text/plain": [
       "plot without title"
      ]
     },
     "metadata": {},
     "output_type": "display_data"
    }
   ],
   "source": [
    "features <- c(\"Pclass\",\"new.title\",\"FamilySize\")\n",
    "rpart.train.2 <- data.combined[1:891, features]\n",
    "\n",
    "rpart.2.cv.1 <- rpart.cv(94622, rpart.train.2, rf.label, ctrl.3)\n",
    "rpart.2.cv.1\n",
    "\n",
    "prp(rpart.2.cv.1$finalModel, type = 0, extra = 1, under = TRUE)"
   ]
  },
  {
   "cell_type": "code",
   "execution_count": 77,
   "metadata": {
    "collapsed": false
   },
   "outputs": [],
   "source": [
    "indexes.first.mr <- which(data.combined$new.title == \"Mr.\" & data.combined$Pclass == \"1\")"
   ]
  },
  {
   "cell_type": "code",
   "execution_count": 78,
   "metadata": {
    "collapsed": true
   },
   "outputs": [],
   "source": [
    "first.mr.df <- data.combined[indexes.first.mr,]"
   ]
  },
  {
   "cell_type": "code",
   "execution_count": 79,
   "metadata": {
    "collapsed": false
   },
   "outputs": [
    {
     "data": {
      "text/plain": [
       " Survived   PassengerId  Pclass                                    Name    \n",
       " 0   :77   7      :  1   1:175   Anderson, Mr. Harry                 :  1  \n",
       " 1   :43   24     :  1   2:  0   Andrews, Mr. Thomas Jr              :  1  \n",
       " none:55   28     :  1   3:  0   Artagaveytia, Mr. Ramon             :  1  \n",
       "           31     :  1           Barkworth, Mr. Algernon Henry Wilson:  1  \n",
       "           35     :  1           Baumann, Mr. John D                 :  1  \n",
       "           36     :  1           Baxter, Mr. Quigg Edmond            :  1  \n",
       "           (Other):169           (Other)                             :169  \n",
       "     Sex           Age        SibSp       Parch        Ticket         \n",
       " female:  1   Min.   :17.00   0:122   0      :146   Length:175        \n",
       " male  :174   1st Qu.:31.00   1: 50   1      : 21   Class :character  \n",
       "              Median :42.00   2:  2   2      :  6   Mode  :character  \n",
       "              Mean   :42.24   3:  1   3      :  1                     \n",
       "              3rd Qu.:50.50   4:  0   4      :  1                     \n",
       "              Max.   :80.00   5:  0   5      :  0                     \n",
       "              NA's   :28      8:  0   (Other):  0                     \n",
       "      Fare           Cabin           Embarked     Title       FamilySize \n",
       " Min.   :  0.00   Length:175          :  0    Master.:  0   1      :109  \n",
       " 1st Qu.: 27.72   Class :character   C: 68    Miss.  :  0   2      : 45  \n",
       " Median : 45.50   Mode  :character   Q:  1    Mr.    :160   3      : 16  \n",
       " Mean   : 67.35                      S:106    Mrs.   :  0   4      :  2  \n",
       " 3rd Qu.: 78.07                               Other  : 15   6      :  2  \n",
       " Max.   :512.33                                             5      :  1  \n",
       "                                                            (Other):  0  \n",
       " Ticket.first.char Cabin.first.char Cabin.multiple  last.name        \n",
       " 1      :110       C      :47       N:162          Length:175        \n",
       " P      : 45       U      :44       Y: 13          Class :character  \n",
       " 3      :  8       B      :27                      Mode  :character  \n",
       " 6      :  4       D      :20                                        \n",
       " 2      :  3       E      :19                                        \n",
       " F      :  2       A      :17                                        \n",
       " (Other):  3       (Other): 1                                        \n",
       "   new.title  \n",
       " Mr.    :175  \n",
       " Dr.    :  0  \n",
       " Lady.  :  0  \n",
       " Master.:  0  \n",
       " Miss.  :  0  \n",
       " Mrs.   :  0  \n",
       " (Other):  0  "
      ]
     },
     "metadata": {},
     "output_type": "display_data"
    }
   ],
   "source": [
    "summary(first.mr.df)"
   ]
  },
  {
   "cell_type": "code",
   "execution_count": 80,
   "metadata": {
    "collapsed": false
   },
   "outputs": [
    {
     "data": {
      "text/html": [
       "<table>\n",
       "<thead><tr><th></th><th scope=col>Survived</th><th scope=col>PassengerId</th><th scope=col>Pclass</th><th scope=col>Name</th><th scope=col>Sex</th><th scope=col>Age</th><th scope=col>SibSp</th><th scope=col>Parch</th><th scope=col>Ticket</th><th scope=col>Fare</th><th scope=col>Cabin</th><th scope=col>Embarked</th><th scope=col>Title</th><th scope=col>FamilySize</th><th scope=col>Ticket.first.char</th><th scope=col>Cabin.first.char</th><th scope=col>Cabin.multiple</th><th scope=col>last.name</th><th scope=col>new.title</th></tr></thead>\n",
       "<tbody>\n",
       "\t<tr><th scope=row>797</th><td>1                          </td><td>797                        </td><td>1                          </td><td>Leader, Dr. Alice (Farnham)</td><td>female                     </td><td>49                         </td><td>0                          </td><td>0                          </td><td>17465                      </td><td>25.9292                    </td><td>D17                        </td><td>S                          </td><td>Other                      </td><td>1                          </td><td>1                          </td><td>D                          </td><td>N                          </td><td>Leader                     </td><td>Mr.                        </td></tr>\n",
       "</tbody>\n",
       "</table>\n"
      ],
      "text/latex": [
       "\\begin{tabular}{r|lllllllllllllllllll}\n",
       "  & Survived & PassengerId & Pclass & Name & Sex & Age & SibSp & Parch & Ticket & Fare & Cabin & Embarked & Title & FamilySize & Ticket.first.char & Cabin.first.char & Cabin.multiple & last.name & new.title\\\\\n",
       "\\hline\n",
       "\t797 & 1                           & 797                         & 1                           & Leader, Dr. Alice (Farnham) & female                      & 49                          & 0                           & 0                           & 17465                       & 25.9292                     & D17                         & S                           & Other                       & 1                           & 1                           & D                           & N                           & Leader                      & Mr.                        \\\\\n",
       "\\end{tabular}\n"
      ],
      "text/markdown": [
       "\n",
       "| <!--/--> | Survived | PassengerId | Pclass | Name | Sex | Age | SibSp | Parch | Ticket | Fare | Cabin | Embarked | Title | FamilySize | Ticket.first.char | Cabin.first.char | Cabin.multiple | last.name | new.title | \n",
       "|---|\n",
       "| 797 | 1                           | 797                         | 1                           | Leader, Dr. Alice (Farnham) | female                      | 49                          | 0                           | 0                           | 17465                       | 25.9292                     | D17                         | S                           | Other                       | 1                           | 1                           | D                           | N                           | Leader                      | Mr.                         | \n",
       "\n",
       "\n"
      ],
      "text/plain": [
       "    Survived PassengerId Pclass Name                        Sex    Age SibSp\n",
       "797 1        797         1      Leader, Dr. Alice (Farnham) female 49  0    \n",
       "    Parch Ticket Fare    Cabin Embarked Title FamilySize Ticket.first.char\n",
       "797 0     17465  25.9292 D17   S        Other 1          1                \n",
       "    Cabin.first.char Cabin.multiple last.name new.title\n",
       "797 D                N              Leader    Mr.      "
      ]
     },
     "metadata": {},
     "output_type": "display_data"
    }
   ],
   "source": [
    "# One female?\n",
    "first.mr.df[first.mr.df$Sex == \"female\",]"
   ]
  },
  {
   "cell_type": "code",
   "execution_count": 81,
   "metadata": {
    "collapsed": false
   },
   "outputs": [
    {
     "data": {
      "text/html": [
       "0"
      ],
      "text/latex": [
       "0"
      ],
      "text/markdown": [
       "0"
      ],
      "text/plain": [
       "[1] 0"
      ]
     },
     "metadata": {},
     "output_type": "display_data"
    }
   ],
   "source": [
    "# Update new.title feature\n",
    "indexes <- which(data.combined$new.title == \"Mr.\" &\n",
    "                 data.combined$Sex == \"female\")\n",
    "data.combined$new.title[indexes] <- \"Mrs.\"\n",
    "\n",
    "length(which(data.combined$Sex == \"female\" &\n",
    "             (data.combined$new.title == \"Master.\" |\n",
    "               data.combined$new.title == \"Mr.\")))"
   ]
  },
  {
   "cell_type": "code",
   "execution_count": 82,
   "metadata": {
    "collapsed": false
   },
   "outputs": [],
   "source": [
    "indexes.first.mr <- which(data.combined$new.title == \"Mr.\" & data.combined$Pclass == \"1\")\n",
    "first.mr.df <- data.combined[indexes.first.mr,]"
   ]
  },
  {
   "cell_type": "code",
   "execution_count": 83,
   "metadata": {
    "collapsed": false
   },
   "outputs": [
    {
     "data": {
      "text/plain": [
       " Survived   PassengerId Pclass                                        Name   \n",
       " 0   : 0   24     : 1   1:42   Anderson, Mr. Harry                      : 1  \n",
       " 1   :42   56     : 1   2: 0   Barkworth, Mr. Algernon Henry Wilson     : 1  \n",
       " none: 0   98     : 1   3: 0   Beckwith, Mr. Richard Leonard            : 1  \n",
       "           188    : 1          Behr, Mr. Karl Howell                    : 1  \n",
       "           210    : 1          Bishop, Mr. Dickinson H                  : 1  \n",
       "           225    : 1          Bjornstrom-Steffansson, Mr. Mauritz Hakan: 1  \n",
       "           (Other):36          (Other)                                  :36  \n",
       "     Sex          Age        SibSp      Parch       Ticket         \n",
       " female: 0   Min.   :17.00   0:28   0      :36   Length:42         \n",
       " male  :42   1st Qu.:28.00   1:13   1      : 4   Class :character  \n",
       "             Median :36.00   2: 1   2      : 2   Mode  :character  \n",
       "             Mean   :38.76   3: 0   3      : 0                     \n",
       "             3rd Qu.:48.00   4: 0   4      : 0                     \n",
       "             Max.   :80.00   5: 0   5      : 0                     \n",
       "             NA's   :5       8: 0   (Other): 0                     \n",
       "      Fare           Cabin           Embarked     Title      FamilySize\n",
       " Min.   : 26.29   Length:42           : 0     Master.: 0   1      :25  \n",
       " 1st Qu.: 27.34   Class :character   C:17     Miss.  : 0   2      :12  \n",
       " Median : 35.50   Mode  :character   Q: 0     Mr.    :38   3      : 4  \n",
       " Mean   : 71.55                      S:25     Mrs.   : 0   4      : 1  \n",
       " 3rd Qu.: 73.39                               Other  : 4   5      : 0  \n",
       " Max.   :512.33                                            6      : 0  \n",
       "                                                           (Other): 0  \n",
       " Ticket.first.char Cabin.first.char Cabin.multiple  last.name        \n",
       " 1      :30        C      :10       N:39           Length:42         \n",
       " P      :11        E      : 8       Y: 3           Class :character  \n",
       " 2      : 1        B      : 7                      Mode  :character  \n",
       " 3      : 0        D      : 6                                        \n",
       " 4      : 0        U      : 6                                        \n",
       " 5      : 0        A      : 5                                        \n",
       " (Other): 0        (Other): 0                                        \n",
       "   new.title \n",
       " Mr.    :42  \n",
       " Dr.    : 0  \n",
       " Lady.  : 0  \n",
       " Master.: 0  \n",
       " Miss.  : 0  \n",
       " Mrs.   : 0  \n",
       " (Other): 0  "
      ]
     },
     "metadata": {},
     "output_type": "display_data"
    }
   ],
   "source": [
    "summary(first.mr.df[first.mr.df$Survived == \"1\",])"
   ]
  },
  {
   "cell_type": "code",
   "execution_count": 84,
   "metadata": {
    "collapsed": false
   },
   "outputs": [
    {
     "data": {
      "text/html": [
       "<table>\n",
       "<thead><tr><th></th><th scope=col>Survived</th><th scope=col>PassengerId</th><th scope=col>Pclass</th><th scope=col>Name</th><th scope=col>Sex</th><th scope=col>Age</th><th scope=col>SibSp</th><th scope=col>Parch</th><th scope=col>Ticket</th><th scope=col>Fare</th><th scope=col>Cabin</th><th scope=col>Embarked</th><th scope=col>Title</th><th scope=col>FamilySize</th><th scope=col>Ticket.first.char</th><th scope=col>Cabin.first.char</th><th scope=col>Cabin.multiple</th><th scope=col>last.name</th><th scope=col>new.title</th></tr></thead>\n",
       "<tbody>\n",
       "\t<tr><th scope=row>24</th><td>1                                            </td><td>24                                           </td><td>1                                            </td><td>Sloper, Mr. William Thompson                 </td><td>male                                         </td><td>28                                           </td><td>0                                            </td><td>0                                            </td><td>113788                                       </td><td>35.5000                                      </td><td>A6                                           </td><td>S                                            </td><td>Mr.                                          </td><td>1                                            </td><td>1                                            </td><td>A                                            </td><td>N                                            </td><td>Sloper                                       </td><td>Mr.                                          </td></tr>\n",
       "\t<tr><th scope=row>56</th><td>1                                            </td><td>56                                           </td><td>1                                            </td><td>Woolner, Mr. Hugh                            </td><td>male                                         </td><td>NA                                           </td><td>0                                            </td><td>0                                            </td><td>19947                                        </td><td>35.5000                                      </td><td>C52                                          </td><td>S                                            </td><td>Mr.                                          </td><td>1                                            </td><td>1                                            </td><td>C                                            </td><td>N                                            </td><td>Woolner                                      </td><td>Mr.                                          </td></tr>\n",
       "\t<tr><th scope=row>98</th><td>1                                            </td><td>98                                           </td><td>1                                            </td><td>Greenfield, Mr. William Bertram              </td><td>male                                         </td><td>23                                           </td><td>0                                            </td><td>1                                            </td><td>PC 17759                                     </td><td>63.3583                                      </td><td>D10 D12                                      </td><td>C                                            </td><td>Mr.                                          </td><td>2                                            </td><td>P                                            </td><td>D                                            </td><td>Y                                            </td><td>Greenfield                                   </td><td>Mr.                                          </td></tr>\n",
       "\t<tr><th scope=row>188</th><td>1                                            </td><td>188                                          </td><td>1                                            </td><td>Romaine, Mr. Charles Hallace (\"Mr C Rolmane\")</td><td>male                                         </td><td>45                                           </td><td>0                                            </td><td>0                                            </td><td>111428                                       </td><td>26.5500                                      </td><td>U                                            </td><td>S                                            </td><td>Mr.                                          </td><td>1                                            </td><td>1                                            </td><td>U                                            </td><td>N                                            </td><td>Romaine                                      </td><td>Mr.                                          </td></tr>\n",
       "\t<tr><th scope=row>210</th><td>1                                            </td><td>210                                          </td><td>1                                            </td><td>Blank, Mr. Henry                             </td><td>male                                         </td><td>40                                           </td><td>0                                            </td><td>0                                            </td><td>112277                                       </td><td>31.0000                                      </td><td>A31                                          </td><td>C                                            </td><td>Mr.                                          </td><td>1                                            </td><td>1                                            </td><td>A                                            </td><td>N                                            </td><td>Blank                                        </td><td>Mr.                                          </td></tr>\n",
       "\t<tr><th scope=row>225</th><td>1                                            </td><td>225                                          </td><td>1                                            </td><td>Hoyt, Mr. Frederick Maxfield                 </td><td>male                                         </td><td>38                                           </td><td>1                                            </td><td>0                                            </td><td>19943                                        </td><td>90.0000                                      </td><td>C93                                          </td><td>S                                            </td><td>Mr.                                          </td><td>2                                            </td><td>1                                            </td><td>C                                            </td><td>N                                            </td><td>Hoyt                                         </td><td>Mr.                                          </td></tr>\n",
       "</tbody>\n",
       "</table>\n"
      ],
      "text/latex": [
       "\\begin{tabular}{r|lllllllllllllllllll}\n",
       "  & Survived & PassengerId & Pclass & Name & Sex & Age & SibSp & Parch & Ticket & Fare & Cabin & Embarked & Title & FamilySize & Ticket.first.char & Cabin.first.char & Cabin.multiple & last.name & new.title\\\\\n",
       "\\hline\n",
       "\t24 & 1                                             & 24                                            & 1                                             & Sloper, Mr. William Thompson                  & male                                          & 28                                            & 0                                             & 0                                             & 113788                                        & 35.5000                                       & A6                                            & S                                             & Mr.                                           & 1                                             & 1                                             & A                                             & N                                             & Sloper                                        & Mr.                                          \\\\\n",
       "\t56 & 1                                             & 56                                            & 1                                             & Woolner, Mr. Hugh                             & male                                          & NA                                            & 0                                             & 0                                             & 19947                                         & 35.5000                                       & C52                                           & S                                             & Mr.                                           & 1                                             & 1                                             & C                                             & N                                             & Woolner                                       & Mr.                                          \\\\\n",
       "\t98 & 1                                             & 98                                            & 1                                             & Greenfield, Mr. William Bertram               & male                                          & 23                                            & 0                                             & 1                                             & PC 17759                                      & 63.3583                                       & D10 D12                                       & C                                             & Mr.                                           & 2                                             & P                                             & D                                             & Y                                             & Greenfield                                    & Mr.                                          \\\\\n",
       "\t188 & 1                                             & 188                                           & 1                                             & Romaine, Mr. Charles Hallace (\"Mr C Rolmane\") & male                                          & 45                                            & 0                                             & 0                                             & 111428                                        & 26.5500                                       & U                                             & S                                             & Mr.                                           & 1                                             & 1                                             & U                                             & N                                             & Romaine                                       & Mr.                                          \\\\\n",
       "\t210 & 1                                             & 210                                           & 1                                             & Blank, Mr. Henry                              & male                                          & 40                                            & 0                                             & 0                                             & 112277                                        & 31.0000                                       & A31                                           & C                                             & Mr.                                           & 1                                             & 1                                             & A                                             & N                                             & Blank                                         & Mr.                                          \\\\\n",
       "\t225 & 1                                             & 225                                           & 1                                             & Hoyt, Mr. Frederick Maxfield                  & male                                          & 38                                            & 1                                             & 0                                             & 19943                                         & 90.0000                                       & C93                                           & S                                             & Mr.                                           & 2                                             & 1                                             & C                                             & N                                             & Hoyt                                          & Mr.                                          \\\\\n",
       "\\end{tabular}\n"
      ],
      "text/markdown": [
       "\n",
       "| <!--/--> | Survived | PassengerId | Pclass | Name | Sex | Age | SibSp | Parch | Ticket | Fare | Cabin | Embarked | Title | FamilySize | Ticket.first.char | Cabin.first.char | Cabin.multiple | last.name | new.title | \n",
       "|---|---|---|---|---|---|\n",
       "| 24 | 1                                             | 24                                            | 1                                             | Sloper, Mr. William Thompson                  | male                                          | 28                                            | 0                                             | 0                                             | 113788                                        | 35.5000                                       | A6                                            | S                                             | Mr.                                           | 1                                             | 1                                             | A                                             | N                                             | Sloper                                        | Mr.                                           | \n",
       "| 56 | 1                                             | 56                                            | 1                                             | Woolner, Mr. Hugh                             | male                                          | NA                                            | 0                                             | 0                                             | 19947                                         | 35.5000                                       | C52                                           | S                                             | Mr.                                           | 1                                             | 1                                             | C                                             | N                                             | Woolner                                       | Mr.                                           | \n",
       "| 98 | 1                                             | 98                                            | 1                                             | Greenfield, Mr. William Bertram               | male                                          | 23                                            | 0                                             | 1                                             | PC 17759                                      | 63.3583                                       | D10 D12                                       | C                                             | Mr.                                           | 2                                             | P                                             | D                                             | Y                                             | Greenfield                                    | Mr.                                           | \n",
       "| 188 | 1                                             | 188                                           | 1                                             | Romaine, Mr. Charles Hallace (\"Mr C Rolmane\") | male                                          | 45                                            | 0                                             | 0                                             | 111428                                        | 26.5500                                       | U                                             | S                                             | Mr.                                           | 1                                             | 1                                             | U                                             | N                                             | Romaine                                       | Mr.                                           | \n",
       "| 210 | 1                                             | 210                                           | 1                                             | Blank, Mr. Henry                              | male                                          | 40                                            | 0                                             | 0                                             | 112277                                        | 31.0000                                       | A31                                           | C                                             | Mr.                                           | 1                                             | 1                                             | A                                             | N                                             | Blank                                         | Mr.                                           | \n",
       "| 225 | 1                                             | 225                                           | 1                                             | Hoyt, Mr. Frederick Maxfield                  | male                                          | 38                                            | 1                                             | 0                                             | 19943                                         | 90.0000                                       | C93                                           | S                                             | Mr.                                           | 2                                             | 1                                             | C                                             | N                                             | Hoyt                                          | Mr.                                           | \n",
       "\n",
       "\n"
      ],
      "text/plain": [
       "    Survived PassengerId Pclass Name                                         \n",
       "24  1        24          1      Sloper, Mr. William Thompson                 \n",
       "56  1        56          1      Woolner, Mr. Hugh                            \n",
       "98  1        98          1      Greenfield, Mr. William Bertram              \n",
       "188 1        188         1      Romaine, Mr. Charles Hallace (\"Mr C Rolmane\")\n",
       "210 1        210         1      Blank, Mr. Henry                             \n",
       "225 1        225         1      Hoyt, Mr. Frederick Maxfield                 \n",
       "    Sex  Age SibSp Parch Ticket   Fare    Cabin   Embarked Title FamilySize\n",
       "24  male 28  0     0     113788   35.5000 A6      S        Mr.   1         \n",
       "56  male NA  0     0     19947    35.5000 C52     S        Mr.   1         \n",
       "98  male 23  0     1     PC 17759 63.3583 D10 D12 C        Mr.   2         \n",
       "188 male 45  0     0     111428   26.5500 U       S        Mr.   1         \n",
       "210 male 40  0     0     112277   31.0000 A31     C        Mr.   1         \n",
       "225 male 38  1     0     19943    90.0000 C93     S        Mr.   2         \n",
       "    Ticket.first.char Cabin.first.char Cabin.multiple last.name  new.title\n",
       "24  1                 A                N              Sloper     Mr.      \n",
       "56  1                 C                N              Woolner    Mr.      \n",
       "98  P                 D                Y              Greenfield Mr.      \n",
       "188 1                 U                N              Romaine    Mr.      \n",
       "210 1                 A                N              Blank      Mr.      \n",
       "225 1                 C                N              Hoyt       Mr.      "
      ]
     },
     "metadata": {},
     "output_type": "display_data"
    }
   ],
   "source": [
    "head(first.mr.df[first.mr.df$Survived == \"1\",])"
   ]
  },
  {
   "cell_type": "code",
   "execution_count": 85,
   "metadata": {
    "collapsed": false
   },
   "outputs": [],
   "source": [
    "indexes <- which(data.combined$Ticket == \"PC 17755\" |\n",
    "                 data.combined$Ticket == \"PC 17611\" |\n",
    "                 data.combined$Ticket == \"113760\")"
   ]
  },
  {
   "cell_type": "code",
   "execution_count": 86,
   "metadata": {
    "collapsed": false
   },
   "outputs": [
    {
     "data": {
      "text/html": [
       "<table>\n",
       "<thead><tr><th></th><th scope=col>Survived</th><th scope=col>PassengerId</th><th scope=col>Pclass</th><th scope=col>Name</th><th scope=col>Sex</th><th scope=col>Age</th><th scope=col>SibSp</th><th scope=col>Parch</th><th scope=col>Ticket</th><th scope=col>Fare</th><th scope=col>Cabin</th><th scope=col>Embarked</th><th scope=col>Title</th><th scope=col>FamilySize</th><th scope=col>Ticket.first.char</th><th scope=col>Cabin.first.char</th><th scope=col>Cabin.multiple</th><th scope=col>last.name</th><th scope=col>new.title</th></tr></thead>\n",
       "<tbody>\n",
       "\t<tr><th scope=row>259</th><td>1                                                 </td><td>259                                               </td><td>1                                                 </td><td>Ward, Miss. Anna                                  </td><td>female                                            </td><td>35                                                </td><td>0                                                 </td><td>0                                                 </td><td>PC 17755                                          </td><td>512.3292                                          </td><td>U                                                 </td><td>C                                                 </td><td>Miss.                                             </td><td>1                                                 </td><td>P                                                 </td><td>U                                                 </td><td>N                                                 </td><td>Ward                                              </td><td>Miss.                                             </td></tr>\n",
       "\t<tr><th scope=row>335</th><td>1                                                 </td><td>335                                               </td><td>1                                                 </td><td>Frauenthal, Mrs. Henry William (Clara Heinsheimer)</td><td>female                                            </td><td>NA                                                </td><td>1                                                 </td><td>0                                                 </td><td>PC 17611                                          </td><td>133.6500                                          </td><td>U                                                 </td><td>S                                                 </td><td>Mrs.                                              </td><td>2                                                 </td><td>P                                                 </td><td>U                                                 </td><td>N                                                 </td><td>Frauenthal                                        </td><td>Mrs.                                              </td></tr>\n",
       "\t<tr><th scope=row>391</th><td>1                                                 </td><td>391                                               </td><td>1                                                 </td><td>Carter, Mr. William Ernest                        </td><td>male                                              </td><td>36                                                </td><td>1                                                 </td><td>2                                                 </td><td>113760                                            </td><td>120.0000                                          </td><td>B96 B98                                           </td><td>S                                                 </td><td>Mr.                                               </td><td>4                                                 </td><td>1                                                 </td><td>B                                                 </td><td>Y                                                 </td><td>Carter                                            </td><td>Mr.                                               </td></tr>\n",
       "\t<tr><th scope=row>436</th><td>1                                                 </td><td>436                                               </td><td>1                                                 </td><td>Carter, Miss. Lucile Polk                         </td><td>female                                            </td><td>14                                                </td><td>1                                                 </td><td>2                                                 </td><td>113760                                            </td><td>120.0000                                          </td><td>B96 B98                                           </td><td>S                                                 </td><td>Miss.                                             </td><td>4                                                 </td><td>1                                                 </td><td>B                                                 </td><td>Y                                                 </td><td>Carter                                            </td><td>Miss.                                             </td></tr>\n",
       "\t<tr><th scope=row>661</th><td>1                                                 </td><td>661                                               </td><td>1                                                 </td><td>Frauenthal, Dr. Henry William                     </td><td>male                                              </td><td>50                                                </td><td>2                                                 </td><td>0                                                 </td><td>PC 17611                                          </td><td>133.6500                                          </td><td>U                                                 </td><td>S                                                 </td><td>Other                                             </td><td>3                                                 </td><td>P                                                 </td><td>U                                                 </td><td>N                                                 </td><td>Frauenthal                                        </td><td>Mr.                                               </td></tr>\n",
       "\t<tr><th scope=row>680</th><td>1                                                 </td><td>680                                               </td><td>1                                                 </td><td>Cardeza, Mr. Thomas Drake Martinez                </td><td>male                                              </td><td>36                                                </td><td>0                                                 </td><td>1                                                 </td><td>PC 17755                                          </td><td>512.3292                                          </td><td>B51 B53 B55                                       </td><td>C                                                 </td><td>Mr.                                               </td><td>2                                                 </td><td>P                                                 </td><td>B                                                 </td><td>Y                                                 </td><td>Cardeza                                           </td><td>Mr.                                               </td></tr>\n",
       "</tbody>\n",
       "</table>\n"
      ],
      "text/latex": [
       "\\begin{tabular}{r|lllllllllllllllllll}\n",
       "  & Survived & PassengerId & Pclass & Name & Sex & Age & SibSp & Parch & Ticket & Fare & Cabin & Embarked & Title & FamilySize & Ticket.first.char & Cabin.first.char & Cabin.multiple & last.name & new.title\\\\\n",
       "\\hline\n",
       "\t259 & 1                                                  & 259                                                & 1                                                  & Ward, Miss. Anna                                   & female                                             & 35                                                 & 0                                                  & 0                                                  & PC 17755                                           & 512.3292                                           & U                                                  & C                                                  & Miss.                                              & 1                                                  & P                                                  & U                                                  & N                                                  & Ward                                               & Miss.                                             \\\\\n",
       "\t335 & 1                                                  & 335                                                & 1                                                  & Frauenthal, Mrs. Henry William (Clara Heinsheimer) & female                                             & NA                                                 & 1                                                  & 0                                                  & PC 17611                                           & 133.6500                                           & U                                                  & S                                                  & Mrs.                                               & 2                                                  & P                                                  & U                                                  & N                                                  & Frauenthal                                         & Mrs.                                              \\\\\n",
       "\t391 & 1                                                  & 391                                                & 1                                                  & Carter, Mr. William Ernest                         & male                                               & 36                                                 & 1                                                  & 2                                                  & 113760                                             & 120.0000                                           & B96 B98                                            & S                                                  & Mr.                                                & 4                                                  & 1                                                  & B                                                  & Y                                                  & Carter                                             & Mr.                                               \\\\\n",
       "\t436 & 1                                                  & 436                                                & 1                                                  & Carter, Miss. Lucile Polk                          & female                                             & 14                                                 & 1                                                  & 2                                                  & 113760                                             & 120.0000                                           & B96 B98                                            & S                                                  & Miss.                                              & 4                                                  & 1                                                  & B                                                  & Y                                                  & Carter                                             & Miss.                                             \\\\\n",
       "\t661 & 1                                                  & 661                                                & 1                                                  & Frauenthal, Dr. Henry William                      & male                                               & 50                                                 & 2                                                  & 0                                                  & PC 17611                                           & 133.6500                                           & U                                                  & S                                                  & Other                                              & 3                                                  & P                                                  & U                                                  & N                                                  & Frauenthal                                         & Mr.                                               \\\\\n",
       "\t680 & 1                                                  & 680                                                & 1                                                  & Cardeza, Mr. Thomas Drake Martinez                 & male                                               & 36                                                 & 0                                                  & 1                                                  & PC 17755                                           & 512.3292                                           & B51 B53 B55                                        & C                                                  & Mr.                                                & 2                                                  & P                                                  & B                                                  & Y                                                  & Cardeza                                            & Mr.                                               \\\\\n",
       "\\end{tabular}\n"
      ],
      "text/markdown": [
       "\n",
       "| <!--/--> | Survived | PassengerId | Pclass | Name | Sex | Age | SibSp | Parch | Ticket | Fare | Cabin | Embarked | Title | FamilySize | Ticket.first.char | Cabin.first.char | Cabin.multiple | last.name | new.title | \n",
       "|---|---|---|---|---|---|\n",
       "| 259 | 1                                                  | 259                                                | 1                                                  | Ward, Miss. Anna                                   | female                                             | 35                                                 | 0                                                  | 0                                                  | PC 17755                                           | 512.3292                                           | U                                                  | C                                                  | Miss.                                              | 1                                                  | P                                                  | U                                                  | N                                                  | Ward                                               | Miss.                                              | \n",
       "| 335 | 1                                                  | 335                                                | 1                                                  | Frauenthal, Mrs. Henry William (Clara Heinsheimer) | female                                             | NA                                                 | 1                                                  | 0                                                  | PC 17611                                           | 133.6500                                           | U                                                  | S                                                  | Mrs.                                               | 2                                                  | P                                                  | U                                                  | N                                                  | Frauenthal                                         | Mrs.                                               | \n",
       "| 391 | 1                                                  | 391                                                | 1                                                  | Carter, Mr. William Ernest                         | male                                               | 36                                                 | 1                                                  | 2                                                  | 113760                                             | 120.0000                                           | B96 B98                                            | S                                                  | Mr.                                                | 4                                                  | 1                                                  | B                                                  | Y                                                  | Carter                                             | Mr.                                                | \n",
       "| 436 | 1                                                  | 436                                                | 1                                                  | Carter, Miss. Lucile Polk                          | female                                             | 14                                                 | 1                                                  | 2                                                  | 113760                                             | 120.0000                                           | B96 B98                                            | S                                                  | Miss.                                              | 4                                                  | 1                                                  | B                                                  | Y                                                  | Carter                                             | Miss.                                              | \n",
       "| 661 | 1                                                  | 661                                                | 1                                                  | Frauenthal, Dr. Henry William                      | male                                               | 50                                                 | 2                                                  | 0                                                  | PC 17611                                           | 133.6500                                           | U                                                  | S                                                  | Other                                              | 3                                                  | P                                                  | U                                                  | N                                                  | Frauenthal                                         | Mr.                                                | \n",
       "| 680 | 1                                                  | 680                                                | 1                                                  | Cardeza, Mr. Thomas Drake Martinez                 | male                                               | 36                                                 | 0                                                  | 1                                                  | PC 17755                                           | 512.3292                                           | B51 B53 B55                                        | C                                                  | Mr.                                                | 2                                                  | P                                                  | B                                                  | Y                                                  | Cardeza                                            | Mr.                                                | \n",
       "\n",
       "\n"
      ],
      "text/plain": [
       "    Survived PassengerId Pclass\n",
       "259 1        259         1     \n",
       "335 1        335         1     \n",
       "391 1        391         1     \n",
       "436 1        436         1     \n",
       "661 1        661         1     \n",
       "680 1        680         1     \n",
       "    Name                                               Sex    Age SibSp Parch\n",
       "259 Ward, Miss. Anna                                   female 35  0     0    \n",
       "335 Frauenthal, Mrs. Henry William (Clara Heinsheimer) female NA  1     0    \n",
       "391 Carter, Mr. William Ernest                         male   36  1     2    \n",
       "436 Carter, Miss. Lucile Polk                          female 14  1     2    \n",
       "661 Frauenthal, Dr. Henry William                      male   50  2     0    \n",
       "680 Cardeza, Mr. Thomas Drake Martinez                 male   36  0     1    \n",
       "    Ticket   Fare     Cabin       Embarked Title FamilySize Ticket.first.char\n",
       "259 PC 17755 512.3292 U           C        Miss. 1          P                \n",
       "335 PC 17611 133.6500 U           S        Mrs.  2          P                \n",
       "391 113760   120.0000 B96 B98     S        Mr.   4          1                \n",
       "436 113760   120.0000 B96 B98     S        Miss. 4          1                \n",
       "661 PC 17611 133.6500 U           S        Other 3          P                \n",
       "680 PC 17755 512.3292 B51 B53 B55 C        Mr.   2          P                \n",
       "    Cabin.first.char Cabin.multiple last.name  new.title\n",
       "259 U                N              Ward       Miss.    \n",
       "335 U                N              Frauenthal Mrs.     \n",
       "391 B                Y              Carter     Mr.      \n",
       "436 B                Y              Carter     Miss.    \n",
       "661 U                N              Frauenthal Mr.      \n",
       "680 B                Y              Cardeza    Mr.      "
      ]
     },
     "metadata": {},
     "output_type": "display_data"
    }
   ],
   "source": [
    "head(data.combined[indexes, ])"
   ]
  },
  {
   "cell_type": "code",
   "execution_count": 87,
   "metadata": {
    "collapsed": false
   },
   "outputs": [
    {
     "data": {},
     "metadata": {},
     "output_type": "display_data"
    },
    {
     "data": {
      "image/png": "[encoded data removed]",
      "text/plain": [
       "plot without title"
      ]
     },
     "metadata": {},
     "output_type": "display_data"
    }
   ],
   "source": [
    "ggplot(first.mr.df, aes(x = Fare, fill = Survived))+\n",
    "  geom_density(alpha = 0.5)+\n",
    "  ggtitle(\"1st Class 'Mr.' Survival Rates by Fare\")"
   ]
  },
  {
   "cell_type": "code",
   "execution_count": 88,
   "metadata": {
    "collapsed": false
   },
   "outputs": [
    {
     "data": {
      "text/html": [
       "929"
      ],
      "text/latex": [
       "929"
      ],
      "text/markdown": [
       "929"
      ],
      "text/plain": [
       "[1] 929"
      ]
     },
     "metadata": {},
     "output_type": "display_data"
    }
   ],
   "source": [
    "ticket.party.size <- rep(0, nrow(data.combined))\n",
    "avg.fare <- rep(0.0, nrow(data.combined))\n",
    "tickets <- unique(data.combined$Ticket)\n",
    "length(tickets)"
   ]
  },
  {
   "cell_type": "code",
   "execution_count": 89,
   "metadata": {
    "collapsed": true
   },
   "outputs": [],
   "source": [
    "for(i in 1:length(tickets)) {\n",
    "  current.ticket <- tickets[i]\n",
    "  party.indexes <- which(data.combined$Ticket == current.ticket)\n",
    "  current.avg.fare <- data.combined[party.indexes[1],\"Fare\"] / length(party.indexes)\n",
    "  \n",
    "  for(k in 1:length(party.indexes)) {\n",
    "    ticket.party.size[party.indexes[k]] <- length(party.indexes)\n",
    "    avg.fare[party.indexes[k]] <- current.avg.fare\n",
    "  }\n",
    "}"
   ]
  },
  {
   "cell_type": "code",
   "execution_count": 90,
   "metadata": {
    "collapsed": true
   },
   "outputs": [],
   "source": [
    "data.combined$ticket.party.size <- ticket.party.size\n",
    "data.combined$avg.fare <- avg.fare"
   ]
  },
  {
   "cell_type": "code",
   "execution_count": 91,
   "metadata": {
    "collapsed": false
   },
   "outputs": [
    {
     "data": {
      "text/plain": [
       " Survived   PassengerId  Pclass                                    Name    \n",
       " 0   :77   7      :  1   1:174   Anderson, Mr. Harry                 :  1  \n",
       " 1   :42   24     :  1   2:  0   Andrews, Mr. Thomas Jr              :  1  \n",
       " none:55   28     :  1   3:  0   Artagaveytia, Mr. Ramon             :  1  \n",
       "           31     :  1           Barkworth, Mr. Algernon Henry Wilson:  1  \n",
       "           35     :  1           Baumann, Mr. John D                 :  1  \n",
       "           36     :  1           Baxter, Mr. Quigg Edmond            :  1  \n",
       "           (Other):168           (Other)                             :168  \n",
       "     Sex           Age        SibSp       Parch        Ticket         \n",
       " female:  0   Min.   :17.00   0:121   0      :145   Length:174        \n",
       " male  :174   1st Qu.:31.00   1: 50   1      : 21   Class :character  \n",
       "              Median :42.00   2:  2   2      :  6   Mode  :character  \n",
       "              Mean   :42.20   3:  1   3      :  1                     \n",
       "              3rd Qu.:50.75   4:  0   4      :  1                     \n",
       "              Max.   :80.00   5:  0   5      :  0                     \n",
       "              NA's   :28      8:  0   (Other):  0                     \n",
       "      Fare           Cabin           Embarked     Title       FamilySize \n",
       " Min.   :  0.00   Length:174          :  0    Master.:  0   1      :108  \n",
       " 1st Qu.: 27.72   Class :character   C: 68    Miss.  :  0   2      : 45  \n",
       " Median : 46.30   Mode  :character   Q:  1    Mr.    :160   3      : 16  \n",
       " Mean   : 67.58                      S:105    Mrs.   :  0   4      :  2  \n",
       " 3rd Qu.: 78.46                               Other  : 14   6      :  2  \n",
       " Max.   :512.33                                             5      :  1  \n",
       "                                                            (Other):  0  \n",
       " Ticket.first.char Cabin.first.char Cabin.multiple  last.name        \n",
       " 1      :109       C      :47       N:161          Length:174        \n",
       " P      : 45       U      :44       Y: 13          Class :character  \n",
       " 3      :  8       B      :27                      Mode  :character  \n",
       " 6      :  4       D      :19                                        \n",
       " 2      :  3       E      :19                                        \n",
       " F      :  2       A      :17                                        \n",
       " (Other):  3       (Other): 1                                        \n",
       "   new.title   ticket.party.size    avg.fare     \n",
       " Mr.    :174   Min.   :1.000     Min.   :  0.00  \n",
       " Dr.    :  0   1st Qu.:1.000     1st Qu.: 26.43  \n",
       " Lady.  :  0   Median :1.500     Median : 29.29  \n",
       " Master.:  0   Mean   :1.902     Mean   : 32.36  \n",
       " Miss.  :  0   3rd Qu.:2.000     3rd Qu.: 37.59  \n",
       " Mrs.   :  0   Max.   :7.000     Max.   :128.08  \n",
       " (Other):  0                                     "
      ]
     },
     "metadata": {},
     "output_type": "display_data"
    }
   ],
   "source": [
    "# Refresh 1st Class Mr. data frame\n",
    "first.mr.df <- data.combined[indexes.first.mr,]\n",
    "summary(first.mr.df)"
   ]
  },
  {
   "cell_type": "code",
   "execution_count": 92,
   "metadata": {
    "collapsed": false
   },
   "outputs": [
    {
     "data": {},
     "metadata": {},
     "output_type": "display_data"
    },
    {
     "data": {
      "image/png": "[encoded data removed]",
      "text/plain": [
       "plot without title"
      ]
     },
     "metadata": {},
     "output_type": "display_data"
    }
   ],
   "source": [
    "ggplot(first.mr.df[first.mr.df$Survived != \"none\",], aes(x = ticket.party.size, fill = Survived))+\n",
    "  geom_density(alpha = 0.5)+\n",
    "  ggtitle(\"Survival Rates 1st Class Mr. by ticket.party.size\")"
   ]
  },
  {
   "cell_type": "code",
   "execution_count": 93,
   "metadata": {
    "collapsed": false
   },
   "outputs": [
    {
     "data": {},
     "metadata": {},
     "output_type": "display_data"
    },
    {
     "data": {
      "image/png": "[encoded data removed]",
      "text/plain": [
       "plot without title"
      ]
     },
     "metadata": {},
     "output_type": "display_data"
    }
   ],
   "source": [
    "ggplot(first.mr.df[first.mr.df$Survived != \"none\",], aes(x = avg.fare, fill = Survived))+\n",
    "  geom_density(alpha = 0.5)+\n",
    "  ggtitle(\"Survival Rates 1st Class Mr. by avg.fare\")"
   ]
  },
  {
   "cell_type": "code",
   "execution_count": 94,
   "metadata": {
    "collapsed": false
   },
   "outputs": [
    {
     "data": {
      "text/plain": [
       "   Min. 1st Qu.  Median    Mean 3rd Qu.    Max.    NA's \n",
       "   0.00    7.55    8.05   14.76   15.01  128.10       1 "
      ]
     },
     "metadata": {},
     "output_type": "display_data"
    }
   ],
   "source": [
    "# Hypothesis - ticket.party.size and avg.fare seem to be highly correlated\n",
    "summary(data.combined$avg.fare)"
   ]
  },
  {
   "cell_type": "code",
   "execution_count": 95,
   "metadata": {
    "collapsed": false
   },
   "outputs": [
    {
     "data": {
      "text/html": [
       "<table>\n",
       "<thead><tr><th></th><th scope=col>Survived</th><th scope=col>PassengerId</th><th scope=col>Pclass</th><th scope=col>Name</th><th scope=col>Sex</th><th scope=col>Age</th><th scope=col>SibSp</th><th scope=col>Parch</th><th scope=col>Ticket</th><th scope=col>Fare</th><th scope=col>...</th><th scope=col>Embarked</th><th scope=col>Title</th><th scope=col>FamilySize</th><th scope=col>Ticket.first.char</th><th scope=col>Cabin.first.char</th><th scope=col>Cabin.multiple</th><th scope=col>last.name</th><th scope=col>new.title</th><th scope=col>ticket.party.size</th><th scope=col>avg.fare</th></tr></thead>\n",
       "<tbody>\n",
       "\t<tr><th scope=row>1044</th><td>none              </td><td>1044              </td><td>3                 </td><td>Storey, Mr. Thomas</td><td>male              </td><td>60.5              </td><td>0                 </td><td>0                 </td><td>3701              </td><td>NA                </td><td>...               </td><td>S                 </td><td>Mr.               </td><td>1                 </td><td>3                 </td><td>U                 </td><td>N                 </td><td>Storey            </td><td>Mr.               </td><td>1                 </td><td>NA                </td></tr>\n",
       "</tbody>\n",
       "</table>\n"
      ],
      "text/latex": [
       "\\begin{tabular}{r|lllllllllllllllllllll}\n",
       "  & Survived & PassengerId & Pclass & Name & Sex & Age & SibSp & Parch & Ticket & Fare & ... & Embarked & Title & FamilySize & Ticket.first.char & Cabin.first.char & Cabin.multiple & last.name & new.title & ticket.party.size & avg.fare\\\\\n",
       "\\hline\n",
       "\t1044 & none               & 1044               & 3                  & Storey, Mr. Thomas & male               & 60.5               & 0                  & 0                  & 3701               & NA                 & ...                & S                  & Mr.                & 1                  & 3                  & U                  & N                  & Storey             & Mr.                & 1                  & NA                \\\\\n",
       "\\end{tabular}\n"
      ],
      "text/markdown": [
       "\n",
       "| <!--/--> | Survived | PassengerId | Pclass | Name | Sex | Age | SibSp | Parch | Ticket | Fare | ... | Embarked | Title | FamilySize | Ticket.first.char | Cabin.first.char | Cabin.multiple | last.name | new.title | ticket.party.size | avg.fare | \n",
       "|---|\n",
       "| 1044 | none               | 1044               | 3                  | Storey, Mr. Thomas | male               | 60.5               | 0                  | 0                  | 3701               | NA                 | ...                | S                  | Mr.                | 1                  | 3                  | U                  | N                  | Storey             | Mr.                | 1                  | NA                 | \n",
       "\n",
       "\n"
      ],
      "text/plain": [
       "     Survived PassengerId Pclass Name               Sex  Age  SibSp Parch\n",
       "1044 none     1044        3      Storey, Mr. Thomas male 60.5 0     0    \n",
       "     Ticket Fare ... Embarked Title FamilySize Ticket.first.char\n",
       "1044 3701   NA   ... S        Mr.   1          3                \n",
       "     Cabin.first.char Cabin.multiple last.name new.title ticket.party.size\n",
       "1044 U                N              Storey    Mr.       1                \n",
       "     avg.fare\n",
       "1044 NA      "
      ]
     },
     "metadata": {},
     "output_type": "display_data"
    }
   ],
   "source": [
    "# One missing value!?\n",
    "data.combined[is.na(data.combined$avg.fare),]"
   ]
  },
  {
   "cell_type": "code",
   "execution_count": 96,
   "metadata": {
    "collapsed": false
   },
   "outputs": [
    {
     "data": {
      "text/plain": [
       "   Min. 1st Qu.  Median    Mean 3rd Qu.    Max. \n",
       "  0.000   7.250   7.840   7.717   8.050  10.170 "
      ]
     },
     "metadata": {},
     "output_type": "display_data"
    }
   ],
   "source": [
    "# Get records for similar passengers and summarize avg.fares\n",
    "indexes <- with(data.combined,which(Pclass == \"3\" & Title == \"Mr.\" & FamilySize == 1 & Ticket != \"3701\"))\n",
    "similar.na.passengers <- data.combined[indexes,]\n",
    "summary(similar.na.passengers$avg.fare)\n",
    "\n",
    "# Use median since it is close to mean  and a little higher than mean\n",
    "data.combined[is.na(avg.fare),\"avg.fare\"] <- 7.84"
   ]
  },
  {
   "cell_type": "code",
   "execution_count": 97,
   "metadata": {
    "collapsed": true
   },
   "outputs": [],
   "source": [
    "# Now leverage Caret's preProcess function to normalize data\n",
    "preproc.data.combined <- data.combined[,c(\"ticket.party.size\",\"avg.fare\")]\n",
    "preProc <- preProcess(preproc.data.combined, method = c(\"center\", \"scale\"))\n",
    "\n",
    "postproc.data.combined <- predict(preProc, preproc.data.combined)"
   ]
  },
  {
   "cell_type": "code",
   "execution_count": 98,
   "metadata": {
    "collapsed": false
   },
   "outputs": [
    {
     "data": {
      "text/html": [
       "0.0942862450471221"
      ],
      "text/latex": [
       "0.0942862450471221"
      ],
      "text/markdown": [
       "0.0942862450471221"
      ],
      "text/plain": [
       "[1] 0.09428625"
      ]
     },
     "metadata": {},
     "output_type": "display_data"
    }
   ],
   "source": [
    "# Hypothesis refuted for all data\n",
    "cor(postproc.data.combined$ticket.party.size, postproc.data.combined$avg.fare)"
   ]
  },
  {
   "cell_type": "code",
   "execution_count": 99,
   "metadata": {
    "collapsed": false
   },
   "outputs": [
    {
     "data": {
      "text/html": [
       "0.257624873896606"
      ],
      "text/latex": [
       "0.257624873896606"
      ],
      "text/markdown": [
       "0.257624873896606"
      ],
      "text/plain": [
       "[1] 0.2576249"
      ]
     },
     "metadata": {},
     "output_type": "display_data"
    }
   ],
   "source": [
    "# How about just for 1st class all up?\n",
    "indexes <- which(data.combined$Pclass == \"1\")\n",
    "cor(postproc.data.combined$ticket.party.size[indexes], postproc.data.combined$avg.fare[indexes])"
   ]
  },
  {
   "cell_type": "code",
   "execution_count": 100,
   "metadata": {
    "collapsed": true
   },
   "outputs": [],
   "source": [
    "# Hypothesis refuted again!"
   ]
  },
  {
   "cell_type": "code",
   "execution_count": 101,
   "metadata": {
    "collapsed": true
   },
   "outputs": [],
   "source": [
    "# OK, let's see if our feature engineering has made any difference\n",
    "features <- c(\"Pclass\",\"new.title\",\"FamilySize\",\"ticket.party.size\",\"avg.fare\")\n",
    "rpart.train.3 <- data.combined[1:891, features]"
   ]
  },
  {
   "cell_type": "code",
   "execution_count": 102,
   "metadata": {
    "collapsed": false
   },
   "outputs": [
    {
     "data": {
      "text/plain": [
       "CART \n",
       "\n",
       "891 samples\n",
       "  5 predictor\n",
       "  2 classes: '0', '1' \n",
       "\n",
       "No pre-processing\n",
       "Resampling: Cross-Validated (3 fold, repeated 10 times) \n",
       "Summary of sample sizes: 594, 594, 594, 594, 594, 594, ... \n",
       "Resampling results across tuning parameters:\n",
       "\n",
       "  cp          Accuracy   Kappa    \n",
       "  0.00000000  0.8214366  0.6170703\n",
       "  0.01593063  0.8315376  0.6352241\n",
       "  0.03186126  0.8305275  0.6336075\n",
       "  0.04779189  0.8157127  0.6070448\n",
       "  0.06372252  0.7965208  0.5710962\n",
       "  0.07965316  0.7958474  0.5698216\n",
       "  0.09558379  0.7950617  0.5684585\n",
       "  0.11151442  0.7940516  0.5667230\n",
       "  0.12744505  0.7936027  0.5660955\n",
       "  0.14337568  0.7934905  0.5662044\n",
       "  0.15930631  0.7934905  0.5662044\n",
       "  0.17523694  0.7934905  0.5662044\n",
       "  0.19116757  0.7934905  0.5662044\n",
       "  0.20709821  0.7934905  0.5662044\n",
       "  0.22302884  0.7934905  0.5662044\n",
       "  0.23895947  0.7934905  0.5662044\n",
       "  0.25489010  0.7934905  0.5662044\n",
       "  0.27082073  0.7934905  0.5662044\n",
       "  0.28675136  0.7934905  0.5662044\n",
       "  0.30268199  0.7934905  0.5662044\n",
       "  0.31861262  0.7934905  0.5662044\n",
       "  0.33454325  0.7934905  0.5662044\n",
       "  0.35047389  0.7934905  0.5662044\n",
       "  0.36640452  0.7934905  0.5662044\n",
       "  0.38233515  0.7934905  0.5662044\n",
       "  0.39826578  0.7934905  0.5662044\n",
       "  0.41419641  0.7934905  0.5662044\n",
       "  0.43012704  0.7730640  0.5039239\n",
       "  0.44605767  0.7534231  0.4431483\n",
       "  0.46198830  0.6858586  0.2299565\n",
       "\n",
       "Accuracy was used to select the optimal model using  the largest value.\n",
       "The final value used for the model was cp = 0.01593063. "
      ]
     },
     "metadata": {},
     "output_type": "display_data"
    },
    {
     "data": {
      "image/png": "[encoded data removed]",
      "text/plain": [
       "plot without title"
      ]
     },
     "metadata": {},
     "output_type": "display_data"
    }
   ],
   "source": [
    "# Run CV\n",
    "rpart.3.cv.1 <- rpart.cv(94622, rpart.train.3, rf.label, ctrl.3)\n",
    "rpart.3.cv.1\n",
    "\n",
    "prp(rpart.3.cv.1$finalModel, type = 0, extra = 1, under = TRUE)"
   ]
  },
  {
   "cell_type": "code",
   "execution_count": 103,
   "metadata": {
    "collapsed": false
   },
   "outputs": [
    {
     "data": {
      "text/plain": [
       "rpart.3.preds\n",
       "  0   1 \n",
       "266 152 "
      ]
     },
     "metadata": {},
     "output_type": "display_data"
    }
   ],
   "source": [
    "####################################################################################################\n",
    "#                                                                                                  #\n",
    "#                                       FINAL THOUGHTS                                             #\n",
    "#                                                                                                  #\n",
    "####################################################################################################\n",
    "\n",
    "test.submit.df <- data.combined[892:1309, features]\n",
    "\n",
    "rpart.3.preds <- predict(rpart.3.cv.1$finalModel, test.submit.df, type = \"class\")\n",
    "table(rpart.3.preds)"
   ]
  },
  {
   "cell_type": "code",
   "execution_count": 104,
   "metadata": {
    "collapsed": false
   },
   "outputs": [
    {
     "data": {
      "text/plain": [
       "\n",
       "Call:\n",
       " randomForest(x = rf.train.temp, y = rf.label, ntree = 1000) \n",
       "               Type of random forest: classification\n",
       "                     Number of trees: 1000\n",
       "No. of variables tried at each split: 2\n",
       "\n",
       "        OOB estimate of  error rate: 16.16%\n",
       "Confusion matrix:\n",
       "    0   1 class.error\n",
       "0 502  47   0.0856102\n",
       "1  97 245   0.2836257"
      ]
     },
     "metadata": {},
     "output_type": "display_data"
    },
    {
     "data": {
      "text/plain": [
       "rf.preds\n",
       "  0   1 \n",
       "265 153 "
      ]
     },
     "metadata": {},
     "output_type": "display_data"
    }
   ],
   "source": [
    "# Let's try another approach now\n",
    "\n",
    "require(randomForest)\n",
    "\n",
    "features <- c(\"Pclass\",\"new.title\",\"ticket.party.size\",\"avg.fare\")\n",
    "rf.train.temp <- data.combined[1:891, features]\n",
    "\n",
    "set.seed(1234)\n",
    "rf.temp <- randomForest(x = rf.train.temp, y = rf.label, ntree = 1000)\n",
    "rf.temp\n",
    "\n",
    "test.submit.df <- data.combined[892:1309, features]\n",
    "\n",
    "rf.preds <- predict(rf.temp,test.submit.df)\n",
    "table(rf.preds)"
   ]
  },
  {
   "cell_type": "code",
   "execution_count": 105,
   "metadata": {
    "collapsed": false
   },
   "outputs": [
    {
     "data": {
      "text/html": [
       "0.0581072526903235"
      ],
      "text/latex": [
       "0.0581072526903235"
      ],
      "text/markdown": [
       "0.0581072526903235"
      ],
      "text/plain": [
       "[1] 0.05810725"
      ]
     },
     "metadata": {},
     "output_type": "display_data"
    },
    {
     "data": {
      "text/html": [
       "0.150870489252182"
      ],
      "text/latex": [
       "0.150870489252182"
      ],
      "text/markdown": [
       "0.150870489252182"
      ],
      "text/plain": [
       "[1] 0.1508705"
      ]
     },
     "metadata": {},
     "output_type": "display_data"
    },
    {
     "data": {
      "text/html": [
       "0.000750235926491705"
      ],
      "text/latex": [
       "0.000750235926491705"
      ],
      "text/markdown": [
       "0.000750235926491705"
      ],
      "text/plain": [
       "[1] 0.0007502359"
      ]
     },
     "metadata": {},
     "output_type": "display_data"
    },
    {
     "data": {
      "text/html": [
       "0.02319708627964"
      ],
      "text/latex": [
       "0.02319708627964"
      ],
      "text/markdown": [
       "0.02319708627964"
      ],
      "text/plain": [
       "[1] 0.02319709"
      ]
     },
     "metadata": {},
     "output_type": "display_data"
    },
    {
     "data": {
      "text/html": [
       "0.0163655845236166"
      ],
      "text/latex": [
       "0.0163655845236166"
      ],
      "text/markdown": [
       "0.0163655845236166"
      ],
      "text/plain": [
       "[1] 0.01636558"
      ]
     },
     "metadata": {},
     "output_type": "display_data"
    },
    {
     "data": {
      "text/html": [
       "0.0661609568228441"
      ],
      "text/latex": [
       "0.0661609568228441"
      ],
      "text/markdown": [
       "0.0661609568228441"
      ],
      "text/plain": [
       "[1] 0.06616096"
      ]
     },
     "metadata": {},
     "output_type": "display_data"
    },
    {
     "data": {
      "text/html": [
       "0.0166681731248932"
      ],
      "text/latex": [
       "0.0166681731248932"
      ],
      "text/markdown": [
       "0.0166681731248932"
      ],
      "text/plain": [
       "[1] 0.01666817"
      ]
     },
     "metadata": {},
     "output_type": "display_data"
    },
    {
     "data": {
      "text/html": [
       "0.166109402426593"
      ],
      "text/latex": [
       "0.166109402426593"
      ],
      "text/markdown": [
       "0.166109402426593"
      ],
      "text/plain": [
       "[1] 0.1661094"
      ]
     },
     "metadata": {},
     "output_type": "display_data"
    },
    {
     "data": {
      "text/html": [
       "0.047781241446021"
      ],
      "text/latex": [
       "0.047781241446021"
      ],
      "text/markdown": [
       "0.047781241446021"
      ],
      "text/plain": [
       "[1] 0.04778124"
      ]
     },
     "metadata": {},
     "output_type": "display_data"
    },
    {
     "data": {
      "text/html": [
       "0.0686184993871102"
      ],
      "text/latex": [
       "0.0686184993871102"
      ],
      "text/markdown": [
       "0.0686184993871102"
      ],
      "text/plain": [
       "[1] 0.0686185"
      ]
     },
     "metadata": {},
     "output_type": "display_data"
    },
    {
     "data": {
      "text/html": [
       "0.00224836524104344"
      ],
      "text/latex": [
       "0.00224836524104344"
      ],
      "text/markdown": [
       "0.00224836524104344"
      ],
      "text/plain": [
       "[1] 0.002248365"
      ]
     },
     "metadata": {},
     "output_type": "display_data"
    },
    {
     "data": {
      "text/html": [
       "0.1710514215785"
      ],
      "text/latex": [
       "0.1710514215785"
      ],
      "text/markdown": [
       "0.1710514215785"
      ],
      "text/plain": [
       "[1] 0.1710514"
      ]
     },
     "metadata": {},
     "output_type": "display_data"
    },
    {
     "data": {
      "text/html": [
       "0.0586049415199099"
      ],
      "text/latex": [
       "0.0586049415199099"
      ],
      "text/markdown": [
       "0.0586049415199099"
      ],
      "text/plain": [
       "[1] 0.05860494"
      ]
     },
     "metadata": {},
     "output_type": "display_data"
    },
    {
     "data": {
      "text/html": [
       "0.0520648422373027"
      ],
      "text/latex": [
       "0.0520648422373027"
      ],
      "text/markdown": [
       "0.0520648422373027"
      ],
      "text/plain": [
       "[1] 0.05206484"
      ]
     },
     "metadata": {},
     "output_type": "display_data"
    }
   ],
   "source": [
    "###################\n",
    "#\n",
    "# Alright...let's see how we can get things even better\n",
    "#\n",
    "\n",
    "library(infotheo)\n",
    "\n",
    "mutinformation(rf.label,data.combined$Pclass[1:891])\n",
    "mutinformation(rf.label,data.combined$Sex[1:891])\n",
    "mutinformation(rf.label,discretize(data.combined$Age[1:891]))\n",
    "mutinformation(rf.label,data.combined$SibSp[1:891])\n",
    "mutinformation(rf.label,data.combined$Parch[1:891])\n",
    "mutinformation(rf.label,discretize(data.combined$Fare[1:891]))\n",
    "mutinformation(rf.label,data.combined$Embarked[1:891])\n",
    "mutinformation(rf.label,data.combined$Title[1:891])\n",
    "mutinformation(rf.label,data.combined$FamilySize[1:891])\n",
    "mutinformation(rf.label,data.combined$Ticket.first.char[1:891])\n",
    "mutinformation(rf.label,data.combined$Cabin.multiple[1:891])\n",
    "mutinformation(rf.label,data.combined$new.title[1:891])\n",
    "mutinformation(rf.label,data.combined$ticket.party.size[1:891])\n",
    "mutinformation(rf.label,discretize(data.combined$avg.fare[1:891]))"
   ]
  },
  {
   "cell_type": "code",
   "execution_count": 106,
   "metadata": {
    "collapsed": false
   },
   "outputs": [
    {
     "data": {},
     "metadata": {},
     "output_type": "display_data"
    },
    {
     "data": {
      "image/png": "[encoded data removed]",
      "text/plain": [
       "plot without title"
      ]
     },
     "metadata": {},
     "output_type": "display_data"
    }
   ],
   "source": [
    "#-----------------\n",
    "#\n",
    "# Now we'll leverage the 'tsne' algorithm to create 2-D representation of our data suitable\n",
    "# for visualization starting with folks our model gets right very often - females and boys.\n",
    "\n",
    "library(Rtsne)\n",
    "\n",
    "most.correct <- data.combined[data.combined$new.title != \"Mr.\",]\n",
    "indexes <- which(most.correct$Survived != \"none\")\n",
    "\n",
    "tsne.1 <- Rtsne(most.correct[, features], check_duplicates = FALSE)\n",
    "ggplot(NULL, aes(x = tsne.1$Y[indexes,1], y = tsne.1$Y[indexes,2],\n",
    "                 color = most.correct$Survived[indexes])) +\n",
    "  geom_point() +\n",
    "  labs(color = \"Survived\") +\n",
    "  ggtitle(\"tsne 2D visualization of features for Females and Boys\")"
   ]
  },
  {
   "cell_type": "code",
   "execution_count": 107,
   "metadata": {
    "collapsed": false
   },
   "outputs": [
    {
     "data": {
      "text/html": [
       "0.257768655267313"
      ],
      "text/latex": [
       "0.257768655267313"
      ],
      "text/markdown": [
       "0.257768655267313"
      ],
      "text/plain": [
       "[1] 0.2577687"
      ]
     },
     "metadata": {},
     "output_type": "display_data"
    }
   ],
   "source": [
    "# To get a baseline, let's use conditional mutual information on the tsne x and\n",
    "# y features for females and boys in 1st and 2nd class. The intuition here is that\n",
    "# the combination of these features should be higher than any individual featueres\n",
    "# we looked at above.\n",
    "\n",
    "condinformation(most.correct$Survived[indexes], discretize(tsne.1$Y[indexes,]))"
   ]
  },
  {
   "cell_type": "code",
   "execution_count": 108,
   "metadata": {
    "collapsed": false
   },
   "outputs": [
    {
     "data": {
      "text/html": [
       "0.250693207779102"
      ],
      "text/latex": [
       "0.250693207779102"
      ],
      "text/markdown": [
       "0.250693207779102"
      ],
      "text/plain": [
       "[1] 0.2506932"
      ]
     },
     "metadata": {},
     "output_type": "display_data"
    }
   ],
   "source": [
    "# As one more comparison, we can leverage conditional mutual information using\n",
    "# the top two features used in our tree plot - new.title and Pclass\n",
    "\n",
    "condinformation(rf.label,data.combined[1:891,c(\"new.title\",\"Pclass\")])"
   ]
  },
  {
   "cell_type": "code",
   "execution_count": 109,
   "metadata": {
    "collapsed": false
   },
   "outputs": [
    {
     "data": {},
     "metadata": {},
     "output_type": "display_data"
    },
    {
     "data": {
      "image/png": "[encoded data removed]",
      "text/plain": [
       "plot without title"
      ]
     },
     "metadata": {},
     "output_type": "display_data"
    }
   ],
   "source": [
    "# OK. Now let's take a look at adult males since our model has the biggest\n",
    "# potential upside for improving (i.e., the tree predicts incorrectly for 86\n",
    "# adult males). Let's visualize with tsne.\n",
    "misters <- data.combined[data.combined$new.title == \"Mr.\",]\n",
    "indexes <- which(misters$Survived != \"none\")\n",
    "\n",
    "tsne.2 <- Rtsne(misters[, features], check_duplicates = FALSE)\n",
    "ggplot(NULL, aes(x = tsne.2$Y[indexes,1], y = tsne.2$Y[indexes,2],\n",
    "                 color = misters$Survived[indexes])) +\n",
    "  geom_point() +\n",
    "  labs(color = \"Survived\") +\n",
    "  ggtitle(\"tsne 2D visualization of Features for new.Title of 'Mr.'\")"
   ]
  },
  {
   "cell_type": "code",
   "execution_count": 110,
   "metadata": {
    "collapsed": false
   },
   "outputs": [
    {
     "data": {
      "text/html": [
       "0.0884191210158658"
      ],
      "text/latex": [
       "0.0884191210158658"
      ],
      "text/markdown": [
       "0.0884191210158658"
      ],
      "text/plain": [
       "[1] 0.08841912"
      ]
     },
     "metadata": {},
     "output_type": "display_data"
    }
   ],
   "source": [
    "# Now, conditional mutual information for tsne features for adult males\n",
    "condinformation(misters$Survived[indexes], discretize(tsne.2$Y[indexes,]))"
   ]
  },
  {
   "cell_type": "code",
   "execution_count": 111,
   "metadata": {
    "collapsed": false
   },
   "outputs": [
    {
     "data": {},
     "metadata": {},
     "output_type": "display_data"
    },
    {
     "data": {
      "image/png": "[encoded data removed]",
      "text/plain": [
       "plot without title"
      ]
     },
     "metadata": {},
     "output_type": "display_data"
    }
   ],
   "source": [
    "#\n",
    "# Idea - How about creating tsne features for all of the training data and\n",
    "# using them in our model?\n",
    "#\n",
    "\n",
    "tsne.3 <- Rtsne(data.combined[, features], check_duplicates = FALSE)\n",
    "ggplot(NULL, aes(x = tsne.3$Y[1:891, 1], y = tsne.3$Y[1:891, 2],\n",
    "                 color = data.combined$Survived[1:891])) +\n",
    "  geom_point() +\n",
    "  labs(color = \"Survived\") +\n",
    "  ggtitle(\"tsne 2D visualization of Features of all training data\")"
   ]
  },
  {
   "cell_type": "code",
   "execution_count": 112,
   "metadata": {
    "collapsed": false
   },
   "outputs": [
    {
     "data": {
      "text/html": [
       "0.214826544574073"
      ],
      "text/latex": [
       "0.214826544574073"
      ],
      "text/markdown": [
       "0.214826544574073"
      ],
      "text/plain": [
       "[1] 0.2148265"
      ]
     },
     "metadata": {},
     "output_type": "display_data"
    }
   ],
   "source": [
    "# Conditional Mutual information\n",
    "condinformation(data.combined$Survived[1:891], discretize(tsne.3$Y[1:891,]))\n",
    "\n",
    "# Add the tsne features to our data frame for use in model building\n",
    "data.combined$tsne.x <- tsne.3$Y[,1]\n",
    "data.combined$tsne.y <- tsne.3$Y[,2]"
   ]
  },
  {
   "cell_type": "code",
   "execution_count": 114,
   "metadata": {
    "collapsed": false
   },
   "outputs": [
    {
     "data": {},
     "metadata": {},
     "output_type": "display_data"
    },
    {
     "data": {
      "image/png": "[encoded data removed]",
      "text/plain": [
       "plot without title"
      ]
     },
     "metadata": {},
     "output_type": "display_data"
    }
   ],
   "source": [
    "tsne.4 <- Rtsne(data.combined[, features], check_duplicates = FALSE)\n",
    "ggplot(NULL, aes(x = tsne.4$Y[1:891, 1], y = tsne.4$Y[1:891, 2],\n",
    "                 color = data.combined$Survived[1:891])) +\n",
    "  geom_point() +\n",
    "  labs(color = \"Survived\") +\n",
    "  ggtitle(\"tsne 2D visualization of Features of all training data\")"
   ]
  }
 ],
 "metadata": {
  "anaconda-cloud": {},
  "kernelspec": {
   "display_name": "R",
   "language": "R",
   "name": "ir"
  },
  "language_info": {
   "codemirror_mode": "r",
   "file_extension": ".r",
   "mimetype": "text/x-r-source",
   "name": "R",
   "pygments_lexer": "r",
   "version": "3.3.2"
  }
 },
 "nbformat": 4,
 "nbformat_minor": 1
}
